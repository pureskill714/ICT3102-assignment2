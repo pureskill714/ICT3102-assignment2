{
  "cells": [
    {
      "cell_type": "markdown",
      "metadata": {
        "id": "r57qsJifS2tg"
      },
      "source": [
        "<h2> Click on the Runtime tab and click on Run All. It will take approximately about 30 minutes to run all the cells in the notebook if you are using Google Colab"
      ]
    },
    {
      "cell_type": "markdown",
      "metadata": {
        "id": "MYBKBdxS043G"
      },
      "source": [
        "# <b>Abstract</b>"
      ]
    },
    {
      "cell_type": "markdown",
      "metadata": {
        "id": "QZYdc12eV2u0"
      },
      "source": [
        "Beam Search is a search algorithm used in natural language processing and machine learning to generate sequences of text or make decisions. Beam Search has the ability to concurrently explore multiple potential paths or sequences.In essence, beam search helps generate text that's more coherent and contextually relevant by considering multiple possibilities and selecting the most promising ones as it progresses.\n",
        "\n",
        "The primary objective of this study is to evaluate and contrast the response time and memory usage of output text generation when Beam Search is used versus using default search.\n",
        "\n",
        "Our emphasis will be on two key domains :\n",
        "1. Text generation\n",
        "2. Machine translation\n",
        "\n",
        "For text generation, we will employ three distinct models GPT-2, DistilGPT-2, and BART from the HuggingSpace Transformers library. Each model will be given some input texts and both Beam Search and default search will be compared for text generation and the response time, as well as the memory usage will be recorded and compared.\n",
        "\n",
        "For machine translation, MarianMT, a machine translation framework is used for the translation. We will be translating text from English to three different languages, French, Bahasa Indonesia and Chinese. Each language will be translated using both Beam search and default search and the response time, as well as the memory usage will be recorded and compared.\n",
        "\n",
        "We will do three tests of using beam search for both text generation and machine learning. Specifically, the experiment will encompass three distinct scenarios utilizing 2, 7, and 25 beams, respectively to make the correlation between an increased number of beams and its consequential impact on both memory utilization and processing time"
      ]
    },
    {
      "cell_type": "markdown",
      "metadata": {
        "id": "cGcQAVTWYoux"
      },
      "source": [
        "# <b>Methodology</b>"
      ]
    },
    {
      "cell_type": "markdown",
      "metadata": {
        "id": "KYRB7syHA4V3"
      },
      "source": [
        "## <h3><b>Methodology for Text Generation</b><h3>"
      ]
    },
    {
      "cell_type": "markdown",
      "metadata": {
        "id": "P2yiRCQjBJdz"
      },
      "source": [
        "In this comparative analysis of text generation performance, three distinct models, GPT-2, DistilGPT-2 and BART have been selected to generate responses to both a creative and scientific input prompt.\n",
        "\n",
        "The inclusion of both creative and scientific prompts in our evaluation serves the purpose of assessing whether it takes more time or memory based on the nature of the input prompt.\n",
        "\n",
        "<b>Creative input prompt = \"Hello, my dog is cute and\"\n",
        "\n",
        "Scientific input prompt = \"In the world of Artificial Intelligence,\"</b>\n",
        "\n",
        "To ensure a fair assessment, a consistent maximum length of 100 tokens has been set for all input sequences. The Python time module is used for recording of the response time while the python memory-profiler module is used for recording the memory usage.\n",
        "\n",
        "To comprehensively evaluate the performance of each model, four distinct tests have been conducted per model. These tests involve varying the number of beams utilized during the generation process, specifically employing default search, 2 beams, 7 beams, and 25 beams search. The reason for using increasing number of beam search is to investigate potential variations in the quality of the generated text, as well as make comparisons of the response time and memory usage\n",
        "\n",
        "The expected output for both creative and scientific input prompts is the generation of coherent and extended sentences. The objective is to obtain responses that seamlessly continue and form a logical and contextually relevant narrative."
      ]
    },
    {
      "cell_type": "markdown",
      "metadata": {
        "id": "BVoHO2BKA6vv"
      },
      "source": [
        "## <h3><b>Methodology for Machine Translation</b><h3>"
      ]
    },
    {
      "cell_type": "markdown",
      "metadata": {
        "id": "RIexnt_kBSmV"
      },
      "source": [
        "In this comparative analysis of text translation performance, three distinct languages —French, Bahasa Indonesia, and Chinese—have been chosen to assess variations in response time and memory usage during the translation of English input prompts into each respective language.\n",
        "\n",
        "Each language will translate the following input prompt into their own respective languages :\n",
        "\n",
        "<b>\"Computers have revolutionized the way we live and work.\n",
        "The first electronic computer, ENIAC, was massive, weighing nearly 30 tons.\n",
        "Today's computers are exponentially smaller and more powerful. Moore's Law, formulated by Gordon Moore,\n",
        "predicted the doubling of transistors on a microchip every two years, driving rapid advancements.\n",
        "The binary system, the fundamental language of computers, uses 0s and 1s to represent information.\"</b>\n",
        "\n",
        "Each language will undergo four separate tests, employing beam search with widths of 2, 7,25 and default search (greedy algorithm). The reason for using increasing number of beam search is to investigate potential variations in the quality of the translated text, as well as make comparisons of the response times and memory usages\n",
        "\n",
        "The response time of each translation will be facilitated by the Python time module and the memory usage will be facilitated by the Python memory-profiler module"
      ]
    },
    {
      "cell_type": "markdown",
      "metadata": {
        "id": "ED7PuGoOQuIO"
      },
      "source": [
        "# <b>Install Necessary Libraries</b>\n"
      ]
    },
    {
      "cell_type": "code",
      "execution_count": null,
      "metadata": {
        "colab": {
          "base_uri": "https://localhost:8080/"
        },
        "id": "JZml41Np4bbp",
        "outputId": "dcf12101-cfa7-49fa-d7cc-021853fcfa5d"
      },
      "outputs": [
        {
          "name": "stdout",
          "output_type": "stream",
          "text": [
            "Requirement already satisfied: transformers in c:\\users\\rahee\\appdata\\local\\programs\\python\\python310\\lib\\site-packages (4.33.2)\n",
            "Requirement already satisfied: requests in c:\\users\\rahee\\appdata\\local\\programs\\python\\python310\\lib\\site-packages (from transformers) (2.28.1)\n",
            "Requirement already satisfied: numpy>=1.17 in c:\\users\\rahee\\appdata\\local\\programs\\python\\python310\\lib\\site-packages (from transformers) (1.23.1)\n",
            "Requirement already satisfied: tokenizers!=0.11.3,<0.14,>=0.11.1 in c:\\users\\rahee\\appdata\\local\\programs\\python\\python310\\lib\\site-packages (from transformers) (0.13.3)\n",
            "Requirement already satisfied: huggingface-hub<1.0,>=0.15.1 in c:\\users\\rahee\\appdata\\local\\programs\\python\\python310\\lib\\site-packages (from transformers) (0.17.1)\n",
            "Requirement already satisfied: tqdm>=4.27 in c:\\users\\rahee\\appdata\\local\\programs\\python\\python310\\lib\\site-packages (from transformers) (4.64.0)\n",
            "Requirement already satisfied: pyyaml>=5.1 in c:\\users\\rahee\\appdata\\local\\programs\\python\\python310\\lib\\site-packages (from transformers) (6.0.1)\n",
            "Requirement already satisfied: regex!=2019.12.17 in c:\\users\\rahee\\appdata\\local\\programs\\python\\python310\\lib\\site-packages (from transformers) (2023.8.8)\n",
            "Requirement already satisfied: filelock in c:\\users\\rahee\\appdata\\local\\programs\\python\\python310\\lib\\site-packages (from transformers) (3.7.1)\n",
            "Requirement already satisfied: safetensors>=0.3.1 in c:\\users\\rahee\\appdata\\local\\programs\\python\\python310\\lib\\site-packages (from transformers) (0.3.3)\n",
            "Requirement already satisfied: packaging>=20.0 in c:\\users\\rahee\\appdata\\local\\programs\\python\\python310\\lib\\site-packages (from transformers) (21.3)\n",
            "Requirement already satisfied: typing-extensions>=3.7.4.3 in c:\\users\\rahee\\appdata\\local\\programs\\python\\python310\\lib\\site-packages (from huggingface-hub<1.0,>=0.15.1->transformers) (4.7.1)\n",
            "Requirement already satisfied: fsspec in c:\\users\\rahee\\appdata\\local\\programs\\python\\python310\\lib\\site-packages (from huggingface-hub<1.0,>=0.15.1->transformers) (2023.9.1)\n",
            "Requirement already satisfied: pyparsing!=3.0.5,>=2.0.2 in c:\\users\\rahee\\appdata\\local\\programs\\python\\python310\\lib\\site-packages (from packaging>=20.0->transformers) (3.0.9)\n",
            "Requirement already satisfied: colorama in c:\\users\\rahee\\appdata\\local\\programs\\python\\python310\\lib\\site-packages (from tqdm>=4.27->transformers) (0.4.5)\n",
            "Requirement already satisfied: urllib3<1.27,>=1.21.1 in c:\\users\\rahee\\appdata\\local\\programs\\python\\python310\\lib\\site-packages (from requests->transformers) (1.26.12)\n",
            "Requirement already satisfied: charset-normalizer<3,>=2 in c:\\users\\rahee\\appdata\\local\\programs\\python\\python310\\lib\\site-packages (from requests->transformers) (2.1.1)\n",
            "Requirement already satisfied: idna<4,>=2.5 in c:\\users\\rahee\\appdata\\local\\programs\\python\\python310\\lib\\site-packages (from requests->transformers) (3.4)\n",
            "Requirement already satisfied: certifi>=2017.4.17 in c:\\users\\rahee\\appdata\\local\\programs\\python\\python310\\lib\\site-packages (from requests->transformers) (2022.9.24)\n"
          ]
        },
        {
          "name": "stderr",
          "output_type": "stream",
          "text": [
            "WARNING: Ignoring invalid distribution -orch (c:\\users\\rahee\\appdata\\local\\programs\\python\\python310\\lib\\site-packages)\n",
            "WARNING: Ignoring invalid distribution -illow (c:\\users\\rahee\\appdata\\local\\programs\\python\\python310\\lib\\site-packages)\n",
            "WARNING: Ignoring invalid distribution -orch (c:\\users\\rahee\\appdata\\local\\programs\\python\\python310\\lib\\site-packages)\n",
            "WARNING: Ignoring invalid distribution -illow (c:\\users\\rahee\\appdata\\local\\programs\\python\\python310\\lib\\site-packages)\n",
            "WARNING: Ignoring invalid distribution -orch (c:\\users\\rahee\\appdata\\local\\programs\\python\\python310\\lib\\site-packages)\n",
            "WARNING: Ignoring invalid distribution -illow (c:\\users\\rahee\\appdata\\local\\programs\\python\\python310\\lib\\site-packages)\n",
            "WARNING: Ignoring invalid distribution -orch (c:\\users\\rahee\\appdata\\local\\programs\\python\\python310\\lib\\site-packages)\n",
            "WARNING: Ignoring invalid distribution -illow (c:\\users\\rahee\\appdata\\local\\programs\\python\\python310\\lib\\site-packages)\n",
            "WARNING: Ignoring invalid distribution -orch (c:\\users\\rahee\\appdata\\local\\programs\\python\\python310\\lib\\site-packages)\n",
            "WARNING: Ignoring invalid distribution -illow (c:\\users\\rahee\\appdata\\local\\programs\\python\\python310\\lib\\site-packages)\n",
            "WARNING: Ignoring invalid distribution -orch (c:\\users\\rahee\\appdata\\local\\programs\\python\\python310\\lib\\site-packages)\n",
            "WARNING: Ignoring invalid distribution -illow (c:\\users\\rahee\\appdata\\local\\programs\\python\\python310\\lib\\site-packages)\n",
            "WARNING: You are using pip version 22.0.4; however, version 23.3.1 is available.\n",
            "You should consider upgrading via the 'C:\\Users\\rahee\\AppData\\Local\\Programs\\Python\\Python310\\python.exe -m pip install --upgrade pip' command.\n"
          ]
        },
        {
          "name": "stdout",
          "output_type": "stream",
          "text": [
            "Requirement already satisfied: SentencePiece in c:\\users\\rahee\\appdata\\local\\programs\\python\\python310\\lib\\site-packages (0.1.99)\n"
          ]
        },
        {
          "name": "stderr",
          "output_type": "stream",
          "text": [
            "WARNING: Ignoring invalid distribution -orch (c:\\users\\rahee\\appdata\\local\\programs\\python\\python310\\lib\\site-packages)\n",
            "WARNING: Ignoring invalid distribution -illow (c:\\users\\rahee\\appdata\\local\\programs\\python\\python310\\lib\\site-packages)\n",
            "WARNING: Ignoring invalid distribution -orch (c:\\users\\rahee\\appdata\\local\\programs\\python\\python310\\lib\\site-packages)\n",
            "WARNING: Ignoring invalid distribution -illow (c:\\users\\rahee\\appdata\\local\\programs\\python\\python310\\lib\\site-packages)\n",
            "WARNING: Ignoring invalid distribution -orch (c:\\users\\rahee\\appdata\\local\\programs\\python\\python310\\lib\\site-packages)\n",
            "WARNING: Ignoring invalid distribution -illow (c:\\users\\rahee\\appdata\\local\\programs\\python\\python310\\lib\\site-packages)\n",
            "WARNING: Ignoring invalid distribution -orch (c:\\users\\rahee\\appdata\\local\\programs\\python\\python310\\lib\\site-packages)\n",
            "WARNING: Ignoring invalid distribution -illow (c:\\users\\rahee\\appdata\\local\\programs\\python\\python310\\lib\\site-packages)\n",
            "WARNING: Ignoring invalid distribution -orch (c:\\users\\rahee\\appdata\\local\\programs\\python\\python310\\lib\\site-packages)\n",
            "WARNING: Ignoring invalid distribution -illow (c:\\users\\rahee\\appdata\\local\\programs\\python\\python310\\lib\\site-packages)\n",
            "WARNING: Ignoring invalid distribution -orch (c:\\users\\rahee\\appdata\\local\\programs\\python\\python310\\lib\\site-packages)\n",
            "WARNING: Ignoring invalid distribution -illow (c:\\users\\rahee\\appdata\\local\\programs\\python\\python310\\lib\\site-packages)\n",
            "WARNING: You are using pip version 22.0.4; however, version 23.3.1 is available.\n",
            "You should consider upgrading via the 'C:\\Users\\rahee\\AppData\\Local\\Programs\\Python\\Python310\\python.exe -m pip install --upgrade pip' command.\n"
          ]
        },
        {
          "name": "stdout",
          "output_type": "stream",
          "text": [
            "Requirement already satisfied: memory-profiler in c:\\users\\rahee\\appdata\\local\\programs\\python\\python310\\lib\\site-packages (0.61.0)\n",
            "Requirement already satisfied: psutil in c:\\users\\rahee\\appdata\\local\\programs\\python\\python310\\lib\\site-packages (from memory-profiler) (5.9.1)\n"
          ]
        },
        {
          "name": "stderr",
          "output_type": "stream",
          "text": [
            "WARNING: Ignoring invalid distribution -orch (c:\\users\\rahee\\appdata\\local\\programs\\python\\python310\\lib\\site-packages)\n",
            "WARNING: Ignoring invalid distribution -illow (c:\\users\\rahee\\appdata\\local\\programs\\python\\python310\\lib\\site-packages)\n",
            "WARNING: Ignoring invalid distribution -orch (c:\\users\\rahee\\appdata\\local\\programs\\python\\python310\\lib\\site-packages)\n",
            "WARNING: Ignoring invalid distribution -illow (c:\\users\\rahee\\appdata\\local\\programs\\python\\python310\\lib\\site-packages)\n",
            "WARNING: Ignoring invalid distribution -orch (c:\\users\\rahee\\appdata\\local\\programs\\python\\python310\\lib\\site-packages)\n",
            "WARNING: Ignoring invalid distribution -illow (c:\\users\\rahee\\appdata\\local\\programs\\python\\python310\\lib\\site-packages)\n",
            "WARNING: Ignoring invalid distribution -orch (c:\\users\\rahee\\appdata\\local\\programs\\python\\python310\\lib\\site-packages)\n",
            "WARNING: Ignoring invalid distribution -illow (c:\\users\\rahee\\appdata\\local\\programs\\python\\python310\\lib\\site-packages)\n",
            "WARNING: Ignoring invalid distribution -orch (c:\\users\\rahee\\appdata\\local\\programs\\python\\python310\\lib\\site-packages)\n",
            "WARNING: Ignoring invalid distribution -illow (c:\\users\\rahee\\appdata\\local\\programs\\python\\python310\\lib\\site-packages)\n",
            "WARNING: Ignoring invalid distribution -orch (c:\\users\\rahee\\appdata\\local\\programs\\python\\python310\\lib\\site-packages)\n",
            "WARNING: Ignoring invalid distribution -illow (c:\\users\\rahee\\appdata\\local\\programs\\python\\python310\\lib\\site-packages)\n",
            "WARNING: You are using pip version 22.0.4; however, version 23.3.1 is available.\n",
            "You should consider upgrading via the 'C:\\Users\\rahee\\AppData\\Local\\Programs\\Python\\Python310\\python.exe -m pip install --upgrade pip' command.\n"
          ]
        }
      ],
      "source": [
        "!pip install transformers\n",
        "!pip install SentencePiece\n",
        "!pip install memory-profiler"
      ]
    },
    {
      "cell_type": "markdown",
      "metadata": {
        "id": "JgphNwq9LlyP"
      },
      "source": [
        "<h3><b>Check Initial available memory</b><h3>"
      ]
    },
    {
      "cell_type": "code",
      "execution_count": null,
      "metadata": {
        "colab": {
          "base_uri": "https://localhost:8080/"
        },
        "id": "x42l6oVHLnus",
        "outputId": "a2d28d6e-c32d-4912-ce3d-5af205509c98"
      },
      "outputs": [
        {
          "name": "stdout",
          "output_type": "stream",
          "text": [
            "Initial Available Memory: 3243.61 MB\n"
          ]
        }
      ],
      "source": [
        "import psutil\n",
        "\n",
        "# Get available memory in bytes\n",
        "available_memory = psutil.virtual_memory().available\n",
        "\n",
        "# Convert bytes to megabytes for readability\n",
        "available_memory_mb = available_memory / (1024 ** 2)\n",
        "\n",
        "print(f\"Initial Available Memory: {available_memory_mb:.2f} MB\")"
      ]
    },
    {
      "cell_type": "markdown",
      "metadata": {
        "id": "lohEBWyg8u0X"
      },
      "source": [
        "# <b>Text Generation (Creative input prompt)</b>"
      ]
    },
    {
      "cell_type": "markdown",
      "metadata": {
        "id": "OFZM0goB9Bna"
      },
      "source": [
        "## <h3><b>Text Generation with GPT-2 (Creative input prompt)</b><h3>"
      ]
    },
    {
      "cell_type": "markdown",
      "metadata": {
        "id": "9JMLn_J-89cb"
      },
      "source": [
        "<h3><b>Define the model and prompt</b><h3>"
      ]
    },
    {
      "cell_type": "code",
      "execution_count": null,
      "metadata": {
        "id": "umL8IZrk89cc"
      },
      "outputs": [],
      "source": [
        "import time\n",
        "from transformers import GPT2LMHeadModel, GPT2Tokenizer\n",
        "from memory_profiler import memory_usage\n",
        "\n",
        "model_name = \"gpt2\"\n",
        "tokenizer = GPT2Tokenizer.from_pretrained(model_name)\n",
        "model = GPT2LMHeadModel.from_pretrained(model_name)\n",
        "\n",
        "input_text = \"Hello, my dog is cute and\"\n",
        "input_ids = tokenizer(input_text, return_tensors=\"pt\").input_ids"
      ]
    },
    {
      "cell_type": "markdown",
      "metadata": {
        "id": "9UQKm5gZ89cc"
      },
      "source": [
        "<h3><b>Text generation with GPT-2 using two beams (creative)</b><h3>"
      ]
    },
    {
      "cell_type": "code",
      "execution_count": null,
      "metadata": {
        "colab": {
          "base_uri": "https://localhost:8080/"
        },
        "id": "glflTFmR89cc",
        "outputId": "6c122af6-779a-4481-800c-4357e711dfbc"
      },
      "outputs": [
        {
          "name": "stderr",
          "output_type": "stream",
          "text": [
            "The attention mask and the pad token id were not set. As a consequence, you may observe unexpected behavior. Please pass your input's `attention_mask` to obtain reliable results.\n",
            "Setting `pad_token_id` to `eos_token_id`:50256 for open-end generation.\n",
            "The attention mask and the pad token id were not set. As a consequence, you may observe unexpected behavior. Please pass your input's `attention_mask` to obtain reliable results.\n",
            "Setting `pad_token_id` to `eos_token_id`:50256 for open-end generation.\n"
          ]
        },
        {
          "name": "stdout",
          "output_type": "stream",
          "text": [
            "Generated Text GPT-2 with Beam Search using two beam (creative): Hello, my dog is cute and I love him. I'm not sure if he's a good dog, but I think he has a lot of personality. He's very outgoing and he loves to play with his friends.\n",
            "\n",
            "\"I'm a big fan of his, and it's nice to have him around. It's been a long time since I've had a dog that I didn't like, so I just wanted to give him a chance to grow up and have a happy life\n",
            "Response Time: 3.70 seconds\n",
            "Memory Usage: 752.39 MB\n"
          ]
        }
      ],
      "source": [
        "import time\n",
        "from transformers import GPT2LMHeadModel, GPT2Tokenizer\n",
        "from memory_profiler import memory_usage\n",
        "\n",
        "# Function for text generation with two beam search\n",
        "def generate_text_gpt2_twoBeam():\n",
        "    output = model.generate(input_ids, max_length=100, num_beams=2,no_repeat_ngram_size=2,early_stopping=True)\n",
        "    generated_text = tokenizer.decode(output[0], skip_special_tokens=True)\n",
        "    return generated_text\n",
        "\n",
        "# Testing for text generation using gpt2 model with two beam\n",
        "# Measure response time\n",
        "start_time = time.time()\n",
        "# Generate text using beam search\n",
        "generated_text_gpt2_twoBeam = generate_text_gpt2_twoBeam()\n",
        "end_time = time.time()\n",
        "response_time_gpt2_twoBeam = end_time - start_time\n",
        "# Measure memory usage\n",
        "memory_used_gpt2_twoBeam = memory_usage(generate_text_gpt2_twoBeam)\n",
        "\n",
        "# Print results for text generation with gpt2 model using two beam\n",
        "print(\"Generated Text GPT-2 with Beam Search using two beam (creative):\", generated_text_gpt2_twoBeam)\n",
        "print(f\"Response Time: {response_time_gpt2_twoBeam:.2f} seconds\")\n",
        "print(f\"Memory Usage: {max(memory_used_gpt2_twoBeam):.2f} MB\")"
      ]
    },
    {
      "cell_type": "markdown",
      "metadata": {
        "id": "rck66BQ789cc"
      },
      "source": [
        "<h3><b>Text generation with GPT-2 using seven beams (creative)</b><h3>"
      ]
    },
    {
      "cell_type": "code",
      "execution_count": null,
      "metadata": {
        "colab": {
          "base_uri": "https://localhost:8080/"
        },
        "id": "3q3pxJJx89cd",
        "outputId": "67576a97-6344-4083-9589-8133512b5b74"
      },
      "outputs": [
        {
          "name": "stderr",
          "output_type": "stream",
          "text": [
            "The attention mask and the pad token id were not set. As a consequence, you may observe unexpected behavior. Please pass your input's `attention_mask` to obtain reliable results.\n",
            "Setting `pad_token_id` to `eos_token_id`:50256 for open-end generation.\n",
            "The attention mask and the pad token id were not set. As a consequence, you may observe unexpected behavior. Please pass your input's `attention_mask` to obtain reliable results.\n",
            "Setting `pad_token_id` to `eos_token_id`:50256 for open-end generation.\n"
          ]
        },
        {
          "name": "stdout",
          "output_type": "stream",
          "text": [
            "Generated Text GPT-2 with Beam Search using seven beams (creative): Hello, my dog is cute and I love him so much. I'm so happy to have him back.\n",
            "\n",
            "Thank you for taking the time out of your busy schedule to let me know what you think of my blog. It's been a long time coming, but I hope you enjoy it as much as I do.\n",
            "Response Time: 3.60 seconds\n",
            "Memory Usage: 805.06 MB\n"
          ]
        }
      ],
      "source": [
        "import time\n",
        "from transformers import GPT2LMHeadModel, GPT2Tokenizer\n",
        "from memory_profiler import memory_usage\n",
        "\n",
        "# Function for text generation with seven beam search\n",
        "def generate_text_gpt2_sevenBeam():\n",
        "    output = model.generate(input_ids, max_length=100, num_beams=7,no_repeat_ngram_size=2, early_stopping=True)\n",
        "    generated_text = tokenizer.decode(output[0], skip_special_tokens=True)\n",
        "    return generated_text\n",
        "\n",
        "# Testing for text generation using gpt2 model with seven beams\n",
        "# Measure response time\n",
        "start_time = time.time()\n",
        "# Generate text using beam search\n",
        "generated_text_gpt2_sevenBeam = generate_text_gpt2_sevenBeam()\n",
        "end_time = time.time()\n",
        "response_time_gpt2_sevenBeam = end_time - start_time\n",
        "# Measure memory usage\n",
        "memory_used_gpt2_sevenBeam = memory_usage(generate_text_gpt2_sevenBeam)\n",
        "\n",
        "# Print results for text generation with gpt2 model using seven beam\n",
        "print(\"Generated Text GPT-2 with Beam Search using seven beams (creative):\", generated_text_gpt2_sevenBeam)\n",
        "print(f\"Response Time: {response_time_gpt2_sevenBeam:.2f} seconds\")\n",
        "print(f\"Memory Usage: {max(memory_used_gpt2_sevenBeam):.2f} MB\")"
      ]
    },
    {
      "cell_type": "markdown",
      "metadata": {
        "id": "ifPrL66F89cd"
      },
      "source": [
        "<h3><b>Text generation with GPT-2 using twenty-five beams (creative)</b><h3>"
      ]
    },
    {
      "cell_type": "code",
      "execution_count": null,
      "metadata": {
        "colab": {
          "base_uri": "https://localhost:8080/"
        },
        "id": "EzKUjsh389cd",
        "outputId": "2e306427-3a8e-4b3d-b018-7a32848f08d9"
      },
      "outputs": [
        {
          "name": "stderr",
          "output_type": "stream",
          "text": [
            "The attention mask and the pad token id were not set. As a consequence, you may observe unexpected behavior. Please pass your input's `attention_mask` to obtain reliable results.\n",
            "Setting `pad_token_id` to `eos_token_id`:50256 for open-end generation.\n",
            "The attention mask and the pad token id were not set. As a consequence, you may observe unexpected behavior. Please pass your input's `attention_mask` to obtain reliable results.\n",
            "Setting `pad_token_id` to `eos_token_id`:50256 for open-end generation.\n"
          ]
        },
        {
          "name": "stdout",
          "output_type": "stream",
          "text": [
            "Generated Text GPT-2 with Beam Search using twenty-five beams (creative): Hello, my dog is cute and I can't wait to see what she has in store for me in the future.\n",
            "\n",
            "Thank you for reading. Please take a moment to follow me on Twitter – @lastwordBkerr, or find her on Facebook.\n",
            "\n",
            "\n",
            "Interested in writing for LastWordOnSports? If so, check out our \"Join Our Team\" page to find out how.\n",
            "Response Time: 9.08 seconds\n",
            "Memory Usage: 1148.42 MB\n"
          ]
        }
      ],
      "source": [
        "import time\n",
        "from transformers import GPT2LMHeadModel, GPT2Tokenizer\n",
        "from memory_profiler import memory_usage\n",
        "\n",
        "# Function for text generation with twenty-five beam search\n",
        "def generate_text_gpt2_twentyFiveBeam():\n",
        "    output = model.generate(input_ids, max_length=100, num_beams=25,no_repeat_ngram_size=2, early_stopping=True)\n",
        "    generated_text = tokenizer.decode(output[0], skip_special_tokens=True)\n",
        "    return generated_text\n",
        "\n",
        "# Testing for text generation using gpt2 model with twenty-five beams\n",
        "# Measure response time\n",
        "start_time = time.time()\n",
        "# Generate text using beam search\n",
        "generated_text_gpt2_twentyFiveBeam = generate_text_gpt2_twentyFiveBeam()\n",
        "end_time = time.time()\n",
        "response_time_gpt2_twentyFiveBeam = end_time - start_time\n",
        "# Measure memory usage\n",
        "memory_used_gpt2_twentyFiveBeam = memory_usage(generate_text_gpt2_twentyFiveBeam)\n",
        "\n",
        "# Print results for text generation with gpt2 model using twenty-five beam\n",
        "print(\"Generated Text GPT-2 with Beam Search using twenty-five beams (creative):\", generated_text_gpt2_twentyFiveBeam)\n",
        "print(f\"Response Time: {response_time_gpt2_twentyFiveBeam:.2f} seconds\")\n",
        "print(f\"Memory Usage: {max(memory_used_gpt2_twentyFiveBeam):.2f} MB\")"
      ]
    },
    {
      "cell_type": "markdown",
      "metadata": {
        "id": "p3BiifQ_89cd"
      },
      "source": [
        "<h3><b>Text generation with GPT-2 using normal search (creative)</b><h3>"
      ]
    },
    {
      "cell_type": "code",
      "execution_count": null,
      "metadata": {
        "colab": {
          "base_uri": "https://localhost:8080/"
        },
        "id": "4TfP-tzS89cd",
        "outputId": "28f7fba8-60ee-41a9-e66b-1c6df3e47d78"
      },
      "outputs": [
        {
          "name": "stderr",
          "output_type": "stream",
          "text": [
            "The attention mask and the pad token id were not set. As a consequence, you may observe unexpected behavior. Please pass your input's `attention_mask` to obtain reliable results.\n",
            "Setting `pad_token_id` to `eos_token_id`:50256 for open-end generation.\n",
            "The attention mask and the pad token id were not set. As a consequence, you may observe unexpected behavior. Please pass your input's `attention_mask` to obtain reliable results.\n",
            "Setting `pad_token_id` to `eos_token_id`:50256 for open-end generation.\n"
          ]
        },
        {
          "name": "stdout",
          "output_type": "stream",
          "text": [
            "Generated Text GPT-2 using normal search (creative): Hello, my dog is cute and I love him. I'm not sure if he's a good dog, but I think he is a great dog. He's very friendly and he loves to play with me.\n",
            "\n",
            "I'm a big fan of the dog and his personality. His personality is very positive and very happy. It's nice to see him in a situation where he can be a little bit more relaxed. The dog has a very good sense of humor and is always smiling. When\n",
            "Response Time: 2.42 seconds\n",
            "Memory Usage: 742.01 MB\n"
          ]
        }
      ],
      "source": [
        "import time\n",
        "from transformers import GPT2LMHeadModel, GPT2Tokenizer\n",
        "from memory_profiler import memory_usage\n",
        "\n",
        "# Define the model and tokenizer\n",
        "model_name = \"gpt2\"\n",
        "tokenizer = GPT2Tokenizer.from_pretrained(model_name)\n",
        "model = GPT2LMHeadModel.from_pretrained(model_name)\n",
        "\n",
        "# Input text\n",
        "input_text = \"Hello, my dog is cute and\"\n",
        "\n",
        "# Tokenize the input text\n",
        "input_ids = tokenizer.encode(input_text, return_tensors=\"pt\")\n",
        "\n",
        "def generate_text_gpt2_normalSearch():\n",
        "    output = model.generate(input_ids,no_repeat_ngram_size=2,max_length=100)\n",
        "    generated_text_normal = tokenizer.decode(output[0], skip_special_tokens=True)\n",
        "    return generated_text_normal\n",
        "\n",
        "# Testing for text generation using gpt2 model with normal search\n",
        "# Measure response time\n",
        "start_time = time.time()\n",
        "# Generate text using beam search\n",
        "generated_text_gpt2_normalSearch = generate_text_gpt2_normalSearch()\n",
        "end_time = time.time()\n",
        "response_time_gpt2_normalSearch = end_time - start_time\n",
        "# Measure memory usage\n",
        "memory_used_gpt2_normalSearch = memory_usage(generate_text_gpt2_normalSearch)\n",
        "\n",
        "# Print results for text generation with gpt2 model using normal search\n",
        "print(\"Generated Text GPT-2 using normal search (creative):\", generated_text_gpt2_normalSearch)\n",
        "print(f\"Response Time: {response_time_gpt2_normalSearch:.2f} seconds\")\n",
        "print(f\"Memory Usage: {max(memory_used_gpt2_normalSearch):.2f} MB\")"
      ]
    },
    {
      "cell_type": "markdown",
      "metadata": {
        "id": "IJxojSlY9PfO"
      },
      "source": [
        "## <h3><b>Text Generation with DistilGPT-2 (Creative input prompt)</b><h3>"
      ]
    },
    {
      "cell_type": "markdown",
      "metadata": {
        "id": "ZIGVRFLU9iqQ"
      },
      "source": [
        "<h3><b>Text generation with DistilGPT-2 using two beams (creative)</b><h3>"
      ]
    },
    {
      "cell_type": "code",
      "execution_count": null,
      "metadata": {
        "colab": {
          "base_uri": "https://localhost:8080/"
        },
        "id": "S61yM9oY9iqW",
        "outputId": "d3ca9865-bc1e-48d2-fb62-bac7f2276be9"
      },
      "outputs": [
        {
          "name": "stderr",
          "output_type": "stream",
          "text": [
            "The attention mask and the pad token id were not set. As a consequence, you may observe unexpected behavior. Please pass your input's `attention_mask` to obtain reliable results.\n",
            "Setting `pad_token_id` to `eos_token_id`:50256 for open-end generation.\n",
            "The attention mask and the pad token id were not set. As a consequence, you may observe unexpected behavior. Please pass your input's `attention_mask` to obtain reliable results.\n",
            "Setting `pad_token_id` to `eos_token_id`:50256 for open-end generation.\n"
          ]
        },
        {
          "name": "stdout",
          "output_type": "stream",
          "text": [
            "Generated Text DistilGPT-2 with Beam Search using two beams (creative): Hello, my dog is cute and I love him.\n",
            "\n",
            "I love her and she loves me too. She is so cute, I can't wait to see her again.\n",
            "Response Time: 0.65 seconds\n",
            "Memory Usage: 568.31 MB\n"
          ]
        }
      ],
      "source": [
        "import time\n",
        "from transformers import GPT2LMHeadModel, GPT2Tokenizer\n",
        "from memory_profiler import memory_usage\n",
        "\n",
        "# Load the pre-trained DistilGPT-2 model and tokenizer\n",
        "model_name = \"distilgpt2\"\n",
        "tokenizer = GPT2Tokenizer.from_pretrained(model_name)\n",
        "model = GPT2LMHeadModel.from_pretrained(model_name)\n",
        "\n",
        "# Input text\n",
        "input_text = \"Hello, my dog is cute and\"\n",
        "\n",
        "# Tokenize the input text\n",
        "input_ids = tokenizer.encode(input_text, return_tensors=\"pt\")\n",
        "\n",
        "# Function for text generation with two beam search\n",
        "def generate_text_distilgpt2_twoBeam():\n",
        "    output = model.generate(\n",
        "    input_ids,\n",
        "    max_length=100,\n",
        "    num_beams=2,  # Number of beams for beam search\n",
        "    length_penalty=2.0,\n",
        "    no_repeat_ngram_size=2,\n",
        "    early_stopping=True\n",
        "    )\n",
        "    generated_text = tokenizer.decode(output[0], skip_special_tokens=True)\n",
        "    return generated_text\n",
        "\n",
        "\n",
        "# Testing for text generation using DistilGPT-2 model model with two beams\n",
        "# Measure response time\n",
        "start_time = time.time()\n",
        "# Generate text using beam search\n",
        "generated_text_distilgpt2_twoBeam = generate_text_distilgpt2_twoBeam()\n",
        "end_time = time.time()\n",
        "response_time_distilgpt2_twoBeam = end_time - start_time\n",
        "# Measure memory usage\n",
        "memory_used_distilgpt2_twoBeam = memory_usage(generate_text_distilgpt2_twoBeam)\n",
        "\n",
        "# Print results for text generation with distilgpt2 model using two beam search\n",
        "print(\"Generated Text DistilGPT-2 with Beam Search using two beams (creative):\", generated_text_distilgpt2_twoBeam)\n",
        "print(f\"Response Time: {response_time_distilgpt2_twoBeam:.2f} seconds\")\n",
        "print(f\"Memory Usage: {max(memory_used_distilgpt2_twoBeam):.2f} MB\")"
      ]
    },
    {
      "cell_type": "markdown",
      "metadata": {
        "id": "wcfW6u3s9iqW"
      },
      "source": [
        "<h3><b>Text generation with DistilGPT-2 using seven beams (creative)</b><h3>"
      ]
    },
    {
      "cell_type": "code",
      "execution_count": null,
      "metadata": {
        "colab": {
          "base_uri": "https://localhost:8080/"
        },
        "id": "pvS7a0KM9iqX",
        "outputId": "83cbcf75-2d02-41fa-e7da-341feff4c6d0"
      },
      "outputs": [
        {
          "name": "stderr",
          "output_type": "stream",
          "text": [
            "The attention mask and the pad token id were not set. As a consequence, you may observe unexpected behavior. Please pass your input's `attention_mask` to obtain reliable results.\n",
            "Setting `pad_token_id` to `eos_token_id`:50256 for open-end generation.\n",
            "The attention mask and the pad token id were not set. As a consequence, you may observe unexpected behavior. Please pass your input's `attention_mask` to obtain reliable results.\n",
            "Setting `pad_token_id` to `eos_token_id`:50256 for open-end generation.\n"
          ]
        },
        {
          "name": "stdout",
          "output_type": "stream",
          "text": [
            "Generated Text DistilGPT-2 with Beam Search using seven beams (creative): Hello, my dog is cute and I love to play with it, but I don't know what to do about it. I'm not sure if I'll be able to make it to the next level, or if it will take me a long time to get to that level.\n",
            "\n",
            "If you have any questions, please let me know in the comments.\n",
            "Response Time: 2.30 seconds\n",
            "Memory Usage: 618.23 MB\n"
          ]
        }
      ],
      "source": [
        "import time\n",
        "from transformers import GPT2LMHeadModel, GPT2Tokenizer\n",
        "from memory_profiler import memory_usage\n",
        "\n",
        "# Load the pre-trained DistilGPT-2 model and tokenizer\n",
        "model_name = \"distilgpt2\"\n",
        "tokenizer = GPT2Tokenizer.from_pretrained(model_name)\n",
        "model = GPT2LMHeadModel.from_pretrained(model_name)\n",
        "\n",
        "# Input text\n",
        "input_text = \"Hello, my dog is cute and\"\n",
        "\n",
        "# Tokenize the input text\n",
        "input_ids = tokenizer.encode(input_text, return_tensors=\"pt\")\n",
        "\n",
        "# Function for text generation with seven beam search\n",
        "def generate_text_distilgpt2_sevenBeam():\n",
        "    output = model.generate(\n",
        "    input_ids,\n",
        "    max_length=100,\n",
        "    num_beams=7,  # Number of beams for beam search\n",
        "    length_penalty=2.0,\n",
        "    no_repeat_ngram_size=2,\n",
        "    early_stopping=True\n",
        "    )\n",
        "    generated_text = tokenizer.decode(output[0], skip_special_tokens=True)\n",
        "    return generated_text\n",
        "\n",
        "\n",
        "# Testing for text generation using DistilGPT-2 model with seven beams\n",
        "# Measure response time\n",
        "start_time = time.time()\n",
        "# Generate text using beam search\n",
        "generated_text_distilgpt2_sevenBeam = generate_text_distilgpt2_sevenBeam()\n",
        "end_time = time.time()\n",
        "response_time_distilgpt2_sevenBeam = end_time - start_time\n",
        "# Measure memory usage\n",
        "memory_used_distilgpt2_sevenBeam = memory_usage(generate_text_distilgpt2_sevenBeam)\n",
        "\n",
        "# Print results for text generation with gpt2 model using normal search\n",
        "print(\"Generated Text DistilGPT-2 with Beam Search using seven beams (creative):\", generated_text_distilgpt2_sevenBeam)\n",
        "print(f\"Response Time: {response_time_distilgpt2_sevenBeam:.2f} seconds\")\n",
        "print(f\"Memory Usage: {max(memory_used_distilgpt2_sevenBeam):.2f} MB\")"
      ]
    },
    {
      "cell_type": "markdown",
      "metadata": {
        "id": "qaJhfGzh9iqX"
      },
      "source": [
        "<h3><b>Text generation with DistilGPT-2 using twenty-five beams (creative)</b><h3>"
      ]
    },
    {
      "cell_type": "code",
      "execution_count": null,
      "metadata": {
        "colab": {
          "base_uri": "https://localhost:8080/"
        },
        "id": "daJoVB0p9iqX",
        "outputId": "3d84f565-8e42-4415-9908-c64d627a4527"
      },
      "outputs": [
        {
          "name": "stderr",
          "output_type": "stream",
          "text": [
            "The attention mask and the pad token id were not set. As a consequence, you may observe unexpected behavior. Please pass your input's `attention_mask` to obtain reliable results.\n",
            "Setting `pad_token_id` to `eos_token_id`:50256 for open-end generation.\n",
            "The attention mask and the pad token id were not set. As a consequence, you may observe unexpected behavior. Please pass your input's `attention_mask` to obtain reliable results.\n",
            "Setting `pad_token_id` to `eos_token_id`:50256 for open-end generation.\n"
          ]
        },
        {
          "name": "stdout",
          "output_type": "stream",
          "text": [
            "Generated Text DistilGPT-2 with Beam Search using twenty-five beams (creative): Hello, my dog is cute and I love to play with it, but I don't know what to do about it. I'm not sure if I'll be able to give it a try.\n",
            "\n",
            "If you have any questions, please let me know in the comments below.\n",
            "Response Time: 3.37 seconds\n",
            "Memory Usage: 696.91 MB\n"
          ]
        }
      ],
      "source": [
        "import time\n",
        "from transformers import GPT2LMHeadModel, GPT2Tokenizer\n",
        "from memory_profiler import memory_usage\n",
        "\n",
        "# Load the pre-trained DistilGPT-2 model and tokenizer\n",
        "model_name = \"distilgpt2\"\n",
        "tokenizer = GPT2Tokenizer.from_pretrained(model_name)\n",
        "model = GPT2LMHeadModel.from_pretrained(model_name)\n",
        "\n",
        "# Input text\n",
        "input_text = \"Hello, my dog is cute and\"\n",
        "\n",
        "# Tokenize the input text\n",
        "input_ids = tokenizer.encode(input_text, return_tensors=\"pt\")\n",
        "\n",
        "# Function for text generation with twenty-five beam search\n",
        "def generate_text_distilgpt2_twentyFiveBeam():\n",
        "    output = model.generate(\n",
        "    input_ids,\n",
        "    max_length=100,\n",
        "    num_beams=25,  # Number of beams for beam search\n",
        "    length_penalty=2.0,\n",
        "    no_repeat_ngram_size=2,\n",
        "    early_stopping=True\n",
        "    )\n",
        "    generated_text = tokenizer.decode(output[0], skip_special_tokens=True)\n",
        "    return generated_text\n",
        "\n",
        "\n",
        "# Testing for text generation using DistilGPT-2 model model with twenty five beams\n",
        "# Measure response time\n",
        "start_time = time.time()\n",
        "# Generate text using beam search\n",
        "generated_text_distilgpt2_twentyFiveBeam = generate_text_distilgpt2_twentyFiveBeam()\n",
        "end_time = time.time()\n",
        "response_time_distilgpt2_twentyFiveBeam = end_time - start_time\n",
        "# Measure memory usage\n",
        "memory_used_distilgpt2_twentyFiveBeam = memory_usage(generate_text_distilgpt2_twentyFiveBeam)\n",
        "\n",
        "# Print results for text generation with DistilGPT-2 model using twenty-five beam search\n",
        "print(\"Generated Text DistilGPT-2 with Beam Search using twenty-five beams (creative):\", generated_text_distilgpt2_twentyFiveBeam)\n",
        "print(f\"Response Time: {response_time_distilgpt2_twentyFiveBeam:.2f} seconds\")\n",
        "print(f\"Memory Usage: {max(memory_used_distilgpt2_twentyFiveBeam):.2f} MB\")"
      ]
    },
    {
      "cell_type": "markdown",
      "metadata": {
        "id": "rY6Z3IuM9iqX"
      },
      "source": [
        "<h3><b>Text generation with DistilGPT-2 using normal search (creative)</b><h3>"
      ]
    },
    {
      "cell_type": "code",
      "execution_count": null,
      "metadata": {
        "colab": {
          "base_uri": "https://localhost:8080/"
        },
        "id": "ggRDd4ry9iqX",
        "outputId": "eafa4d23-457d-431c-8485-5baa261a213b"
      },
      "outputs": [
        {
          "name": "stderr",
          "output_type": "stream",
          "text": [
            "The attention mask and the pad token id were not set. As a consequence, you may observe unexpected behavior. Please pass your input's `attention_mask` to obtain reliable results.\n",
            "Setting `pad_token_id` to `eos_token_id`:50256 for open-end generation.\n",
            "The attention mask and the pad token id were not set. As a consequence, you may observe unexpected behavior. Please pass your input's `attention_mask` to obtain reliable results.\n",
            "Setting `pad_token_id` to `eos_token_id`:50256 for open-end generation.\n"
          ]
        },
        {
          "name": "stdout",
          "output_type": "stream",
          "text": [
            "Generated Text distilgpt2 using normal search (creative): Hello, my dog is cute and I love him. I'm so happy to have him, and he's so cute.\n",
            "\n",
            "I love you.\n",
            "Response Time: 0.38 seconds\n",
            "Memory Usage: 568.98 MB\n"
          ]
        }
      ],
      "source": [
        "import time\n",
        "from transformers import GPT2LMHeadModel, GPT2Tokenizer\n",
        "from memory_profiler import memory_usage\n",
        "\n",
        "# Define the model and tokenizer\n",
        "model_name = \"distilgpt2\"\n",
        "tokenizer = GPT2Tokenizer.from_pretrained(model_name)\n",
        "model = GPT2LMHeadModel.from_pretrained(model_name)\n",
        "\n",
        "# Input text\n",
        "input_text = \"Hello, my dog is cute and\"\n",
        "\n",
        "# Tokenize the input text\n",
        "input_ids = tokenizer.encode(input_text, return_tensors=\"pt\")\n",
        "\n",
        "def generate_text_distilgpt2_normalSearch():\n",
        "    output = model.generate(input_ids,no_repeat_ngram_size=2,max_length=100)\n",
        "    generated_text_normal = tokenizer.decode(output[0], skip_special_tokens=True)\n",
        "    return generated_text_normal\n",
        "\n",
        "# Testing for text generation using distilgpt2 model with normal search\n",
        "# Measure response time\n",
        "start_time = time.time()\n",
        "# Generate text using beam search\n",
        "generated_text_distilgpt2_normalSearch = generate_text_distilgpt2_normalSearch()\n",
        "end_time = time.time()\n",
        "response_time_distilgpt2_normalSearch = end_time - start_time\n",
        "# Measure memory usage\n",
        "memory_used_distilgpt2_normalSearch = memory_usage(generate_text_distilgpt2_normalSearch)\n",
        "\n",
        "# Print results for text generation with distilgpt2 model using normal search\n",
        "print(\"Generated Text distilgpt2 using normal search (creative):\", generated_text_distilgpt2_normalSearch)\n",
        "print(f\"Response Time: {response_time_distilgpt2_normalSearch:.2f} seconds\")\n",
        "print(f\"Memory Usage: {max(memory_used_distilgpt2_normalSearch):.2f} MB\")"
      ]
    },
    {
      "cell_type": "markdown",
      "metadata": {
        "id": "tmDVADn19rcl"
      },
      "source": [
        "##  <h3><b>Text Generation with BART (Creative input prompt)</b><h3>"
      ]
    },
    {
      "cell_type": "markdown",
      "metadata": {
        "id": "6mQn-E0099OO"
      },
      "source": [
        "<h3><b>Text generation with BART using two beams (creative)</b><h3>"
      ]
    },
    {
      "cell_type": "code",
      "execution_count": null,
      "metadata": {
        "colab": {
          "base_uri": "https://localhost:8080/"
        },
        "id": "LP9P6n_C99OP",
        "outputId": "46b9851b-7c8d-4558-81c5-dc3ea0a5bec4"
      },
      "outputs": [
        {
          "name": "stdout",
          "output_type": "stream",
          "text": [
            "Generated Text BART with Beam Search using two beams (creative): Hello, my dog is cute and cute. Hello, I have a dog that is also cute, and a little bit weird. hello, My dog, is adorable and weird and kind of weird, too. Hey, it's a puppy. What do you say to that?\n",
            "Response Time: 4.25 seconds\n",
            "Memory Usage: 1769.09 MB\n"
          ]
        }
      ],
      "source": [
        "import time\n",
        "from transformers import BartTokenizer, BartForConditionalGeneration\n",
        "from memory_profiler import memory_usage\n",
        "\n",
        "# Load BART model and tokenizer\n",
        "tokenizer = BartTokenizer.from_pretrained(\"facebook/bart-large-cnn\")\n",
        "model = BartForConditionalGeneration.from_pretrained(\"facebook/bart-large-cnn\")\n",
        "\n",
        "# Set the prompt for text generation\n",
        "prompt = \"Hello, my dog is cute and\"\n",
        "\n",
        "# Tokenize the input text\n",
        "input_ids = tokenizer.encode(prompt, return_tensors=\"pt\", add_special_tokens=True)\n",
        "\n",
        "# Function for text generation with two beam search\n",
        "def generate_text_bart_twoBeam():\n",
        "  # Generate text using beam search\n",
        "    output = model.generate(\n",
        "        input_ids,\n",
        "        max_length=100,\n",
        "        num_beams=2,\n",
        "        no_repeat_ngram_size=2,\n",
        "        early_stopping=True,\n",
        "    )\n",
        "    generated_text = tokenizer.decode(output[0], skip_special_tokens=True)\n",
        "    return generated_text\n",
        "\n",
        "\n",
        "# Testing for text generation using BART model with two beams\n",
        "# Measure response time\n",
        "start_time = time.time()\n",
        "# Generate text using beam search\n",
        "generated_text_bart_twoBeam = generate_text_bart_twoBeam()\n",
        "end_time = time.time()\n",
        "response_time_bart_twoBeam = end_time - start_time\n",
        "# Measure memory usage\n",
        "memory_used_bart_twoBeam = memory_usage(generate_text_bart_twoBeam)\n",
        "\n",
        "# Print results for text generation with BART model using five beam\n",
        "print(\"Generated Text BART with Beam Search using two beams (creative):\", generated_text_bart_twoBeam)\n",
        "print(f\"Response Time: {response_time_bart_twoBeam:.2f} seconds\")\n",
        "print(f\"Memory Usage: {max(memory_used_bart_twoBeam):.2f} MB\")"
      ]
    },
    {
      "cell_type": "markdown",
      "metadata": {
        "id": "M8MeGbfh99OP"
      },
      "source": [
        "<h3><b>Text generation with BART using seven beams (creative)</b><h3>"
      ]
    },
    {
      "cell_type": "code",
      "execution_count": null,
      "metadata": {
        "colab": {
          "base_uri": "https://localhost:8080/"
        },
        "id": "sQzI6a3299OP",
        "outputId": "b6355dcf-8f82-477e-ec28-86aeeb98cc74"
      },
      "outputs": [
        {
          "name": "stdout",
          "output_type": "stream",
          "text": [
            "Generated Text BART with Beam Search using seven beams (creative): Hello, my dog is cute and I love him. Here's how you can get your own dog. Visit CNN.com/soulmatestories to see more videos from CNN's \"Soulmatistry\" series. Follow us on Twitter @CNNOpinion and @MailOnlinePics.\n",
            "Response Time: 5.94 seconds\n",
            "Memory Usage: 1709.95 MB\n"
          ]
        }
      ],
      "source": [
        "import time\n",
        "from transformers import BartTokenizer, BartForConditionalGeneration\n",
        "from memory_profiler import memory_usage\n",
        "\n",
        "# Load BART model and tokenizer\n",
        "tokenizer = BartTokenizer.from_pretrained(\"facebook/bart-large-cnn\")\n",
        "model = BartForConditionalGeneration.from_pretrained(\"facebook/bart-large-cnn\")\n",
        "\n",
        "# Set the prompt for text generation\n",
        "prompt = \"Hello, my dog is cute and\"\n",
        "\n",
        "# Tokenize the input text\n",
        "input_ids = tokenizer.encode(prompt, return_tensors=\"pt\", add_special_tokens=True)\n",
        "\n",
        "# Function for text generation with two beam search\n",
        "def generate_text_bart_sevenBeam():\n",
        "  # Generate text using beam search\n",
        "    output = model.generate(\n",
        "        input_ids,\n",
        "        max_length=100,\n",
        "        num_beams=7,\n",
        "        no_repeat_ngram_size=2,\n",
        "        early_stopping=True,\n",
        "    )\n",
        "    generated_text = tokenizer.decode(output[0], skip_special_tokens=True)\n",
        "    return generated_text\n",
        "\n",
        "\n",
        "# Testing for text generation using BART model with seven beams\n",
        "# Measure response time\n",
        "start_time = time.time()\n",
        "# Generate text using beam search\n",
        "generated_text_bart_sevenBeam = generate_text_bart_sevenBeam()\n",
        "end_time = time.time()\n",
        "response_time_bart_sevenBeam = end_time - start_time\n",
        "# Measure memory usage\n",
        "memory_used_bart_sevenBeam = memory_usage(generate_text_bart_sevenBeam)\n",
        "\n",
        "# Print results for text generation with BART model using seven beam\n",
        "print(\"Generated Text BART with Beam Search using seven beams (creative):\", generated_text_bart_sevenBeam)\n",
        "print(f\"Response Time: {response_time_bart_sevenBeam:.2f} seconds\")\n",
        "print(f\"Memory Usage: {max(memory_used_bart_sevenBeam):.2f} MB\")"
      ]
    },
    {
      "cell_type": "markdown",
      "metadata": {
        "id": "zNQilrk_99OQ"
      },
      "source": [
        "<h3><b>Text generation with BART using twenty-five beams (creative)</b><h3>"
      ]
    },
    {
      "cell_type": "code",
      "execution_count": null,
      "metadata": {
        "colab": {
          "base_uri": "https://localhost:8080/"
        },
        "id": "Eq3C6REW99OQ",
        "outputId": "730cb917-81f8-4e51-952c-6bd59f27e441"
      },
      "outputs": [
        {
          "name": "stdout",
          "output_type": "stream",
          "text": [
            "Generated Text BART with Beam Search using twentyFive beams (creative): Hello, my dog is cute and I love him. Here's how you can get your own dog. Have you ever had a dog? Share your story with CNN iReport. Send photos and videos of your dog to jennifer.smith@dailymail.co.uk.\n",
            "Response Time: 8.31 seconds\n",
            "Memory Usage: 2124.85 MB\n"
          ]
        }
      ],
      "source": [
        "import time\n",
        "from transformers import BartTokenizer, BartForConditionalGeneration\n",
        "from memory_profiler import memory_usage\n",
        "\n",
        "# Load BART model and tokenizer\n",
        "tokenizer = BartTokenizer.from_pretrained(\"facebook/bart-large-cnn\")\n",
        "model = BartForConditionalGeneration.from_pretrained(\"facebook/bart-large-cnn\")\n",
        "\n",
        "# Set the prompt for text generation\n",
        "prompt = \"Hello, my dog is cute and\"\n",
        "\n",
        "# Tokenize the input text\n",
        "input_ids = tokenizer.encode(prompt, return_tensors=\"pt\", add_special_tokens=True)\n",
        "\n",
        "# Function for text generation with twenty-five beam search\n",
        "def generate_text_bart_twentyFiveBeam():\n",
        "  # Generate text using beam search\n",
        "    output = model.generate(\n",
        "        input_ids,\n",
        "        max_length=100,\n",
        "        num_beams=25,\n",
        "        no_repeat_ngram_size=2,\n",
        "        early_stopping=True,\n",
        "    )\n",
        "    generated_text = tokenizer.decode(output[0], skip_special_tokens=True)\n",
        "    return generated_text\n",
        "\n",
        "\n",
        "# Testing for text generation using BART model with twenty Five beams\n",
        "# Measure response time\n",
        "start_time = time.time()\n",
        "# Generate text using beam search\n",
        "generated_text_bart_twentyFiveBeam = generate_text_bart_twentyFiveBeam()\n",
        "end_time = time.time()\n",
        "response_time_bart_twentyFiveBeam = end_time - start_time\n",
        "# Measure memory usage\n",
        "memory_used_bart_twentyFiveBeam = memory_usage(generate_text_bart_twentyFiveBeam)\n",
        "\n",
        "# Print results for text generation with BART model using twenty five beam\n",
        "print(\"Generated Text BART with Beam Search using twentyFive beams (creative):\", generated_text_bart_twentyFiveBeam)\n",
        "print(f\"Response Time: {response_time_bart_twentyFiveBeam:.2f} seconds\")\n",
        "print(f\"Memory Usage: {max(memory_used_bart_twentyFiveBeam):.2f} MB\")"
      ]
    },
    {
      "cell_type": "markdown",
      "metadata": {
        "id": "lx3ureQ_99OQ"
      },
      "source": [
        "<h3><b>Text generation with BART using normal search (creative)</b><h3>"
      ]
    },
    {
      "cell_type": "code",
      "execution_count": null,
      "metadata": {
        "colab": {
          "base_uri": "https://localhost:8080/"
        },
        "id": "Gj5wcRSM99OQ",
        "outputId": "4077e001-2960-4875-c85e-ae9319d5c5cb"
      },
      "outputs": [
        {
          "name": "stderr",
          "output_type": "stream",
          "text": [
            "C:\\Users\\rahee\\AppData\\Local\\Programs\\Python\\Python310\\lib\\site-packages\\transformers\\generation\\configuration_utils.py:399: UserWarning: `num_beams` is set to 1. However, `early_stopping` is set to `True` -- this flag is only used in beam-based generation modes. You should set `num_beams>1` or unset `early_stopping`.\n",
            "  warnings.warn(\n",
            "C:\\Users\\rahee\\AppData\\Local\\Programs\\Python\\Python310\\lib\\site-packages\\transformers\\generation\\configuration_utils.py:418: UserWarning: `num_beams` is set to 1. However, `length_penalty` is set to `2.0` -- this flag is only used in beam-based generation modes. You should set `num_beams>1` or unset `length_penalty`.\n",
            "  warnings.warn(\n"
          ]
        },
        {
          "name": "stdout",
          "output_type": "stream",
          "text": [
            "Generated Text BART with Beam Search using normal search (creative): Hello, my dog is cute and cute. Hello, I'm a dog.Hello. My dog's cute, cute! Hello. I’m adog. hello, your dog”s cute,. cute? Hello! Your dog, is adorable. Please.\n",
            "Response Time: 2.51 seconds\n",
            "Memory Usage: 1717.61 MB\n"
          ]
        }
      ],
      "source": [
        "import time\n",
        "from transformers import BartTokenizer, BartForConditionalGeneration\n",
        "from memory_profiler import memory_usage\n",
        "\n",
        "# Load BART model and tokenizer\n",
        "tokenizer = BartTokenizer.from_pretrained(\"facebook/bart-large-cnn\")\n",
        "model = BartForConditionalGeneration.from_pretrained(\"facebook/bart-large-cnn\")\n",
        "\n",
        "# Set the prompt for text generation\n",
        "prompt = \"Hello, my dog is cute and\"\n",
        "\n",
        "# Tokenize the input text\n",
        "input_ids = tokenizer.encode(prompt, return_tensors=\"pt\", add_special_tokens=True)\n",
        "\n",
        "# Function for text generation with normal beam search\n",
        "def generate_text_bart_normalSearch():\n",
        "  # Generate text using normal search\n",
        "    output = model.generate(\n",
        "        input_ids,\n",
        "        max_length=100,\n",
        "        num_beams=1, # Set to 1 for greedy (normal) search\n",
        "        no_repeat_ngram_size=2\n",
        "    )\n",
        "    generated_text = tokenizer.decode(output[0], skip_special_tokens=True)\n",
        "    return generated_text\n",
        "\n",
        "\n",
        "# Testing for text generation using BART model with normal search\n",
        "# Measure response time\n",
        "start_time = time.time()\n",
        "# Generate text using beam search\n",
        "generated_text_bart_normalSearch = generate_text_bart_normalSearch()\n",
        "end_time = time.time()\n",
        "response_time_bart_normalSearch = end_time - start_time\n",
        "# Measure memory usage\n",
        "memory_used_bart_normalSearch = memory_usage(generate_text_bart_normalSearch)\n",
        "\n",
        "# Print results for text generation with gpt2 model using twenty five beam\n",
        "print(\"Generated Text BART with Beam Search using normal search (creative):\", generated_text_bart_normalSearch)\n",
        "print(f\"Response Time: {response_time_bart_normalSearch:.2f} seconds\")\n",
        "print(f\"Memory Usage: {max(memory_used_bart_normalSearch):.2f} MB\")"
      ]
    },
    {
      "cell_type": "markdown",
      "metadata": {
        "id": "00Oh9beb_46P"
      },
      "source": [
        "# <b>Text Generation (Scientific input prompt)</b>"
      ]
    },
    {
      "cell_type": "markdown",
      "metadata": {
        "id": "VeH0LK9U_DAF"
      },
      "source": [
        "##<h3><b>Text Generation with GPT-2 (Scientific input prompt)</b><h3>"
      ]
    },
    {
      "cell_type": "markdown",
      "metadata": {
        "id": "dw6fZ3dY_Unb"
      },
      "source": [
        "<h3><b>Define the model and prompt</b><h3>"
      ]
    },
    {
      "cell_type": "code",
      "execution_count": null,
      "metadata": {
        "id": "iqmrGNLy_M7s"
      },
      "outputs": [],
      "source": [
        "import time\n",
        "from transformers import GPT2LMHeadModel, GPT2Tokenizer\n",
        "from memory_profiler import memory_usage\n",
        "\n",
        "model_name = \"gpt2\"\n",
        "tokenizer = GPT2Tokenizer.from_pretrained(model_name)\n",
        "model = GPT2LMHeadModel.from_pretrained(model_name)\n",
        "\n",
        "input_text_scientific = \"In the world of Artificial Intelligence,\"\n",
        "input_ids_scientific = tokenizer(input_text_scientific, return_tensors=\"pt\").input_ids"
      ]
    },
    {
      "cell_type": "markdown",
      "metadata": {
        "id": "ILQdRxo0_kSH"
      },
      "source": [
        "<h3><b>Text generation with GPT-2 using two beams (scientific)</b><h3>"
      ]
    },
    {
      "cell_type": "code",
      "execution_count": null,
      "metadata": {
        "colab": {
          "base_uri": "https://localhost:8080/"
        },
        "id": "e4u-iig__pfa",
        "outputId": "f616ad52-8c09-4a9d-a2b3-769952a55fda"
      },
      "outputs": [
        {
          "name": "stderr",
          "output_type": "stream",
          "text": [
            "The attention mask and the pad token id were not set. As a consequence, you may observe unexpected behavior. Please pass your input's `attention_mask` to obtain reliable results.\n",
            "Setting `pad_token_id` to `eos_token_id`:50256 for open-end generation.\n",
            "The attention mask and the pad token id were not set. As a consequence, you may observe unexpected behavior. Please pass your input's `attention_mask` to obtain reliable results.\n",
            "Setting `pad_token_id` to `eos_token_id`:50256 for open-end generation.\n"
          ]
        },
        {
          "name": "stdout",
          "output_type": "stream",
          "text": [
            "Generated Text (GPT-2 with Beam Search using two beam (scientific): In the world of Artificial Intelligence, there is no such thing as a \"good\" AI. It is simply a tool that can be used to improve the quality of life of its users.\n",
            "\n",
            "In this article, we will look at how to create a good AI that will be able to do things that humans can't do. We will also discuss how we can use AI to help us improve our lives. In the future, I hope you will join us on this journey.\n",
            "Response Time: 3.21 seconds\n",
            "Memory Usage: 680.62 MB\n"
          ]
        }
      ],
      "source": [
        "import time\n",
        "from transformers import GPT2LMHeadModel, GPT2Tokenizer\n",
        "from memory_profiler import memory_usage\n",
        "\n",
        "# Function for text generation with two beam search\n",
        "def generate_text_gpt2_twoBeam_scientific():\n",
        "    output = model.generate(input_ids_scientific, max_length=100, num_beams=2,no_repeat_ngram_size=2,early_stopping=True)\n",
        "    generated_text = tokenizer.decode(output[0], skip_special_tokens=True)\n",
        "    return generated_text\n",
        "\n",
        "# Testing for text generation using gpt2 model with two beam\n",
        "# Measure response time\n",
        "start_time = time.time()\n",
        "# Generate text using beam search\n",
        "generated_text_gpt2_twoBeam_scientific = generate_text_gpt2_twoBeam_scientific()\n",
        "end_time = time.time()\n",
        "response_time_gpt2_twoBeam_scientific = end_time - start_time\n",
        "# Measure memory usage\n",
        "memory_used_gpt2_twoBeam_scientific = memory_usage(generate_text_gpt2_twoBeam_scientific)\n",
        "\n",
        "# Print results for text generation with gpt2 model using two beam\n",
        "print(\"Generated Text (GPT-2 with Beam Search using two beam (scientific):\", generated_text_gpt2_twoBeam_scientific)\n",
        "print(f\"Response Time: {response_time_gpt2_twoBeam_scientific:.2f} seconds\")\n",
        "print(f\"Memory Usage: {max(memory_used_gpt2_twoBeam_scientific):.2f} MB\")"
      ]
    },
    {
      "cell_type": "markdown",
      "metadata": {
        "id": "HlrMpJxbKOI9"
      },
      "source": [
        "<h3><b>Text generation with GPT-2 using seven beams (scientific)</b><h3>"
      ]
    },
    {
      "cell_type": "code",
      "execution_count": null,
      "metadata": {
        "colab": {
          "base_uri": "https://localhost:8080/"
        },
        "id": "-_JCPj8BKUEc",
        "outputId": "970fae4d-0486-4e98-e86f-2cce4bda9aed"
      },
      "outputs": [
        {
          "name": "stderr",
          "output_type": "stream",
          "text": [
            "The attention mask and the pad token id were not set. As a consequence, you may observe unexpected behavior. Please pass your input's `attention_mask` to obtain reliable results.\n",
            "Setting `pad_token_id` to `eos_token_id`:50256 for open-end generation.\n",
            "The attention mask and the pad token id were not set. As a consequence, you may observe unexpected behavior. Please pass your input's `attention_mask` to obtain reliable results.\n",
            "Setting `pad_token_id` to `eos_token_id`:50256 for open-end generation.\n"
          ]
        },
        {
          "name": "stdout",
          "output_type": "stream",
          "text": [
            "Generated Text (GPT-2 with Beam Search using seven beam (scientific): In the world of Artificial Intelligence, there is no such thing as a \"good\" AI. There is only a certain amount of good AI that is good enough for us to be able to do what we want with it.\n",
            "\n",
            "The problem is that we don't know how good the AI will be. We can't predict what will happen in the future, but we can predict how well it will perform. That means we need to know what kind of AI is going to come out of the\n",
            "Response Time: 5.66 seconds\n",
            "Memory Usage: 784.31 MB\n"
          ]
        }
      ],
      "source": [
        "import time\n",
        "from transformers import GPT2LMHeadModel, GPT2Tokenizer\n",
        "from memory_profiler import memory_usage\n",
        "\n",
        "# Function for text generation with two beam search\n",
        "def generate_text_gpt2_sevenBeam_scientific():\n",
        "    output = model.generate(input_ids_scientific, max_length=100, num_beams=7,no_repeat_ngram_size=2,early_stopping=True)\n",
        "    generated_text = tokenizer.decode(output[0], skip_special_tokens=True)\n",
        "    return generated_text\n",
        "\n",
        "# Testing for text generation using gpt2 model with seven beam\n",
        "# Measure response time\n",
        "start_time = time.time()\n",
        "# Generate text using beam search\n",
        "generated_text_gpt2_sevenBeam_scientific = generate_text_gpt2_sevenBeam_scientific()\n",
        "end_time = time.time()\n",
        "response_time_gpt2_sevenBeam_scientific = end_time - start_time\n",
        "# Measure memory usage\n",
        "memory_used_gpt2_sevenBeam_scientific = memory_usage(generate_text_gpt2_sevenBeam_scientific)\n",
        "\n",
        "# Print results for text generation with gpt2 model using seven beam\n",
        "print(\"Generated Text (GPT-2 with Beam Search using seven beam (scientific):\", generated_text_gpt2_sevenBeam_scientific)\n",
        "print(f\"Response Time: {response_time_gpt2_sevenBeam_scientific:.2f} seconds\")\n",
        "print(f\"Memory Usage: {max(memory_used_gpt2_sevenBeam_scientific):.2f} MB\")"
      ]
    },
    {
      "cell_type": "markdown",
      "metadata": {
        "id": "pUzbzeyNPXhr"
      },
      "source": [
        "<h3><b>Text generation with GPT-2 using twenty-five beams (scientific)</b><h3>"
      ]
    },
    {
      "cell_type": "code",
      "execution_count": null,
      "metadata": {
        "colab": {
          "base_uri": "https://localhost:8080/"
        },
        "id": "e4CLAgRPPaX6",
        "outputId": "104e12fe-45af-4305-dfbd-65bc902c1217"
      },
      "outputs": [
        {
          "name": "stderr",
          "output_type": "stream",
          "text": [
            "The attention mask and the pad token id were not set. As a consequence, you may observe unexpected behavior. Please pass your input's `attention_mask` to obtain reliable results.\n",
            "Setting `pad_token_id` to `eos_token_id`:50256 for open-end generation.\n",
            "The attention mask and the pad token id were not set. As a consequence, you may observe unexpected behavior. Please pass your input's `attention_mask` to obtain reliable results.\n",
            "Setting `pad_token_id` to `eos_token_id`:50256 for open-end generation.\n"
          ]
        },
        {
          "name": "stdout",
          "output_type": "stream",
          "text": [
            "Generated Text (GPT-2 with Beam Search using twenty Five beam (scientific): In the world of Artificial Intelligence, there is no such thing as artificial intelligence. In fact, the term \"AI\" is often used as a synonym for \"intelligent\" or \"advanced\" AI.\n",
            "\n",
            "In this article, we will look at some of the ways in which AI can be used to improve the quality of our lives. We will also discuss how we can use AI to change the way we live, work, and interact with our friends and family, as well as\n",
            "Response Time: 12.29 seconds\n",
            "Memory Usage: 1163.44 MB\n"
          ]
        }
      ],
      "source": [
        "import time\n",
        "from transformers import GPT2LMHeadModel, GPT2Tokenizer\n",
        "from memory_profiler import memory_usage\n",
        "\n",
        "# Function for text generation with twenty five beam search\n",
        "def generate_text_gpt2_twentyFiveBeam_scientific():\n",
        "    output = model.generate(input_ids_scientific, max_length=100, num_beams=25,no_repeat_ngram_size=2,early_stopping=True)\n",
        "    generated_text = tokenizer.decode(output[0], skip_special_tokens=True)\n",
        "    return generated_text\n",
        "\n",
        "# Testing for text generation using gpt2 model with twenty five beam\n",
        "# Measure response time\n",
        "start_time = time.time()\n",
        "# Generate text using beam search\n",
        "generated_text_gpt2_twentyFiveBeam_scientific = generate_text_gpt2_twentyFiveBeam_scientific()\n",
        "end_time = time.time()\n",
        "response_time_gpt2_twentyFiveBeam_scientific = end_time - start_time\n",
        "# Measure memory usage\n",
        "memory_used_gpt2_twentyFiveBeam_scientific = memory_usage(generate_text_gpt2_twentyFiveBeam_scientific)\n",
        "\n",
        "# Print results for text generation with gpt2 model using twenty Five beam\n",
        "print(\"Generated Text (GPT-2 with Beam Search using twenty Five beam (scientific):\", generated_text_gpt2_twentyFiveBeam_scientific)\n",
        "print(f\"Response Time: {response_time_gpt2_twentyFiveBeam_scientific:.2f} seconds\")\n",
        "print(f\"Memory Usage: {max(memory_used_gpt2_twentyFiveBeam_scientific):.2f} MB\")"
      ]
    },
    {
      "cell_type": "markdown",
      "metadata": {
        "id": "n8sJYI360rLx"
      },
      "source": [
        "<h3><b>Text generation with GPT-2 using normal search (scientific)</b><h3>"
      ]
    },
    {
      "cell_type": "code",
      "execution_count": null,
      "metadata": {
        "colab": {
          "base_uri": "https://localhost:8080/"
        },
        "id": "HFi4Z8-70rhz",
        "outputId": "589d1b8f-a56f-4213-b833-24524e6666ea"
      },
      "outputs": [
        {
          "name": "stderr",
          "output_type": "stream",
          "text": [
            "The attention mask and the pad token id were not set. As a consequence, you may observe unexpected behavior. Please pass your input's `attention_mask` to obtain reliable results.\n",
            "Setting `pad_token_id` to `eos_token_id`:50256 for open-end generation.\n",
            "The attention mask and the pad token id were not set. As a consequence, you may observe unexpected behavior. Please pass your input's `attention_mask` to obtain reliable results.\n",
            "Setting `pad_token_id` to `eos_token_id`:50256 for open-end generation.\n"
          ]
        },
        {
          "name": "stdout",
          "output_type": "stream",
          "text": [
            "Generated Text GPT-2 using normal search (scientific): In the world of Artificial Intelligence, there are many different ways to think about it. Some are more abstract, some are deeper, and some have more concrete implications.\n",
            "\n",
            "The first is that we can think of AI as a kind of \"machine learning\" system. It's a system that can learn from the human mind and learn to recognize and respond to human needs. The human brain is a machine that learns from a human's needs, but it can also learn and adapt to new situations.\n",
            "Response Time: 2.32 seconds\n",
            "Memory Usage: 663.43 MB\n"
          ]
        }
      ],
      "source": [
        "import time\n",
        "from transformers import GPT2LMHeadModel, GPT2Tokenizer\n",
        "from memory_profiler import memory_usage\n",
        "\n",
        "# Define the model and tokenizer\n",
        "model_name = \"gpt2\"\n",
        "tokenizer = GPT2Tokenizer.from_pretrained(model_name)\n",
        "model = GPT2LMHeadModel.from_pretrained(model_name)\n",
        "\n",
        "# Input text\n",
        "input_text_scientific = \"In the world of Artificial Intelligence,\"\n",
        "\n",
        "# Tokenize the input text\n",
        "input_ids_scientific = tokenizer.encode(input_text_scientific, return_tensors=\"pt\")\n",
        "\n",
        "def generate_text_gpt2_normalSearch_scientific():\n",
        "    output = model.generate(input_ids_scientific,no_repeat_ngram_size=2,max_length=100)\n",
        "    generated_text_normal = tokenizer.decode(output[0], skip_special_tokens=True)\n",
        "    return generated_text_normal\n",
        "\n",
        "# Testing for text generation using gpt2 model with normal search\n",
        "# Measure response time\n",
        "start_time = time.time()\n",
        "# Generate text using beam search\n",
        "generated_text_gpt2_normalSearch_scientific = generate_text_gpt2_normalSearch_scientific()\n",
        "end_time = time.time()\n",
        "response_time_gpt2_normalSearch_scientific = end_time - start_time\n",
        "# Measure memory usage\n",
        "memory_used_gpt2_normalSearch_scientific = memory_usage(generate_text_gpt2_normalSearch_scientific)\n",
        "\n",
        "# Print results for text generation with gpt2 model using normal search\n",
        "print(\"Generated Text GPT-2 using normal search (scientific):\", generated_text_gpt2_normalSearch_scientific)\n",
        "print(f\"Response Time: {response_time_gpt2_normalSearch_scientific:.2f} seconds\")\n",
        "print(f\"Memory Usage: {max(memory_used_gpt2_normalSearch_scientific):.2f} MB\")"
      ]
    },
    {
      "cell_type": "markdown",
      "metadata": {
        "id": "tZ0uJWi1U9_O"
      },
      "source": [
        "## <h3><b>Text Generation with DistilGPT-2 (Scientific input prompt)</b><h3>"
      ]
    },
    {
      "cell_type": "markdown",
      "metadata": {
        "id": "AsFOuY9CVRZT"
      },
      "source": [
        "<h3><b>Text generation with DistilGPT-2 using two beams (scientific)</b><h3>"
      ]
    },
    {
      "cell_type": "code",
      "execution_count": null,
      "metadata": {
        "colab": {
          "base_uri": "https://localhost:8080/"
        },
        "id": "0WAYYhWDVnYZ",
        "outputId": "b888102f-3b0f-4077-9222-15642f1b52f5"
      },
      "outputs": [
        {
          "name": "stderr",
          "output_type": "stream",
          "text": [
            "The attention mask and the pad token id were not set. As a consequence, you may observe unexpected behavior. Please pass your input's `attention_mask` to obtain reliable results.\n",
            "Setting `pad_token_id` to `eos_token_id`:50256 for open-end generation.\n",
            "The attention mask and the pad token id were not set. As a consequence, you may observe unexpected behavior. Please pass your input's `attention_mask` to obtain reliable results.\n",
            "Setting `pad_token_id` to `eos_token_id`:50256 for open-end generation.\n"
          ]
        },
        {
          "name": "stdout",
          "output_type": "stream",
          "text": [
            "Generated Text (DistilGPT-2 with Beam Search using two beams (scientific): In the world of Artificial Intelligence, we have to understand that we are not just machines, but also machines. We are also human beings.\n",
            "\n",
            "In this article, I will explain how artificial intelligence can be used to solve problems in the real world, and how we can solve them in a way that is not possible in our current world. I hope that you will find out more about this topic in this post.\n",
            "Response Time: 1.70 seconds\n",
            "Memory Usage: 507.58 MB\n"
          ]
        }
      ],
      "source": [
        "import time\n",
        "from transformers import GPT2LMHeadModel, GPT2Tokenizer\n",
        "from memory_profiler import memory_usage\n",
        "\n",
        "# Load the pre-trained DistilGPT-2 model and tokenizer\n",
        "model_name = \"distilgpt2\"\n",
        "tokenizer = GPT2Tokenizer.from_pretrained(model_name)\n",
        "model = GPT2LMHeadModel.from_pretrained(model_name)\n",
        "\n",
        "# Input text\n",
        "input_text_scientific = \"In the world of Artificial Intelligence,\"\n",
        "\n",
        "# Tokenize the input text\n",
        "input_ids_scientific = tokenizer.encode(input_text_scientific, return_tensors=\"pt\")\n",
        "\n",
        "# Function for text generation with two beam search\n",
        "def generate_text_distilgpt2_twoBeam_scientific():\n",
        "    output = model.generate(\n",
        "    input_ids_scientific,\n",
        "    max_length=100,\n",
        "    num_beams=2,  # Number of beams for beam search\n",
        "    length_penalty=2.0,\n",
        "    no_repeat_ngram_size=2,\n",
        "    early_stopping=True\n",
        "    )\n",
        "    generated_text = tokenizer.decode(output[0], skip_special_tokens=True)\n",
        "    return generated_text\n",
        "\n",
        "\n",
        "# Testing for text generation using DistilGPT-2 model model with two beams\n",
        "# Measure response time\n",
        "start_time = time.time()\n",
        "# Generate text using beam search\n",
        "generated_text_distilgpt2_twoBeam_scientific = generate_text_distilgpt2_twoBeam_scientific()\n",
        "end_time = time.time()\n",
        "response_time_distilgpt2_twoBeam_scientific = end_time - start_time\n",
        "# Measure memory usage\n",
        "memory_used_distilgpt2_twoBeam_scientific = memory_usage(generate_text_distilgpt2_twoBeam_scientific)\n",
        "\n",
        "# Print results for text generation with DistilGPT-2 model using two beam search\n",
        "print(\"Generated Text (DistilGPT-2 with Beam Search using two beams (scientific):\", generated_text_distilgpt2_twoBeam_scientific)\n",
        "print(f\"Response Time: {response_time_distilgpt2_twoBeam_scientific:.2f} seconds\")\n",
        "print(f\"Memory Usage: {max(memory_used_distilgpt2_twoBeam_scientific):.2f} MB\")"
      ]
    },
    {
      "cell_type": "markdown",
      "metadata": {
        "id": "pvsqyigSftKy"
      },
      "source": [
        "<h3><b>Text generation with DistilGPT-2 using seven beams (scientific)</b><h3>"
      ]
    },
    {
      "cell_type": "code",
      "execution_count": null,
      "metadata": {
        "colab": {
          "base_uri": "https://localhost:8080/"
        },
        "id": "ycjoqiKRfu_E",
        "outputId": "0ee3c925-b3ad-4584-dcd7-4f4d009752a0"
      },
      "outputs": [
        {
          "name": "stderr",
          "output_type": "stream",
          "text": [
            "The attention mask and the pad token id were not set. As a consequence, you may observe unexpected behavior. Please pass your input's `attention_mask` to obtain reliable results.\n",
            "Setting `pad_token_id` to `eos_token_id`:50256 for open-end generation.\n",
            "The attention mask and the pad token id were not set. As a consequence, you may observe unexpected behavior. Please pass your input's `attention_mask` to obtain reliable results.\n",
            "Setting `pad_token_id` to `eos_token_id`:50256 for open-end generation.\n"
          ]
        },
        {
          "name": "stdout",
          "output_type": "stream",
          "text": [
            "Generated Text (DistilGPT-2 with Beam Search using seven beams (scientific): In the world of Artificial Intelligence, it’s hard not to see how the future of artificial intelligence is going to be shaped by the rise of AI. In the past few years, there has been an increase in the number of people who are interested in machine learning, but there is still a lot of work to do.\n",
            "\n",
            "This article was originally published on The Conversation. Read the original article and follow us on Twitter @theatlantic.\n",
            "Response Time: 3.12 seconds\n",
            "Memory Usage: 544.48 MB\n"
          ]
        }
      ],
      "source": [
        "import time\n",
        "from transformers import GPT2LMHeadModel, GPT2Tokenizer\n",
        "from memory_profiler import memory_usage\n",
        "\n",
        "# Load the pre-trained DistilGPT-2 model and tokenizer\n",
        "model_name = \"distilgpt2\"\n",
        "tokenizer = GPT2Tokenizer.from_pretrained(model_name)\n",
        "model = GPT2LMHeadModel.from_pretrained(model_name)\n",
        "\n",
        "# Input text\n",
        "input_text_scientific = \"In the world of Artificial Intelligence,\"\n",
        "\n",
        "# Tokenize the input text\n",
        "input_ids_scientific = tokenizer.encode(input_text_scientific, return_tensors=\"pt\")\n",
        "\n",
        "# Function for text generation with seven beam search\n",
        "def generate_text_distilgpt2_sevenBeam_scientific():\n",
        "    output = model.generate(\n",
        "    input_ids_scientific,\n",
        "    max_length=100,\n",
        "    num_beams=7,  # Number of beams for beam search\n",
        "    length_penalty=2.0,\n",
        "    no_repeat_ngram_size=2,\n",
        "    early_stopping=True\n",
        "    )\n",
        "    generated_text = tokenizer.decode(output[0], skip_special_tokens=True)\n",
        "    return generated_text\n",
        "\n",
        "\n",
        "# Testing for text generation using DistilGPT-2 model model with seven beams\n",
        "# Measure response time\n",
        "start_time = time.time()\n",
        "# Generate text using beam search\n",
        "generated_text_distilgpt2_sevenBeam_scientific = generate_text_distilgpt2_sevenBeam_scientific()\n",
        "end_time = time.time()\n",
        "response_time_distilgpt2_sevenBeam_scientific = end_time - start_time\n",
        "# Measure memory usage\n",
        "memory_used_distilgpt2_sevenBeam_scientific = memory_usage(generate_text_distilgpt2_sevenBeam_scientific)\n",
        "\n",
        "# Print results for text generation with DistilGPT-2 model using seven beam search\n",
        "print(\"Generated Text (DistilGPT-2 with Beam Search using seven beams (scientific):\", generated_text_distilgpt2_sevenBeam_scientific)\n",
        "print(f\"Response Time: {response_time_distilgpt2_sevenBeam_scientific:.2f} seconds\")\n",
        "print(f\"Memory Usage: {max(memory_used_distilgpt2_sevenBeam_scientific):.2f} MB\")"
      ]
    },
    {
      "cell_type": "markdown",
      "metadata": {
        "id": "hYDkWVcTg16u"
      },
      "source": [
        "<h3><b>Text generation with DistilGPT-2 using twenty-five beams (scientific)</b><h3>"
      ]
    },
    {
      "cell_type": "code",
      "execution_count": null,
      "metadata": {
        "colab": {
          "base_uri": "https://localhost:8080/"
        },
        "id": "ig6mrbNOg4kY",
        "outputId": "94225055-6829-4268-8d09-91623f3e8747"
      },
      "outputs": [
        {
          "name": "stderr",
          "output_type": "stream",
          "text": [
            "The attention mask and the pad token id were not set. As a consequence, you may observe unexpected behavior. Please pass your input's `attention_mask` to obtain reliable results.\n",
            "Setting `pad_token_id` to `eos_token_id`:50256 for open-end generation.\n",
            "The attention mask and the pad token id were not set. As a consequence, you may observe unexpected behavior. Please pass your input's `attention_mask` to obtain reliable results.\n",
            "Setting `pad_token_id` to `eos_token_id`:50256 for open-end generation.\n"
          ]
        },
        {
          "name": "stdout",
          "output_type": "stream",
          "text": [
            "Generated Text (DistilGPT-2 with Beam Search using twenty Five beams (scientific): In the world of Artificial Intelligence, artificial intelligence (AI) is one of the most well-known fields of research in the field. In the past few years, there have been a number of major advances in AI, including the introduction of a new generation of machine learning algorithms that can be used to perform tasks in real-time, in-person, and in virtual reality (VR) environments. However, these advances have not yet been fully realized. For example, researchers at the University of California\n",
            "Response Time: 7.56 seconds\n",
            "Memory Usage: 748.29 MB\n"
          ]
        }
      ],
      "source": [
        "import time\n",
        "from transformers import GPT2LMHeadModel, GPT2Tokenizer\n",
        "from memory_profiler import memory_usage\n",
        "\n",
        "# Load the pre-trained DistilGPT-2 model and tokenizer\n",
        "model_name = \"distilgpt2\"\n",
        "tokenizer = GPT2Tokenizer.from_pretrained(model_name)\n",
        "model = GPT2LMHeadModel.from_pretrained(model_name)\n",
        "\n",
        "# Input text\n",
        "input_text_scientific = \"In the world of Artificial Intelligence,\"\n",
        "\n",
        "# Tokenize the input text\n",
        "input_ids_scientific = tokenizer.encode(input_text_scientific, return_tensors=\"pt\")\n",
        "\n",
        "# Function for text generation with twenty Five beam search\n",
        "def generate_text_distilgpt2_twentyFiveBeam_scientific():\n",
        "    output = model.generate(\n",
        "    input_ids_scientific,\n",
        "    max_length=100,\n",
        "    num_beams=25,  # Number of beams for beam search\n",
        "    length_penalty=2.0,\n",
        "    no_repeat_ngram_size=2,\n",
        "    early_stopping=True\n",
        "    )\n",
        "    generated_text = tokenizer.decode(output[0], skip_special_tokens=True)\n",
        "    return generated_text\n",
        "\n",
        "\n",
        "# Testing for text generation using DistilGPT-2 model model with twenty Five beams\n",
        "# Measure response time\n",
        "start_time = time.time()\n",
        "# Generate text using beam search\n",
        "generated_text_distilgpt2_twentyFiveBeam_scientific = generate_text_distilgpt2_twentyFiveBeam_scientific()\n",
        "end_time = time.time()\n",
        "response_time_distilgpt2_twentyFiveBeam_scientific = end_time - start_time\n",
        "# Measure memory usage\n",
        "memory_used_distilgpt2_twentyFiveBeam_scientific = memory_usage(generate_text_distilgpt2_twentyFiveBeam_scientific)\n",
        "\n",
        "# Print results for text generation with DistilGPT-2 model using twenty Five beam search\n",
        "print(\"Generated Text (DistilGPT-2 with Beam Search using twenty Five beams (scientific):\", generated_text_distilgpt2_twentyFiveBeam_scientific)\n",
        "print(f\"Response Time: {response_time_distilgpt2_twentyFiveBeam_scientific:.2f} seconds\")\n",
        "print(f\"Memory Usage: {max(memory_used_distilgpt2_twentyFiveBeam_scientific):.2f} MB\")"
      ]
    },
    {
      "cell_type": "markdown",
      "metadata": {
        "id": "Jx6xwOheunqG"
      },
      "source": [
        "<h3><b>Text generation with DistilGPT-2 using normal search (scientific)</b><h3>"
      ]
    },
    {
      "cell_type": "code",
      "execution_count": null,
      "metadata": {
        "colab": {
          "base_uri": "https://localhost:8080/"
        },
        "id": "xcTtZPq1un8e",
        "outputId": "1fb1d728-8823-435f-b2a9-b4e7c404bba2"
      },
      "outputs": [
        {
          "name": "stderr",
          "output_type": "stream",
          "text": [
            "The attention mask and the pad token id were not set. As a consequence, you may observe unexpected behavior. Please pass your input's `attention_mask` to obtain reliable results.\n",
            "Setting `pad_token_id` to `eos_token_id`:50256 for open-end generation.\n",
            "The attention mask and the pad token id were not set. As a consequence, you may observe unexpected behavior. Please pass your input's `attention_mask` to obtain reliable results.\n",
            "Setting `pad_token_id` to `eos_token_id`:50256 for open-end generation.\n"
          ]
        },
        {
          "name": "stdout",
          "output_type": "stream",
          "text": [
            "Generated Text (distilgpt2 using normal search): In the world of Artificial Intelligence, we have to understand that the human brain is not a machine. It is a computer.\n",
            "\n",
            "The human mind is the brain. The brain consists of a brain that is composed of neurons that are connected to the body. This is called the \"brain.\"\n",
            "In this way, the mind can be thought of as a \"machine.\" The human body is an organism. In the case of the computer, it is thought that it has a mind. That is\n",
            "Response Time: 1.52 seconds\n",
            "Memory Usage: 490.40 MB\n"
          ]
        }
      ],
      "source": [
        "import time\n",
        "from transformers import GPT2LMHeadModel, GPT2Tokenizer\n",
        "from memory_profiler import memory_usage\n",
        "\n",
        "# Define the model and tokenizer\n",
        "model_name = \"distilgpt2\"\n",
        "tokenizer = GPT2Tokenizer.from_pretrained(model_name)\n",
        "model = GPT2LMHeadModel.from_pretrained(model_name)\n",
        "\n",
        "# Input text\n",
        "input_text_scientific = \"In the world of Artificial Intelligence,\"\n",
        "\n",
        "# Tokenize the input text\n",
        "input_ids_scientific = tokenizer.encode(input_text_scientific, return_tensors=\"pt\")\n",
        "\n",
        "def generate_text_distilgpt2_normalSearch_scientific():\n",
        "    output = model.generate(input_ids_scientific,no_repeat_ngram_size=2,max_length=100)\n",
        "    generated_text_normal = tokenizer.decode(output[0], skip_special_tokens=True)\n",
        "    return generated_text_normal\n",
        "\n",
        "# Testing for text generation using distilgpt2 model with normal search\n",
        "# Measure response time\n",
        "start_time = time.time()\n",
        "# Generate text using beam search\n",
        "generated_text_distilgpt2_normalSearch_scientific = generate_text_distilgpt2_normalSearch_scientific()\n",
        "end_time = time.time()\n",
        "response_time_distilgpt2_normalSearch_scientific = end_time - start_time\n",
        "# Measure memory usage\n",
        "memory_used_distilgpt2_normalSearch_scientific = memory_usage(generate_text_distilgpt2_normalSearch_scientific)\n",
        "\n",
        "# Print results for text generation with gpt2 model using normal search\n",
        "print(\"Generated Text (distilgpt2 using normal search):\", generated_text_distilgpt2_normalSearch_scientific)\n",
        "print(f\"Response Time: {response_time_distilgpt2_normalSearch_scientific:.2f} seconds\")\n",
        "print(f\"Memory Usage: {max(memory_used_distilgpt2_normalSearch_scientific):.2f} MB\")"
      ]
    },
    {
      "cell_type": "markdown",
      "metadata": {
        "id": "rlc6DPrBkugj"
      },
      "source": [
        "## <h3><b>Text Generation with BART (Scientific input prompt)</b><h3>"
      ]
    },
    {
      "cell_type": "markdown",
      "metadata": {
        "id": "NGvX4KWHlISr"
      },
      "source": [
        "<h3><b>Text generation with BART using two beams (scientific)</b><h3>"
      ]
    },
    {
      "cell_type": "code",
      "execution_count": null,
      "metadata": {
        "colab": {
          "base_uri": "https://localhost:8080/"
        },
        "id": "QFPqhRFKlGJy",
        "outputId": "ade691bb-c09c-42d4-ccde-ad4d95999b4d"
      },
      "outputs": [
        {
          "name": "stdout",
          "output_type": "stream",
          "text": [
            "Generated Text (BART with Beam Search using two beams (scientific): In the world of Artificial Intelligence, we look at the role of computers in the digital world. We also examine how they can be used to help people in real life and in their dreams. In this article, CNN looks at how computers can help humans in a variety of ways.\n",
            "Response Time: 4.49 seconds\n",
            "Memory Usage: 1747.24 MB\n"
          ]
        }
      ],
      "source": [
        "import time\n",
        "from transformers import BartTokenizer, BartForConditionalGeneration\n",
        "from memory_profiler import memory_usage\n",
        "\n",
        "# Load BART model and tokenizer\n",
        "tokenizer = BartTokenizer.from_pretrained(\"facebook/bart-large-cnn\")\n",
        "model = BartForConditionalGeneration.from_pretrained(\"facebook/bart-large-cnn\")\n",
        "\n",
        "# Set the prompt for text generation\n",
        "prompt = \"In the world of Artificial Intelligence,\"\n",
        "\n",
        "# Tokenize the input text\n",
        "input_ids_scientific = tokenizer.encode(prompt, return_tensors=\"pt\", add_special_tokens=True)\n",
        "\n",
        "# Function for text generation with two beam search\n",
        "def generate_text_bart_twoBeam_scientific():\n",
        "  # Generate text using beam search\n",
        "    output = model.generate(\n",
        "        input_ids_scientific,\n",
        "        max_length=100,\n",
        "        num_beams=2,\n",
        "        no_repeat_ngram_size=2,\n",
        "        early_stopping=True,\n",
        "    )\n",
        "    generated_text = tokenizer.decode(output[0], skip_special_tokens=True)\n",
        "    return generated_text\n",
        "\n",
        "\n",
        "# Testing for text generation using BART model with two beams\n",
        "# Measure response time\n",
        "start_time = time.time()\n",
        "# Generate text using beam search\n",
        "generated_text_bart_twoBeam_scientific = generate_text_bart_twoBeam_scientific()\n",
        "end_time = time.time()\n",
        "response_time_bart_twoBeam_scientific = end_time - start_time\n",
        "# Measure memory usage\n",
        "memory_used_bart_twoBeam_scientific = memory_usage(generate_text_bart_twoBeam_scientific)\n",
        "\n",
        "# Print results for text generation with gpt2 model using five beam\n",
        "print(\"Generated Text (BART with Beam Search using two beams (scientific):\", generated_text_bart_twoBeam_scientific)\n",
        "print(f\"Response Time: {response_time_bart_twoBeam_scientific:.2f} seconds\")\n",
        "print(f\"Memory Usage: {max(memory_used_bart_twoBeam_scientific):.2f} MB\")"
      ]
    },
    {
      "cell_type": "markdown",
      "metadata": {
        "id": "bDilAYq4o8ux"
      },
      "source": [
        "<h3><b>Text generation with BART using seven beams (scientific)</b><h3>"
      ]
    },
    {
      "cell_type": "code",
      "execution_count": null,
      "metadata": {
        "colab": {
          "base_uri": "https://localhost:8080/"
        },
        "id": "JSit8MN5o9aW",
        "outputId": "c597225b-d429-4620-d01c-6d9e57505930"
      },
      "outputs": [
        {
          "name": "stdout",
          "output_type": "stream",
          "text": [
            "Generated Text (BART with Beam Search using seven beams (scientific): In the world of Artificial Intelligence, we look at some of the biggest challenges ahead. This week we focus on the rise of artificial intelligence in the U.S. and its impact on jobs and the economy. We also examine the role of computers in society, and what the future holds.\n",
            "Response Time: 5.82 seconds\n",
            "Memory Usage: 1835.16 MB\n"
          ]
        }
      ],
      "source": [
        "import time\n",
        "from transformers import BartTokenizer, BartForConditionalGeneration\n",
        "from memory_profiler import memory_usage\n",
        "\n",
        "# Load BART model and tokenizer\n",
        "tokenizer = BartTokenizer.from_pretrained(\"facebook/bart-large-cnn\")\n",
        "model = BartForConditionalGeneration.from_pretrained(\"facebook/bart-large-cnn\")\n",
        "\n",
        "# Set the prompt for text generation\n",
        "prompt = \"In the world of Artificial Intelligence,\"\n",
        "\n",
        "# Tokenize the input text\n",
        "input_ids_scientific = tokenizer.encode(prompt, return_tensors=\"pt\", add_special_tokens=True)\n",
        "\n",
        "# Function for text generation with seven beam search\n",
        "def generate_text_bart_sevenBeam_scientific():\n",
        "  # Generate text using beam search\n",
        "    output = model.generate(\n",
        "        input_ids_scientific,\n",
        "        max_length=100,\n",
        "        num_beams=7,\n",
        "        no_repeat_ngram_size=2,\n",
        "        early_stopping=True,\n",
        "    )\n",
        "    generated_text = tokenizer.decode(output[0], skip_special_tokens=True)\n",
        "    return generated_text\n",
        "\n",
        "\n",
        "# Testing for text generation using BART model with seven beams\n",
        "# Measure response time\n",
        "start_time = time.time()\n",
        "# Generate text using beam search\n",
        "generated_text_bart_sevenBeam_scientific = generate_text_bart_sevenBeam_scientific()\n",
        "end_time = time.time()\n",
        "response_time_bart_sevenBeam_scientific = end_time - start_time\n",
        "# Measure memory usage\n",
        "memory_used_bart_sevenBeam_scientific = memory_usage(generate_text_bart_sevenBeam_scientific)\n",
        "\n",
        "# Print results for text generation with BART model using five beam\n",
        "print(\"Generated Text (BART with Beam Search using seven beams (scientific):\", generated_text_bart_sevenBeam_scientific)\n",
        "print(f\"Response Time: {response_time_bart_sevenBeam_scientific:.2f} seconds\")\n",
        "print(f\"Memory Usage: {max(memory_used_bart_sevenBeam_scientific):.2f} MB\")"
      ]
    },
    {
      "cell_type": "markdown",
      "metadata": {
        "id": "LU76aHWbqv3u"
      },
      "source": [
        "<h3><b>Text generation with BART using twenty-five beams (scientific)</b><h3>"
      ]
    },
    {
      "cell_type": "code",
      "execution_count": null,
      "metadata": {
        "colab": {
          "base_uri": "https://localhost:8080/"
        },
        "id": "Q75VO8mmqz_Z",
        "outputId": "85d95c34-50b2-4da5-e557-17c90878cefe"
      },
      "outputs": [
        {
          "name": "stdout",
          "output_type": "stream",
          "text": [
            "Generated Text (BART with Beam Search using twenty Five beams (scientific): In the world of Artificial Intelligence, there is no such thing as a perfect algorithm. There is, however, an algorithm that can predict what a person will do in the future. For more, visit CNN.com/ArtificialIntelligence and follow us on Twitter @cnnartificialintelligence.\n",
            "Response Time: 9.09 seconds\n",
            "Memory Usage: 2168.96 MB\n"
          ]
        }
      ],
      "source": [
        "import time\n",
        "from transformers import BartTokenizer, BartForConditionalGeneration\n",
        "from memory_profiler import memory_usage\n",
        "\n",
        "# Load BART model and tokenizer\n",
        "tokenizer = BartTokenizer.from_pretrained(\"facebook/bart-large-cnn\")\n",
        "model = BartForConditionalGeneration.from_pretrained(\"facebook/bart-large-cnn\")\n",
        "\n",
        "# Set the prompt for text generation\n",
        "prompt = \"In the world of Artificial Intelligence,\"\n",
        "\n",
        "# Tokenize the input text\n",
        "input_ids_scientific = tokenizer.encode(prompt, return_tensors=\"pt\", add_special_tokens=True)\n",
        "\n",
        "# Function for text generation with twenty Five beam search\n",
        "def generate_text_bart_twentyFiveBeam_scientific():\n",
        "  # Generate text using beam search\n",
        "    output = model.generate(\n",
        "        input_ids_scientific,\n",
        "        max_length=100,\n",
        "        num_beams=25,\n",
        "        no_repeat_ngram_size=2,\n",
        "        early_stopping=True,\n",
        "    )\n",
        "    generated_text = tokenizer.decode(output[0], skip_special_tokens=True)\n",
        "    return generated_text\n",
        "\n",
        "\n",
        "# Testing for text generation using BART model with twenty Five beams\n",
        "# Measure response time\n",
        "start_time = time.time()\n",
        "# Generate text using beam search\n",
        "generated_text_bart_twentyFiveBeam_scientific = generate_text_bart_twentyFiveBeam_scientific()\n",
        "end_time = time.time()\n",
        "response_time_bart_twentyFiveBeam_scientific = end_time - start_time\n",
        "# Measure memory usage\n",
        "memory_used_bart_twentyFiveBeam_scientific = memory_usage(generate_text_bart_twentyFiveBeam_scientific)\n",
        "\n",
        "# Print results for text generation with BART model using twenty Five beam\n",
        "print(\"Generated Text (BART with Beam Search using twenty Five beams (scientific):\", generated_text_bart_twentyFiveBeam_scientific)\n",
        "print(f\"Response Time: {response_time_bart_twentyFiveBeam_scientific:.2f} seconds\")\n",
        "print(f\"Memory Usage: {max(memory_used_bart_twentyFiveBeam_scientific):.2f} MB\")"
      ]
    },
    {
      "cell_type": "markdown",
      "metadata": {
        "id": "ezj5VH-4s7g7"
      },
      "source": [
        "<h3><b>Text generation with BART using normal search (scientific)</b><h3>"
      ]
    },
    {
      "cell_type": "code",
      "execution_count": null,
      "metadata": {
        "colab": {
          "base_uri": "https://localhost:8080/"
        },
        "id": "jXNa0Zwus6rs",
        "outputId": "1c15f753-cc71-47c7-d492-64b8fd198faf"
      },
      "outputs": [
        {
          "name": "stdout",
          "output_type": "stream",
          "text": [
            "Generated Text (BART with Beam Search using normal search): In the world of Artificial Intelligence, we look at the role of computers. We also look into the ways in which they can be used to help people. And we also take a look back at how they were created. In this article, CNN looks at some of the key developments in the field of artificial intelligence.\n",
            "Response Time: 3.25 seconds\n",
            "Memory Usage: 1730.65 MB\n"
          ]
        }
      ],
      "source": [
        "import time\n",
        "from transformers import BartTokenizer, BartForConditionalGeneration\n",
        "from memory_profiler import memory_usage\n",
        "\n",
        "# Load BART model and tokenizer\n",
        "tokenizer = BartTokenizer.from_pretrained(\"facebook/bart-large-cnn\")\n",
        "model = BartForConditionalGeneration.from_pretrained(\"facebook/bart-large-cnn\")\n",
        "\n",
        "# Set the prompt for text generation\n",
        "prompt = \"In the world of Artificial Intelligence,\"\n",
        "\n",
        "# Tokenize the input text\n",
        "input_ids_scientific = tokenizer.encode(prompt, return_tensors=\"pt\", add_special_tokens=True)\n",
        "\n",
        "# Function for text generation with two beam search\n",
        "def generate_text_bart_normalSearch_scientific():\n",
        "  # Generate text using normal search\n",
        "    output = model.generate(\n",
        "        input_ids_scientific,\n",
        "        max_length=100,\n",
        "        num_beams=1, # Set to 1 for greedy (normal) search\n",
        "        no_repeat_ngram_size=2\n",
        "    )\n",
        "    generated_text = tokenizer.decode(output[0], skip_special_tokens=True)\n",
        "    return generated_text\n",
        "\n",
        "\n",
        "# Testing for text generation using BART model with normal search\n",
        "# Measure response time\n",
        "start_time = time.time()\n",
        "# Generate text using beam search\n",
        "generated_text_bart_normalSearch_scientific = generate_text_bart_normalSearch_scientific()\n",
        "end_time = time.time()\n",
        "response_time_bart_normalSearch_scientific = end_time - start_time\n",
        "# Measure memory usage\n",
        "memory_used_bart_normalSearch_scientific = memory_usage(generate_text_bart_normalSearch_scientific)\n",
        "\n",
        "# Print results for text generation with BART model using normal search\n",
        "print(\"Generated Text (BART with Beam Search using normal search):\", generated_text_bart_normalSearch_scientific)\n",
        "print(f\"Response Time: {response_time_bart_normalSearch_scientific:.2f} seconds\")\n",
        "print(f\"Memory Usage: {max(memory_used_bart_normalSearch_scientific):.2f} MB\")"
      ]
    },
    {
      "cell_type": "markdown",
      "metadata": {
        "id": "GOPlFuZzAf15"
      },
      "source": [
        "# <b>Machine Translation</b>"
      ]
    },
    {
      "cell_type": "markdown",
      "metadata": {
        "id": "Pp4io0mcP8SW"
      },
      "source": [
        "## <h3><b>Machine Translation with MarianMT (French)</b><h3>"
      ]
    },
    {
      "cell_type": "markdown",
      "metadata": {
        "id": "ZTZeG8jl-KGD"
      },
      "source": [
        "<h3><b>Languge Translation to French using two beams</b><h3>"
      ]
    },
    {
      "cell_type": "code",
      "execution_count": null,
      "metadata": {
        "colab": {
          "base_uri": "https://localhost:8080/"
        },
        "id": "L3De4fycP-5O",
        "outputId": "7df404ab-ea09-47a5-a4c4-e87f147eddf8"
      },
      "outputs": [
        {
          "name": "stderr",
          "output_type": "stream",
          "text": [
            "C:\\Users\\rahee\\AppData\\Local\\Programs\\Python\\Python310\\lib\\site-packages\\transformers\\models\\marian\\tokenization_marian.py:194: UserWarning: Recommended: pip install sacremoses.\n",
            "  warnings.warn(\"Recommended: pip install sacremoses.\")\n"
          ]
        },
        {
          "name": "stdout",
          "output_type": "stream",
          "text": [
            "Translated Text (MarianMT French translation with Beam Search using two beam): Les ordinateurs ont révolutionné notre façon de vivre et de travailler. Le premier ordinateur électronique, ENIAC, était massif, pesant près de 30 tonnes. Les ordinateurs d'aujourd'hui sont exponentiellement plus petits et plus puissants. La loi de Moore, formulée par Gordon Moore, prédit le doublement des transistors sur une puce tous les deux ans, conduisant à des avancées rapides.\n",
            "Response Time: 1.62 seconds\n",
            "Memory Usage: 486.30 MB\n"
          ]
        }
      ],
      "source": [
        "import time\n",
        "from transformers import MarianMTModel, MarianTokenizer\n",
        "from memory_profiler import memory_usage\n",
        "\n",
        "model_name = \"Helsinki-NLP/opus-mt-en-fr\"  # English to French translation\n",
        "tokenizer = MarianTokenizer.from_pretrained(model_name)\n",
        "model = MarianMTModel.from_pretrained(model_name)\n",
        "\n",
        "input_text = '''\n",
        "Computers have revolutionized the way we live and work.\n",
        "The first electronic computer, ENIAC, was massive, weighing nearly 30 tons.\n",
        "Today's computers are exponentially smaller and more powerful. Moore's Law, formulated by Gordon Moore,\n",
        "predicted the doubling of transistors on a microchip every two years, driving rapid advancements.\n",
        "The binary system, the fundamental language of computers, uses 0s and 1s to represent information.\n",
        "'''\n",
        "\n",
        "input_ids = tokenizer(input_text, return_tensors=\"pt\").input_ids\n",
        "\n",
        "# Function for language translation to french using two beams search\n",
        "def translate_text_MarianMTFrench_twoBeam():\n",
        "    output = model.generate(\n",
        "    input_ids,\n",
        "    max_length=100,\n",
        "    num_beams=2,  # Number of beams for beam search\n",
        "    early_stopping=True\n",
        "    )\n",
        "    translated_text = tokenizer.decode(output[0], skip_special_tokens=True)\n",
        "    return translated_text\n",
        "\n",
        "# Testing for language translation to french using MarianMT model with two beams\n",
        "# Measure response time\n",
        "start_time = time.time()\n",
        "# Generate text using beam search\n",
        "translated_text_MarianMTFrench_twoBeam = translate_text_MarianMTFrench_twoBeam()\n",
        "end_time = time.time()\n",
        "response_time_MarianMTFrench_twoBeam = end_time - start_time\n",
        "# Measure memory usage\n",
        "memory_used_MarianMTFrench_twoBeam = memory_usage(translate_text_MarianMTFrench_twoBeam)\n",
        "\n",
        "# Print results for french language translation with MarianMT  model using two beam\n",
        "print(\"Translated Text (MarianMT French translation with Beam Search using two beam):\", translated_text_MarianMTFrench_twoBeam)\n",
        "print(f\"Response Time: {response_time_MarianMTFrench_twoBeam:.2f} seconds\")\n",
        "print(f\"Memory Usage: {max(memory_used_MarianMTFrench_twoBeam):.2f} MB\")"
      ]
    },
    {
      "cell_type": "markdown",
      "metadata": {
        "id": "xdIGO83kESqg"
      },
      "source": [
        "<h3><b>Languge Translation to French using seven beams</b><h3>"
      ]
    },
    {
      "cell_type": "code",
      "execution_count": null,
      "metadata": {
        "colab": {
          "base_uri": "https://localhost:8080/"
        },
        "id": "vbWzkYtvEU6U",
        "outputId": "b770162e-6f58-4f5d-bf9b-46fa141d7a95"
      },
      "outputs": [
        {
          "name": "stdout",
          "output_type": "stream",
          "text": [
            "Translated Text (MarianMT French translation with Beam Search using seven beam): Les ordinateurs ont révolutionné la façon dont nous vivons et travaillons. Le premier ordinateur électronique, ENIAC, était massif, pesant près de 30 tonnes. Les ordinateurs d'aujourd'hui sont exponentiellement plus petits et plus puissants. La loi de Moore, formulée par Gordon Moore, prédit le doublement des transistors sur une puce tous les deux ans, conduisant à des avancées rapides.\n",
            "Response Time: 2.94 seconds\n",
            "Memory Usage: 535.91 MB\n"
          ]
        }
      ],
      "source": [
        "import time\n",
        "from transformers import MarianMTModel, MarianTokenizer\n",
        "from memory_profiler import memory_usage\n",
        "\n",
        "model_name = \"Helsinki-NLP/opus-mt-en-fr\"  # English to French translation\n",
        "tokenizer = MarianTokenizer.from_pretrained(model_name)\n",
        "model = MarianMTModel.from_pretrained(model_name)\n",
        "\n",
        "input_text = '''\n",
        "Computers have revolutionized the way we live and work.\n",
        "The first electronic computer, ENIAC, was massive, weighing nearly 30 tons.\n",
        "Today's computers are exponentially smaller and more powerful. Moore's Law, formulated by Gordon Moore,\n",
        "predicted the doubling of transistors on a microchip every two years, driving rapid advancements.\n",
        "The binary system, the fundamental language of computers, uses 0s and 1s to represent information.\n",
        "'''\n",
        "\n",
        "input_ids = tokenizer(input_text, return_tensors=\"pt\").input_ids\n",
        "\n",
        "# Function for language translation to french using seven beams search\n",
        "def translate_text_MarianMTFrench_sevenBeam():\n",
        "    output = model.generate(\n",
        "    input_ids,\n",
        "    max_length=100,\n",
        "    num_beams=7,  # Number of beams for beam search\n",
        "    early_stopping=True\n",
        "    )\n",
        "    translated_text = tokenizer.decode(output[0], skip_special_tokens=True)\n",
        "    return translated_text\n",
        "\n",
        "# Testing for language translation to french using MarianMT model with seven beams\n",
        "# Measure response time\n",
        "start_time = time.time()\n",
        "# Generate text using beam search\n",
        "translated_text_MarianMTFrench_sevenBeam = translate_text_MarianMTFrench_sevenBeam()\n",
        "end_time = time.time()\n",
        "response_time_MarianMTFrench_sevenBeam = end_time - start_time\n",
        "# Measure memory usage\n",
        "memory_used_MarianMTFrench_sevenBeam = memory_usage(translate_text_MarianMTFrench_sevenBeam)\n",
        "\n",
        "# Print results for french language translation with MarianMT  model using seven beam\n",
        "print(\"Translated Text (MarianMT French translation with Beam Search using seven beam):\", translated_text_MarianMTFrench_sevenBeam)\n",
        "print(f\"Response Time: {response_time_MarianMTFrench_sevenBeam:.2f} seconds\")\n",
        "print(f\"Memory Usage: {max(memory_used_MarianMTFrench_sevenBeam):.2f} MB\")"
      ]
    },
    {
      "cell_type": "markdown",
      "metadata": {
        "id": "cXRuh3GSFGTu"
      },
      "source": [
        "<h3><b>Languge Translation to French using twenty-five beams</b><h3>"
      ]
    },
    {
      "cell_type": "code",
      "execution_count": null,
      "metadata": {
        "colab": {
          "base_uri": "https://localhost:8080/"
        },
        "id": "_FM0DGOeFJ9o",
        "outputId": "98e878c4-f764-42fe-e878-b547b02b3a91"
      },
      "outputs": [
        {
          "name": "stdout",
          "output_type": "stream",
          "text": [
            "Translated Text (MarianMT French translation with Beam Search using twenty Five beam): Les ordinateurs ont révolutionné la façon dont nous vivons et travaillons. Le premier ordinateur électronique, ENIAC, était massif, pesant près de 30 tonnes. Les ordinateurs d'aujourd'hui sont exponentiellement plus petits et plus puissants. La loi de Moore, formulée par Gordon Moore, prédit le doublement des transistors sur une puce tous les deux ans, conduisant à des avancées rapides. Le système binaire, le langage fondamental des ordinateurs, utilise 0s et 1s\n",
            "Response Time: 8.53 seconds\n",
            "Memory Usage: 700.63 MB\n"
          ]
        }
      ],
      "source": [
        "import time\n",
        "from transformers import MarianMTModel, MarianTokenizer\n",
        "from memory_profiler import memory_usage\n",
        "\n",
        "model_name = \"Helsinki-NLP/opus-mt-en-fr\"  # English to French translation\n",
        "tokenizer = MarianTokenizer.from_pretrained(model_name)\n",
        "model = MarianMTModel.from_pretrained(model_name)\n",
        "\n",
        "input_text = '''\n",
        "Computers have revolutionized the way we live and work.\n",
        "The first electronic computer, ENIAC, was massive, weighing nearly 30 tons.\n",
        "Today's computers are exponentially smaller and more powerful. Moore's Law, formulated by Gordon Moore,\n",
        "predicted the doubling of transistors on a microchip every two years, driving rapid advancements.\n",
        "The binary system, the fundamental language of computers, uses 0s and 1s to represent information.\n",
        "'''\n",
        "\n",
        "input_ids = tokenizer(input_text, return_tensors=\"pt\").input_ids\n",
        "\n",
        "# Function for language translation to french using seven beams search\n",
        "def translate_text_MarianMTFrench_twentyFiveBeam():\n",
        "    output = model.generate(\n",
        "    input_ids,\n",
        "    max_length=100,\n",
        "    num_beams=25,  # Number of beams for beam search\n",
        "    early_stopping=True\n",
        "    )\n",
        "    translated_text = tokenizer.decode(output[0], skip_special_tokens=True)\n",
        "    return translated_text\n",
        "\n",
        "# Testing for language translation to french using MarianMT model with twenty Five beams\n",
        "# Measure response time\n",
        "start_time = time.time()\n",
        "# Generate text using beam search\n",
        "translated_text_MarianMTFrench_twentyFiveBeam = translate_text_MarianMTFrench_twentyFiveBeam()\n",
        "end_time = time.time()\n",
        "response_time_MarianMTFrench_twentyFiveBeam = end_time - start_time\n",
        "# Measure memory usage\n",
        "memory_used_MarianMTFrench_twentyFiveBeam = memory_usage(translate_text_MarianMTFrench_twentyFiveBeam)\n",
        "\n",
        "# Print results for french language translation with MarianMT  model using seven beam\n",
        "print(\"Translated Text (MarianMT French translation with Beam Search using twenty Five beam):\", translated_text_MarianMTFrench_twentyFiveBeam)\n",
        "print(f\"Response Time: {response_time_MarianMTFrench_twentyFiveBeam:.2f} seconds\")\n",
        "print(f\"Memory Usage: {max(memory_used_MarianMTFrench_twentyFiveBeam):.2f} MB\")"
      ]
    },
    {
      "cell_type": "markdown",
      "metadata": {
        "id": "APuWfxvnH0cY"
      },
      "source": [
        "<h3><b>Languge Translation to French normal search</b><h3>"
      ]
    },
    {
      "cell_type": "code",
      "execution_count": null,
      "metadata": {
        "colab": {
          "base_uri": "https://localhost:8080/"
        },
        "id": "8ossV47IH4iO",
        "outputId": "aae9a330-c8ae-482c-dd81-ef049150bb3a"
      },
      "outputs": [
        {
          "name": "stdout",
          "output_type": "stream",
          "text": [
            "Translated Text (MarianMT French translation using normal search): Les ordinateurs ont révolutionné la façon dont nous vivons et travaillons. Le premier ordinateur électronique, ENIAC, était massif, pesant près de 30 tonnes. Les ordinateurs d'aujourd'hui sont exponentiellement plus petits et plus puissants. La loi de Moore, formulée par Gordon Moore, prédit le doublement des transistors sur une puce tous les deux ans, conduisant à des avancées rapides. Le système binaire, le langage fondamental des ordinateurs, utilise 0s et 1s\n",
            "Response Time: 2.36 seconds\n",
            "Memory Usage: 527.59 MB\n"
          ]
        }
      ],
      "source": [
        "import time\n",
        "from transformers import MarianMTModel, MarianTokenizer\n",
        "from memory_profiler import memory_usage\n",
        "\n",
        "# Define the model and tokenizer\n",
        "model_name = \"Helsinki-NLP/opus-mt-en-fr\"  # English to French translation\n",
        "tokenizer = MarianTokenizer.from_pretrained(model_name)\n",
        "model = MarianMTModel.from_pretrained(model_name)\n",
        "\n",
        "# Input text\n",
        "input_text = '''\n",
        "Computers have revolutionized the way we live and work.\n",
        "The first electronic computer, ENIAC, was massive, weighing nearly 30 tons.\n",
        "Today's computers are exponentially smaller and more powerful. Moore's Law, formulated by Gordon Moore,\n",
        "predicted the doubling of transistors on a microchip every two years, driving rapid advancements.\n",
        "The binary system, the fundamental language of computers, uses 0s and 1s to represent information.\n",
        "'''\n",
        "\n",
        "# Tokenize the input text\n",
        "input_ids = tokenizer.encode(input_text, return_tensors=\"pt\")\n",
        "\n",
        "# Function for language translation to french using seven beams search\n",
        "def translate_text_MarianMTFrench_normalSearch():\n",
        "    output = model.generate(\n",
        "    input_ids,\n",
        "    max_length=100,\n",
        "    )\n",
        "    translated_text = tokenizer.decode(output[0], skip_special_tokens=True)\n",
        "    return translated_text\n",
        "\n",
        "# Testing for language translation to french using MarianMT model with twenty Five beams\n",
        "# Measure response time\n",
        "start_time = time.time()\n",
        "# Generate text using beam search\n",
        "translated_text_MarianMTFrench_normalSearch = translate_text_MarianMTFrench_normalSearch()\n",
        "end_time = time.time()\n",
        "response_time_MarianMTFrench_normalSearch = end_time - start_time\n",
        "# Measure memory usage\n",
        "memory_used_MarianMTFrench_normalSearch = memory_usage(translate_text_MarianMTFrench_normalSearch)\n",
        "\n",
        "# Print results for french language translation with MarianMT  model using normal search\n",
        "print(\"Translated Text (MarianMT French translation using normal search):\", translated_text_MarianMTFrench_normalSearch)\n",
        "print(f\"Response Time: {response_time_MarianMTFrench_normalSearch:.2f} seconds\")\n",
        "print(f\"Memory Usage: {max(memory_used_MarianMTFrench_normalSearch):.2f} MB\")"
      ]
    },
    {
      "cell_type": "markdown",
      "metadata": {
        "id": "a3A9s-MJoJF9"
      },
      "source": [
        "## <h3><b>Machine Translation with MarianMT (Bahasa Indonesia)</b><h3>"
      ]
    },
    {
      "cell_type": "markdown",
      "metadata": {
        "id": "pE0mZzzVoSnG"
      },
      "source": [
        "<h3><b>Languge Translation to Indonesian using two beams</b><h3>"
      ]
    },
    {
      "cell_type": "code",
      "execution_count": null,
      "metadata": {
        "colab": {
          "base_uri": "https://localhost:8080/"
        },
        "id": "Wrt2tIn8oQDo",
        "outputId": "3990eef0-7cfc-499a-9f92-128f4e189b59"
      },
      "outputs": [
        {
          "name": "stdout",
          "output_type": "stream",
          "text": [
            "Translated Text (MarianMT Indonesian translation with Beam Search using two beam): Komputer telah merevolusi cara kita hidup dan bekerja komputer elektronik pertama, ENIAC, sangat besar, beratnya hampir 30 ton. komputer hari ini sangat kecil dan lebih kuat. menurut Hukum Moore, dirumuskan oleh Gordon Moore, memperkirakan dua kali lipat transistor pada microchip setiap dua tahun, mendorong kemajuan pesat. sistem biner, bahasa dasar komputer, menggunakan 0s dan 1s untuk mewakili informasi.\n",
            "Response Time: 1.46 seconds\n",
            "Memory Usage: 485.68 MB\n"
          ]
        }
      ],
      "source": [
        "import time\n",
        "from transformers import MarianMTModel, MarianTokenizer\n",
        "from memory_profiler import memory_usage\n",
        "\n",
        "model_name = \"Helsinki-NLP/opus-mt-en-id\"  # English to Indonesian translation\n",
        "tokenizer = MarianTokenizer.from_pretrained(model_name)\n",
        "model = MarianMTModel.from_pretrained(model_name)\n",
        "\n",
        "input_text = '''\n",
        "Computers have revolutionized the way we live and work.\n",
        "The first electronic computer, ENIAC, was massive, weighing nearly 30 tons.\n",
        "Today's computers are exponentially smaller and more powerful. Moore's Law, formulated by Gordon Moore,\n",
        "predicted the doubling of transistors on a microchip every two years, driving rapid advancements.\n",
        "The binary system, the fundamental language of computers, uses 0s and 1s to represent information.\n",
        "'''\n",
        "\n",
        "input_ids = tokenizer(input_text, return_tensors=\"pt\").input_ids\n",
        "\n",
        "# Function for language translation to Indonesian using two beams search\n",
        "def translate_text_MarianMTIndonesian_twoBeam():\n",
        "    output = model.generate(\n",
        "    input_ids,\n",
        "    max_length=100,\n",
        "    num_beams=2,  # Number of beams for beam search\n",
        "    early_stopping=True\n",
        "    )\n",
        "    translated_text = tokenizer.decode(output[0], skip_special_tokens=True)\n",
        "    return translated_text\n",
        "\n",
        "# Testing for language translation to Indonesian using MarianMT model with two beams\n",
        "# Measure response time\n",
        "start_time = time.time()\n",
        "# Generate text using beam search\n",
        "translated_text_MarianMTIndonesian_twoBeam = translate_text_MarianMTIndonesian_twoBeam()\n",
        "end_time = time.time()\n",
        "response_time_MarianMTIndonesian_twoBeam = end_time - start_time\n",
        "# Measure memory usage\n",
        "memory_used_MarianMTIndonesian_twoBeam = memory_usage(translate_text_MarianMTIndonesian_twoBeam)\n",
        "\n",
        "# Print results for Indonesian language translation with MarianMT  model using two beam\n",
        "print(\"Translated Text (MarianMT Indonesian translation with Beam Search using two beam):\", translated_text_MarianMTIndonesian_twoBeam)\n",
        "print(f\"Response Time: {response_time_MarianMTIndonesian_twoBeam:.2f} seconds\")\n",
        "print(f\"Memory Usage: {max(memory_used_MarianMTIndonesian_twoBeam):.2f} MB\")"
      ]
    },
    {
      "cell_type": "markdown",
      "metadata": {
        "id": "7iAm8UvjqG-p"
      },
      "source": [
        "<h3><b>Languge Translation to Indonesian using seven beams</b><h3>"
      ]
    },
    {
      "cell_type": "code",
      "execution_count": null,
      "metadata": {
        "colab": {
          "base_uri": "https://localhost:8080/"
        },
        "id": "Zn-S-lzzqRAM",
        "outputId": "4b237f99-1549-4b2c-95e6-6dd04958f0e8"
      },
      "outputs": [
        {
          "name": "stdout",
          "output_type": "stream",
          "text": [
            "Translated Text (MarianMT Indonesian translation with Beam Search using seven Beams): komputer telah merevolusi cara kita hidup dan bekerja komputer elektronik pertama, ENIAC, sangat besar, dengan berat hampir 30 ton komputer hari ini secara eksponensial lebih kecil dan lebih kuat, Hukum Moore, dirumuskan oleh Gordon Moore, memperkirakan dua kali lipat transistor pada microchip setiap dua tahun, mendorong kemajuan cepat sistem biner, bahasa dasar komputer, menggunakan 0s dan 1s untuk mewakili informasi.\n",
            "Response Time: 2.63 seconds\n",
            "Memory Usage: 529.76 MB\n"
          ]
        }
      ],
      "source": [
        "import time\n",
        "from transformers import MarianMTModel, MarianTokenizer\n",
        "from memory_profiler import memory_usage\n",
        "\n",
        "model_name = \"Helsinki-NLP/opus-mt-en-id\"  # English to French translation\n",
        "tokenizer = MarianTokenizer.from_pretrained(model_name)\n",
        "model = MarianMTModel.from_pretrained(model_name)\n",
        "\n",
        "input_text = '''\n",
        "Computers have revolutionized the way we live and work.\n",
        "The first electronic computer, ENIAC, was massive, weighing nearly 30 tons.\n",
        "Today's computers are exponentially smaller and more powerful. Moore's Law, formulated by Gordon Moore,\n",
        "predicted the doubling of transistors on a microchip every two years, driving rapid advancements.\n",
        "The binary system, the fundamental language of computers, uses 0s and 1s to represent information.\n",
        "'''\n",
        "\n",
        "input_ids = tokenizer(input_text, return_tensors=\"pt\").input_ids\n",
        "\n",
        "# Function for language translation to Indonesian using two beams search\n",
        "def translate_text_MarianMTIndonesian_sevenBeam():\n",
        "    output = model.generate(\n",
        "    input_ids,\n",
        "    max_length=100,\n",
        "    num_beams=7,  # Number of beams for beam search\n",
        "    early_stopping=True\n",
        "    )\n",
        "    translated_text = tokenizer.decode(output[0], skip_special_tokens=True)\n",
        "    return translated_text\n",
        "\n",
        "# Testing for language translation to Indonesian using MarianMT model with two beams\n",
        "# Measure response time\n",
        "start_time = time.time()\n",
        "# Generate text using beam search\n",
        "translated_text_MarianMTIndonesian_sevenBeam = translate_text_MarianMTIndonesian_sevenBeam()\n",
        "end_time = time.time()\n",
        "response_time_MarianMTIndonesian_sevenBeam = end_time - start_time\n",
        "# Measure memory usage\n",
        "memory_used_MarianMTIndonesian_sevenBeam = memory_usage(translate_text_MarianMTIndonesian_sevenBeam)\n",
        "\n",
        "# Print results for Indonesian language translation with MarianMT  model using seven Beams\n",
        "print(\"Translated Text (MarianMT Indonesian translation with Beam Search using seven Beams):\", translated_text_MarianMTIndonesian_sevenBeam)\n",
        "print(f\"Response Time: {response_time_MarianMTIndonesian_sevenBeam:.2f} seconds\")\n",
        "print(f\"Memory Usage: {max(memory_used_MarianMTIndonesian_sevenBeam):.2f} MB\")"
      ]
    },
    {
      "cell_type": "markdown",
      "metadata": {
        "id": "r-Kj85tlrjMo"
      },
      "source": [
        "<h3><b>Languge Translation to Indonesian using twenty-five beams</b><h3>"
      ]
    },
    {
      "cell_type": "code",
      "execution_count": null,
      "metadata": {
        "colab": {
          "base_uri": "https://localhost:8080/"
        },
        "id": "nGxTtg5crlay",
        "outputId": "4fa3190c-439c-4664-e2f0-7adc81ff84b6"
      },
      "outputs": [
        {
          "name": "stdout",
          "output_type": "stream",
          "text": [
            "Translated Text (MarianMT Indonesian translation with Beam Search using twenty Five Beams): Komputer telah merevolusi cara kita hidup dan bekerja. komputer elektronik pertama, ENIAC, sangat besar, beratnya hampir 30 ton. komputer hari ini secara eksponensial lebih kecil dan lebih kuat. hukum Moore, dirumuskan oleh Gordon Moore, meramalkan dua kali lipat transistor pada microchip setiap dua tahun, mendorong kemajuan cepat. sistem biner, bahasa dasar komputer, menggunakan 0s dan 1s untuk mewakili informasi.\n",
            "Response Time: 6.59 seconds\n",
            "Memory Usage: 684.99 MB\n"
          ]
        }
      ],
      "source": [
        "import time\n",
        "from transformers import MarianMTModel, MarianTokenizer\n",
        "from memory_profiler import memory_usage\n",
        "\n",
        "model_name = \"Helsinki-NLP/opus-mt-en-id\"  # English to Indonesian translation\n",
        "tokenizer = MarianTokenizer.from_pretrained(model_name)\n",
        "model = MarianMTModel.from_pretrained(model_name)\n",
        "\n",
        "input_text = '''\n",
        "Computers have revolutionized the way we live and work.\n",
        "The first electronic computer, ENIAC, was massive, weighing nearly 30 tons.\n",
        "Today's computers are exponentially smaller and more powerful. Moore's Law, formulated by Gordon Moore,\n",
        "predicted the doubling of transistors on a microchip every two years, driving rapid advancements.\n",
        "The binary system, the fundamental language of computers, uses 0s and 1s to represent information.\n",
        "'''\n",
        "\n",
        "input_ids = tokenizer(input_text, return_tensors=\"pt\").input_ids\n",
        "\n",
        "# Function for language translation to french using two beams search\n",
        "def translate_text_MarianMTIndonesian_twentyFiveBeam():\n",
        "    output = model.generate(\n",
        "    input_ids,\n",
        "    max_length=100,\n",
        "    num_beams=25,  # Number of beams for beam search\n",
        "    early_stopping=True\n",
        "    )\n",
        "    translated_text = tokenizer.decode(output[0], skip_special_tokens=True)\n",
        "    return translated_text\n",
        "\n",
        "# Testing for language translation to Indonesian using MarianMT model with two beams\n",
        "# Measure response time\n",
        "start_time = time.time()\n",
        "# Generate text using beam search\n",
        "translated_text_MarianMTIndonesian_twentyFiveBeam = translate_text_MarianMTIndonesian_twentyFiveBeam()\n",
        "end_time = time.time()\n",
        "response_time_MarianMTIndonesian_twentyFiveBeam = end_time - start_time\n",
        "# Measure memory usage\n",
        "memory_used_MarianMTIndonesian_twentyFiveBeam = memory_usage(translate_text_MarianMTIndonesian_twentyFiveBeam)\n",
        "\n",
        "# Print results for Indonesian language translation with MarianMT  model using twenty Five Beams\n",
        "print(\"Translated Text (MarianMT Indonesian translation with Beam Search using twenty Five Beams):\", translated_text_MarianMTIndonesian_twentyFiveBeam)\n",
        "print(f\"Response Time: {response_time_MarianMTIndonesian_twentyFiveBeam:.2f} seconds\")\n",
        "print(f\"Memory Usage: {max(memory_used_MarianMTIndonesian_twentyFiveBeam):.2f} MB\")"
      ]
    },
    {
      "cell_type": "markdown",
      "metadata": {
        "id": "Z7mMsnY0xLHI"
      },
      "source": [
        "<h3><b>Languge Translation to Indonesian using normal search</b><h3>"
      ]
    },
    {
      "cell_type": "code",
      "execution_count": null,
      "metadata": {
        "colab": {
          "base_uri": "https://localhost:8080/"
        },
        "id": "kKDfnWcCxePX",
        "outputId": "e3b4cf9b-21f9-43fd-b756-bbef87bb78fc"
      },
      "outputs": [
        {
          "name": "stdout",
          "output_type": "stream",
          "text": [
            "Translated Text (MarianMT Indonesian translation with Beam Search using normal search): komputer telah merevolusi cara kita hidup dan bekerja komputer elektronik pertama, ENIAC, sangat besar, dengan berat hampir 30 ton komputer hari ini secara eksponensial lebih kecil dan lebih kuat, Hukum Moore, dirumuskan oleh Gordon Moore, memperkirakan dua kali lipat transistor pada microchip setiap dua tahun, mendorong kemajuan cepat sistem biner, bahasa dasar komputer, menggunakan 0s dan 1s untuk mewakili informasi.\n",
            "Response Time: 2.00 seconds\n",
            "Memory Usage: 516.36 MB\n"
          ]
        }
      ],
      "source": [
        "import time\n",
        "from transformers import MarianMTModel, MarianTokenizer\n",
        "from memory_profiler import memory_usage\n",
        "\n",
        "model_name = \"Helsinki-NLP/opus-mt-en-id\"  # English to Indonesian translation\n",
        "tokenizer = MarianTokenizer.from_pretrained(model_name)\n",
        "model = MarianMTModel.from_pretrained(model_name)\n",
        "\n",
        "input_text = '''\n",
        "Computers have revolutionized the way we live and work.\n",
        "The first electronic computer, ENIAC, was massive, weighing nearly 30 tons.\n",
        "Today's computers are exponentially smaller and more powerful. Moore's Law, formulated by Gordon Moore,\n",
        "predicted the doubling of transistors on a microchip every two years, driving rapid advancements.\n",
        "The binary system, the fundamental language of computers, uses 0s and 1s to represent information.\n",
        "'''\n",
        "\n",
        "input_ids = tokenizer(input_text, return_tensors=\"pt\").input_ids\n",
        "\n",
        "# Function for language translation to french using two beams search\n",
        "def translate_text_MarianMTIndonesian_normalSearch():\n",
        "    output = model.generate(\n",
        "    input_ids,\n",
        "    max_length=100,\n",
        "    )\n",
        "    translated_text = tokenizer.decode(output[0], skip_special_tokens=True)\n",
        "    return translated_text\n",
        "\n",
        "# Testing for language translation to Indonesian using MarianMT model with two beams\n",
        "# Measure response time\n",
        "start_time = time.time()\n",
        "# Generate text using beam search\n",
        "translated_text_MarianMTIndonesian_normalSearch = translate_text_MarianMTIndonesian_normalSearch()\n",
        "end_time = time.time()\n",
        "response_time_MarianMTIndonesian_normalSearch = end_time - start_time\n",
        "# Measure memory usage\n",
        "memory_used_MarianMTIndonesian_normalSearch = memory_usage(translate_text_MarianMTIndonesian_normalSearch)\n",
        "\n",
        "# Print results for Indonesian language translation with MarianMT  model using normal search\n",
        "print(\"Translated Text (MarianMT Indonesian translation with Beam Search using normal search):\", translated_text_MarianMTIndonesian_normalSearch)\n",
        "print(f\"Response Time: {response_time_MarianMTIndonesian_normalSearch:.2f} seconds\")\n",
        "print(f\"Memory Usage: {max(memory_used_MarianMTIndonesian_normalSearch):.2f} MB\")"
      ]
    },
    {
      "cell_type": "markdown",
      "metadata": {
        "id": "Xa4SWVod-R3i"
      },
      "source": [
        "## <h3><b>Machine Translation with MarianMT (Chinese)</b><h3>"
      ]
    },
    {
      "cell_type": "markdown",
      "metadata": {
        "id": "TfeI9wWHDxyj"
      },
      "source": [
        "<h3><b>Languge Translation to Chinese using two beams</b><h3>"
      ]
    },
    {
      "cell_type": "code",
      "execution_count": null,
      "metadata": {
        "colab": {
          "base_uri": "https://localhost:8080/"
        },
        "id": "tu7Gdtb4-vf4",
        "outputId": "207b5aac-37a5-489e-b91a-4802cedf5297"
      },
      "outputs": [
        {
          "name": "stdout",
          "output_type": "stream",
          "text": [
            "Translated Text (MarianMT Chinese translation with Beam Search using two beam): 计算机已经改变了我们的生活和工作方式。第一台电子计算机,即ENIAC,规模庞大,重量近30吨。今天的计算机是指数化的,规模较小,实力也更大。戈登·摩尔制定的摩尔法律预测,每两年在微晶片上将晶体管翻一番,这能推动快速的进步。二元系统,计算机的基本语言,用0和1来代表信息。\n",
            "Response Time: 1.67 seconds\n",
            "Memory Usage: 511.83 MB\n"
          ]
        }
      ],
      "source": [
        "import time\n",
        "from transformers import MarianMTModel, MarianTokenizer\n",
        "from memory_profiler import memory_usage\n",
        "\n",
        "model_name = \"Helsinki-NLP/opus-mt-en-zh\"  # English to Chinese translation\n",
        "tokenizer = MarianTokenizer.from_pretrained(model_name)\n",
        "model = MarianMTModel.from_pretrained(model_name)\n",
        "\n",
        "input_text = '''\n",
        "Computers have revolutionized the way we live and work.\n",
        "The first electronic computer, ENIAC, was massive, weighing nearly 30 tons.\n",
        "Today's computers are exponentially smaller and more powerful. Moore's Law, formulated by Gordon Moore,\n",
        "predicted the doubling of transistors on a microchip every two years, driving rapid advancements.\n",
        "The binary system, the fundamental language of computers, uses 0s and 1s to represent information.\n",
        "'''\n",
        "\n",
        "input_ids = tokenizer(input_text, return_tensors=\"pt\").input_ids\n",
        "\n",
        "# Function for language translation to Chinese using two beams search\n",
        "def translate_text_MarianMTChinese_twoBeam():\n",
        "    output = model.generate(\n",
        "    input_ids,\n",
        "    max_length=100,\n",
        "    num_beams=2,  # Number of beams for beam search\n",
        "    early_stopping=True\n",
        "    )\n",
        "    translated_text = tokenizer.decode(output[0], skip_special_tokens=True)\n",
        "    return translated_text\n",
        "\n",
        "# Testing for language translation to Chinese using MarianMT model with two beams\n",
        "# Measure response time\n",
        "start_time = time.time()\n",
        "# Generate text using beam search\n",
        "translated_text_MarianMTChinese_twoBeam = translate_text_MarianMTChinese_twoBeam()\n",
        "end_time = time.time()\n",
        "response_time_MarianMTChinese_twoBeam = end_time - start_time\n",
        "# Measure memory usage\n",
        "memory_used_MarianMTChinese_twoBeam = memory_usage(translate_text_MarianMTChinese_twoBeam)\n",
        "\n",
        "# Print results for Chinese language translation with MarianMT  model using two beam\n",
        "print(\"Translated Text (MarianMT Chinese translation with Beam Search using two beam):\", translated_text_MarianMTChinese_twoBeam)\n",
        "print(f\"Response Time: {response_time_MarianMTChinese_twoBeam:.2f} seconds\")\n",
        "print(f\"Memory Usage: {max(memory_used_MarianMTChinese_twoBeam):.2f} MB\")"
      ]
    },
    {
      "cell_type": "markdown",
      "metadata": {
        "id": "pruOfk5nDouS"
      },
      "source": [
        "<h3><b>Languge Translation to Chinese using seven beams</b><h3>"
      ]
    },
    {
      "cell_type": "code",
      "execution_count": null,
      "metadata": {
        "colab": {
          "base_uri": "https://localhost:8080/"
        },
        "id": "zoQwssGeDpu6",
        "outputId": "a7941290-8d6b-4a75-d8dc-80c9caad40da"
      },
      "outputs": [
        {
          "name": "stdout",
          "output_type": "stream",
          "text": [
            "Translated Text (MarianMT Chinese translation with Beam Search using seven beam): 计算机已经改变了我们的生活和工作方式。第一台电子计算机,即ENIAC,规模庞大,重量近30吨。今天的计算机是指数化的,规模较小,实力也更大。戈登·摩尔制定的摩尔法律预测,每两年在微晶片上将晶体管翻一番,这能推动快速的进步。二元系统,计算机的基本语言,用0和1来代表信息。\n",
            "Response Time: 3.17 seconds\n",
            "Memory Usage: 548.30 MB\n"
          ]
        }
      ],
      "source": [
        "import time\n",
        "from transformers import MarianMTModel, MarianTokenizer\n",
        "from memory_profiler import memory_usage\n",
        "\n",
        "model_name = \"Helsinki-NLP/opus-mt-en-zh\"  # English to Indonesian translation\n",
        "tokenizer = MarianTokenizer.from_pretrained(model_name)\n",
        "model = MarianMTModel.from_pretrained(model_name)\n",
        "\n",
        "input_text = '''\n",
        "Computers have revolutionized the way we live and work.\n",
        "The first electronic computer, ENIAC, was massive, weighing nearly 30 tons.\n",
        "Today's computers are exponentially smaller and more powerful. Moore's Law, formulated by Gordon Moore,\n",
        "predicted the doubling of transistors on a microchip every two years, driving rapid advancements.\n",
        "The binary system, the fundamental language of computers, uses 0s and 1s to represent information.\n",
        "'''\n",
        "\n",
        "input_ids = tokenizer(input_text, return_tensors=\"pt\").input_ids\n",
        "\n",
        "# Function for language translation to Chinese using seven beams search\n",
        "def translate_text_MarianMTChinese_sevenBeam():\n",
        "    output = model.generate(\n",
        "    input_ids,\n",
        "    max_length=100,\n",
        "    num_beams=7,  # Number of beams for beam search\n",
        "    early_stopping=True\n",
        "    )\n",
        "    translated_text = tokenizer.decode(output[0], skip_special_tokens=True)\n",
        "    return translated_text\n",
        "\n",
        "# Testing for language translation to Chinese using MarianMT model with seven beams\n",
        "# Measure response time\n",
        "start_time = time.time()\n",
        "# Generate text using beam search\n",
        "translated_text_MarianMTChinese_sevenBeam = translate_text_MarianMTChinese_sevenBeam()\n",
        "end_time = time.time()\n",
        "response_time_MarianMTChinese_sevenBeam = end_time - start_time\n",
        "# Measure memory usage\n",
        "memory_used_MarianMTChinese_sevenBeam = memory_usage(translate_text_MarianMTChinese_sevenBeam)\n",
        "\n",
        "# Print results for Chinese language translation with MarianMT  model using two beam\n",
        "print(\"Translated Text (MarianMT Chinese translation with Beam Search using seven beam):\", translated_text_MarianMTChinese_twoBeam)\n",
        "print(f\"Response Time: {response_time_MarianMTChinese_sevenBeam:.2f} seconds\")\n",
        "print(f\"Memory Usage: {max(memory_used_MarianMTChinese_sevenBeam):.2f} MB\")"
      ]
    },
    {
      "cell_type": "markdown",
      "metadata": {
        "id": "z2cgSc_wGfId"
      },
      "source": [
        "<h3><b>Languge Translation to Chinese using twenty-five beams</b><h3>"
      ]
    },
    {
      "cell_type": "code",
      "execution_count": null,
      "metadata": {
        "colab": {
          "base_uri": "https://localhost:8080/"
        },
        "id": "ja1n-qqhGfad",
        "outputId": "6857cab2-394d-45f0-a960-04c2e876fdf2"
      },
      "outputs": [
        {
          "name": "stdout",
          "output_type": "stream",
          "text": [
            "Translated Text (MarianMT Chinese translation with Beam Search using twenty Five beam): 计算机使我们的生活和工作方式发生了革命性的变化。第一台电子计算机ENIAC(ENIAC)规模庞大,重量近30吨。今天的计算机成倍变小,威力更大。戈登·摩尔(Gordon Moore)制定的《摩尔法 》 ( Moore Law)预测,小芯片上的晶体管每两年翻一番,推动快速进步。 二元系统,计算机的基本语言,使用0和\n",
            "Response Time: 8.19 seconds\n",
            "Memory Usage: 724.89 MB\n"
          ]
        }
      ],
      "source": [
        "import time\n",
        "from transformers import MarianMTModel, MarianTokenizer\n",
        "from memory_profiler import memory_usage\n",
        "\n",
        "model_name = \"Helsinki-NLP/opus-mt-en-zh\"  # English to Indonesian translation\n",
        "tokenizer = MarianTokenizer.from_pretrained(model_name)\n",
        "model = MarianMTModel.from_pretrained(model_name)\n",
        "\n",
        "input_text = '''\n",
        "Computers have revolutionized the way we live and work.\n",
        "The first electronic computer, ENIAC, was massive, weighing nearly 30 tons.\n",
        "Today's computers are exponentially smaller and more powerful. Moore's Law, formulated by Gordon Moore,\n",
        "predicted the doubling of transistors on a microchip every two years, driving rapid advancements.\n",
        "The binary system, the fundamental language of computers, uses 0s and 1s to represent information.\n",
        "'''\n",
        "\n",
        "input_ids = tokenizer(input_text, return_tensors=\"pt\").input_ids\n",
        "\n",
        "# Function for language translation to Chinese using seven beams search\n",
        "def translate_text_MarianMTChinese_twentyFiveBeam():\n",
        "    output = model.generate(\n",
        "    input_ids,\n",
        "    max_length=100,\n",
        "    num_beams=25,  # Number of beams for beam search\n",
        "    early_stopping=True\n",
        "    )\n",
        "    translated_text = tokenizer.decode(output[0], skip_special_tokens=True)\n",
        "    return translated_text\n",
        "\n",
        "# Testing for language translation to Chinese using MarianMT model with twenty Five beams\n",
        "# Measure response time\n",
        "start_time = time.time()\n",
        "# Generate text using beam search\n",
        "translated_text_MarianMTChinese_twentyFiveBeam = translate_text_MarianMTChinese_twentyFiveBeam()\n",
        "end_time = time.time()\n",
        "response_time_MarianMTChinese_twentyFiveBeam = end_time - start_time\n",
        "# Measure memory usage\n",
        "memory_used_MarianMTChinese_twentyFiveBeam = memory_usage(translate_text_MarianMTChinese_twentyFiveBeam)\n",
        "\n",
        "# Print results for Chinese language translation with MarianMT  model using two beam\n",
        "print(\"Translated Text (MarianMT Chinese translation with Beam Search using twenty Five beam):\", translated_text_MarianMTChinese_twentyFiveBeam)\n",
        "print(f\"Response Time: {response_time_MarianMTChinese_twentyFiveBeam:.2f} seconds\")\n",
        "print(f\"Memory Usage: {max(memory_used_MarianMTChinese_twentyFiveBeam):.2f} MB\")"
      ]
    },
    {
      "cell_type": "markdown",
      "metadata": {
        "id": "Rc9JR8G2YDN1"
      },
      "source": [
        "<h3><b>Languge Translation to Chinese using normal search</b><h3>"
      ]
    },
    {
      "cell_type": "code",
      "execution_count": null,
      "metadata": {
        "colab": {
          "base_uri": "https://localhost:8080/"
        },
        "id": "ZHm8B_evYDhK",
        "outputId": "e42b1105-c32e-4c0a-f609-73367643d722"
      },
      "outputs": [
        {
          "name": "stdout",
          "output_type": "stream",
          "text": [
            "Translated Text (MarianMT Chinese translation with Beam Search using normal search): 计算机改变了我们的生活和工作方式。第一台电子计算机ENIAC(ENIAC)规模庞大,重量近30吨。今天的计算机指数性小,实力强。戈登·摩尔(Gordon Moore)制定的《摩尔法》预测,小芯片上的晶体管每两年翻一番,推动快速进步。二元系统,计算机的基本语言,使用0和1来代表信息。\n",
            "Response Time: 2.31 seconds\n",
            "Memory Usage: 538.48 MB\n"
          ]
        }
      ],
      "source": [
        "import time\n",
        "from transformers import MarianMTModel, MarianTokenizer\n",
        "from memory_profiler import memory_usage\n",
        "\n",
        "model_name = \"Helsinki-NLP/opus-mt-en-zh\"  # English to Chinese translation\n",
        "tokenizer = MarianTokenizer.from_pretrained(model_name)\n",
        "model = MarianMTModel.from_pretrained(model_name)\n",
        "\n",
        "input_text = '''\n",
        "Computers have revolutionized the way we live and work.\n",
        "The first electronic computer, ENIAC, was massive, weighing nearly 30 tons.\n",
        "Today's computers are exponentially smaller and more powerful. Moore's Law, formulated by Gordon Moore,\n",
        "predicted the doubling of transistors on a microchip every two years, driving rapid advancements.\n",
        "The binary system, the fundamental language of computers, uses 0s and 1s to represent information.\n",
        "'''\n",
        "\n",
        "input_ids = tokenizer(input_text, return_tensors=\"pt\").input_ids\n",
        "\n",
        "# Function for language translation to french using two beams search\n",
        "def translate_text_MarianMTChinese_normalSearch():\n",
        "    output = model.generate(\n",
        "    input_ids,\n",
        "    max_length=100,\n",
        "    )\n",
        "    translated_text = tokenizer.decode(output[0], skip_special_tokens=True)\n",
        "    return translated_text\n",
        "\n",
        "# Testing for language translation to Chinese using MarianMT model with two beams\n",
        "# Measure response time\n",
        "start_time = time.time()\n",
        "# Generate text using beam search\n",
        "translated_text_MarianMTChinese_normalSearch = translate_text_MarianMTChinese_normalSearch()\n",
        "end_time = time.time()\n",
        "response_time_MarianMTChinese_normalSearch = end_time - start_time\n",
        "# Measure memory usage\n",
        "memory_used_MarianMTChinese_normalSearch = memory_usage(translate_text_MarianMTChinese_normalSearch)\n",
        "\n",
        "# Print results for Chinese language translation with MarianMT  model using normal search\n",
        "print(\"Translated Text (MarianMT Chinese translation with Beam Search using normal search):\", translated_text_MarianMTChinese_normalSearch)\n",
        "print(f\"Response Time: {response_time_MarianMTChinese_normalSearch:.2f} seconds\")\n",
        "print(f\"Memory Usage: {max(memory_used_MarianMTChinese_normalSearch):.2f} MB\")"
      ]
    },
    {
      "cell_type": "markdown",
      "metadata": {
        "id": "8OUhbz6AXdLC"
      },
      "source": [
        "# <b>Results (Response Time And Memory Usage)</b>"
      ]
    },
    {
      "cell_type": "markdown",
      "metadata": {
        "id": "UhBD-phrXhm2"
      },
      "source": [
        "## <h3><b>Response Time and Memory Usage Of Text Generation using GPT-2,DistilGPT-2 and BART on bar graphs (Creative input prompt)</b><h3>"
      ]
    },
    {
      "cell_type": "markdown",
      "metadata": {
        "id": "udzv2fNkXhm3"
      },
      "source": [
        "<h3><b>GPT-2 Results (creative)</b><h3>"
      ]
    },
    {
      "cell_type": "code",
      "execution_count": null,
      "metadata": {
        "colab": {
          "base_uri": "https://localhost:8080/",
          "height": 650
        },
        "id": "W0VeJB-WXhm3",
        "outputId": "4547264a-c61e-448c-f3d1-865c265ee579"
      },
      "outputs": [
        {
          "data": {
            "image/png": "[encoded data removed]",
            "text/plain": [
              "<Figure size 432x288 with 2 Axes>"
            ]
          },
          "metadata": {
            "needs_background": "light"
          },
          "output_type": "display_data"
        },
        {
          "name": "stdout",
          "output_type": "stream",
          "text": [
            "Response Time for GPT2 normal search: 2.420576333999634 seconds\n",
            "Response Time for GPT2 two beam search: 3.703098773956299 seconds\n",
            "Response Time for GPT2 seven beam search: 3.596282720565796 seconds\n",
            "Response Time for GPT2 twenty-five beam search: 9.082454681396484 seconds\n",
            "\n",
            "Memory Usage for GPT2 normal search: 742.01MB\n",
            "Memory Usage for GPT2 two beam search: 752.39MB\n",
            "Memory Usage for GPT2 seven beam search: 805.06MB\n",
            "Memory Usage for GPT2 twenty-five beam search: 1148.42MB\n"
          ]
        }
      ],
      "source": [
        "import matplotlib.pyplot as plt\n",
        "\n",
        "# put the memory usage of using one beam to float variable\n",
        "gpt2_m2 = float(f\"{max(memory_used_gpt2_twoBeam):.2f}\")\n",
        "\n",
        "# put the memory usage of using seven beams to float variable\n",
        "gpt2_m7 = float(f\"{max(memory_used_gpt2_sevenBeam):.2f}\")\n",
        "\n",
        "# put the memory usage of using twenty-five beam to float variable\n",
        "gpt2_m25 = float(f\"{max(memory_used_gpt2_twentyFiveBeam):.2f}\")\n",
        "\n",
        "# put the memory usage of normal search to float variable\n",
        "gpt2_mNormal = float(f\"{max(memory_used_gpt2_normalSearch):.2f}\")\n",
        "\n",
        "# Sample data for the first graph\n",
        "num_beams_1 = [\"Normal\",\"2\",\"7\",\"25\"]\n",
        "response_time = [response_time_gpt2_normalSearch,response_time_gpt2_twoBeam,response_time_gpt2_sevenBeam,response_time_gpt2_twentyFiveBeam]  # in seconds\n",
        "\n",
        "# Sample data for the second graph\n",
        "num_beams_2 = [\"Normal\",\"2\",\"7\",\"25\"]\n",
        "memory_usage = [gpt2_mNormal,gpt2_m2,gpt2_m7,gpt2_m25]  # in mb\n",
        "\n",
        "# Create two subplots side by side\n",
        "plt.subplot(1, 2, 1)  # 1 row, 2 columns, 1st subplot\n",
        "plt.bar(num_beams_1, response_time, color='blue')\n",
        "plt.xlabel('Number of Beams')\n",
        "plt.ylabel('Response Time (seconds)')\n",
        "plt.title('Response Time (GPT-2)')\n",
        "\n",
        "plt.subplot(1, 2, 2)  # 1 row, 2 columns, 2nd subplot\n",
        "plt.bar(num_beams_2, memory_usage, color='orange')\n",
        "plt.xlabel('Number of Beams')\n",
        "plt.ylabel('Memory Usage (MB)')\n",
        "plt.title('Memory Usage (GPT-2)')\n",
        "\n",
        "# Adjust layout for better visualization\n",
        "plt.tight_layout()\n",
        "\n",
        "# Display the graphs\n",
        "plt.show()\n",
        "\n",
        "print(f\"Response Time for GPT2 normal search: {response_time_gpt2_normalSearch} seconds\")\n",
        "print(f\"Response Time for GPT2 two beam search: {response_time_gpt2_twoBeam} seconds\")\n",
        "print(f\"Response Time for GPT2 seven beam search: {response_time_gpt2_sevenBeam} seconds\")\n",
        "print(f\"Response Time for GPT2 twenty-five beam search: {response_time_gpt2_twentyFiveBeam} seconds\")\n",
        "\n",
        "print(\"\")\n",
        "\n",
        "print(f\"Memory Usage for GPT2 normal search: {gpt2_mNormal}MB\")\n",
        "print(f\"Memory Usage for GPT2 two beam search: {gpt2_m2}MB\")\n",
        "print(f\"Memory Usage for GPT2 seven beam search: {gpt2_m7}MB\")\n",
        "print(f\"Memory Usage for GPT2 twenty-five beam search: {gpt2_m25}MB\")"
      ]
    },
    {
      "cell_type": "markdown",
      "metadata": {
        "id": "TM9J_jzJXhm3"
      },
      "source": [
        "<h3><b>DistilGPT-2 Results (creative)</b><h3>"
      ]
    },
    {
      "cell_type": "code",
      "execution_count": null,
      "metadata": {
        "colab": {
          "base_uri": "https://localhost:8080/",
          "height": 650
        },
        "id": "XCgFlUjUXhm3",
        "outputId": "2b83791d-bacf-4dfb-8ba8-4f336e35538c"
      },
      "outputs": [
        {
          "data": {
            "image/png": "[encoded data removed]",
            "text/plain": [
              "<Figure size 432x288 with 2 Axes>"
            ]
          },
          "metadata": {
            "needs_background": "light"
          },
          "output_type": "display_data"
        },
        {
          "name": "stdout",
          "output_type": "stream",
          "text": [
            "Response Time for DistilGPT-2 normal search: 0.3766670227050781 seconds\n",
            "Response Time for DistilGPT-2 two beam search: 0.6510500907897949 seconds\n",
            "Response Time for DistilGPT-2 seven beam search: 2.297656774520874 seconds\n",
            "Response Time for DistilGPT-2 twenty-five beam search: 3.3743960857391357 seconds\n",
            "\n",
            "Memory Usage for DistilGPT-2 normal search: 568.98MB\n",
            "Memory Usage for DistilGPT-2 two beam search: 568.31MB\n",
            "Memory Usage for DistilGPT-2 seven beam search: 618.23MB\n",
            "Memory Usage for DistilGPT-2 twenty-five beam search: 696.91MB\n"
          ]
        }
      ],
      "source": [
        "import matplotlib.pyplot as plt\n",
        "\n",
        "# put the memory usage of using one beam to float variable\n",
        "distilgpt2_m2 = float(f\"{max(memory_used_distilgpt2_twoBeam):.2f}\")\n",
        "\n",
        "# put the memory usage of using seven beams to float variable\n",
        "distilgpt2_m7 = float(f\"{max(memory_used_distilgpt2_sevenBeam):.2f}\")\n",
        "\n",
        "# put the memory usage of using twenty-five beam to float variable\n",
        "distilgpt2_m25 = float(f\"{max(memory_used_distilgpt2_twentyFiveBeam):.2f}\")\n",
        "\n",
        "# put the memory usage of normal search to float variable\n",
        "distilgpt2_mNormal = float(f\"{max(memory_used_distilgpt2_normalSearch):.2f}\")\n",
        "\n",
        "# Sample data for the first graph\n",
        "num_beams_1 = [\"Normal\",\"2\",\"7\",\"25\"]\n",
        "response_time = [response_time_distilgpt2_normalSearch,response_time_distilgpt2_twoBeam,response_time_distilgpt2_sevenBeam,response_time_distilgpt2_twentyFiveBeam]  # in seconds\n",
        "\n",
        "# Sample data for the second graph\n",
        "num_beams_2 = [\"Normal\",\"2\",\"7\",\"25\"]\n",
        "memory_usage = [distilgpt2_mNormal,distilgpt2_m2,distilgpt2_m7,distilgpt2_m25]  # in mb\n",
        "\n",
        "# Create two subplots side by side\n",
        "plt.subplot(1, 2, 1)  # 1 row, 2 columns, 1st subplot\n",
        "plt.bar(num_beams_1, response_time, color='blue')\n",
        "plt.xlabel('Number of Beams')\n",
        "plt.ylabel('Response Time (seconds)')\n",
        "plt.title('Response Time (DistilGPT-2)')\n",
        "\n",
        "plt.subplot(1, 2, 2)  # 1 row, 2 columns, 2nd subplot\n",
        "plt.bar(num_beams_2, memory_usage, color='orange')\n",
        "plt.xlabel('Number of Beams')\n",
        "plt.ylabel('Memory Usage (MB)')\n",
        "plt.title('Memory Usage (DistilGPT-2)')\n",
        "\n",
        "# Adjust layout for better visualization\n",
        "plt.tight_layout()\n",
        "\n",
        "# Display the graphs\n",
        "plt.show()\n",
        "\n",
        "print(f\"Response Time for DistilGPT-2 normal search: {response_time_distilgpt2_normalSearch} seconds\")\n",
        "print(f\"Response Time for DistilGPT-2 two beam search: {response_time_distilgpt2_twoBeam} seconds\")\n",
        "print(f\"Response Time for DistilGPT-2 seven beam search: {response_time_distilgpt2_sevenBeam} seconds\")\n",
        "print(f\"Response Time for DistilGPT-2 twenty-five beam search: {response_time_distilgpt2_twentyFiveBeam} seconds\")\n",
        "\n",
        "print(\"\")\n",
        "\n",
        "print(f\"Memory Usage for DistilGPT-2 normal search: {distilgpt2_mNormal}MB\")\n",
        "print(f\"Memory Usage for DistilGPT-2 two beam search: {distilgpt2_m2}MB\")\n",
        "print(f\"Memory Usage for DistilGPT-2 seven beam search: {distilgpt2_m7}MB\")\n",
        "print(f\"Memory Usage for DistilGPT-2 twenty-five beam search: {distilgpt2_m25}MB\")"
      ]
    },
    {
      "cell_type": "markdown",
      "metadata": {
        "id": "51DPugIPXhm4"
      },
      "source": [
        "<h3><b>BART Results (creative)</b><h3>"
      ]
    },
    {
      "cell_type": "code",
      "execution_count": null,
      "metadata": {
        "colab": {
          "base_uri": "https://localhost:8080/",
          "height": 650
        },
        "id": "AQdczG8nXhm4",
        "outputId": "e0cbc541-157c-409d-a631-e74f714e4ed6"
      },
      "outputs": [
        {
          "data": {
            "image/png": "[encoded data removed]",
            "text/plain": [
              "<Figure size 432x288 with 2 Axes>"
            ]
          },
          "metadata": {
            "needs_background": "light"
          },
          "output_type": "display_data"
        },
        {
          "name": "stdout",
          "output_type": "stream",
          "text": [
            "Response Time for BART normal search: 2.5115089416503906 seconds\n",
            "Response Time for BART two beam search: 4.254696607589722 seconds\n",
            "Response Time for BART seven beam search: 5.942361116409302 seconds\n",
            "Response Time for BART twenty-five beam search: 8.313567876815796 seconds\n",
            "\n",
            "Memory Usage for BART normal search: 1717.61MB\n",
            "Memory Usage for BART two beam search: 1769.09MB\n",
            "Memory Usage for BART seven beam search: 1709.95MB\n",
            "Memory Usage for BART twenty-five beam search: 2124.85MB\n"
          ]
        }
      ],
      "source": [
        "import matplotlib.pyplot as plt\n",
        "\n",
        "# put the memory usage of using one beam to float variable\n",
        "bart_m2 = float(f\"{max(memory_used_bart_twoBeam):.2f}\")\n",
        "\n",
        "# put the memory usage of using seven beams to float variable\n",
        "bart_m7 = float(f\"{max(memory_used_bart_sevenBeam):.2f}\")\n",
        "\n",
        "# put the memory usage of using twenty-five beam to float variable\n",
        "bart_m25 = float(f\"{max(memory_used_bart_twentyFiveBeam):.2f}\")\n",
        "\n",
        "# put the memory usage of normal search to float variable\n",
        "bart_mNormal = float(f\"{max(memory_used_bart_normalSearch):.2f}\")\n",
        "\n",
        "# Sample data for the first graph\n",
        "num_beams_1 = [\"Normal\",\"2\",\"7\",\"25\"]\n",
        "response_time = [response_time_bart_normalSearch,response_time_bart_twoBeam,response_time_bart_sevenBeam,response_time_bart_twentyFiveBeam]  # in seconds\n",
        "\n",
        "# Sample data for the second graph\n",
        "num_beams_2 = [\"Normal\",\"2\",\"7\",\"25\"]\n",
        "memory_usage = [bart_mNormal,bart_m2,bart_m7,bart_m25]  # in mb\n",
        "\n",
        "# Create two subplots side by side\n",
        "plt.subplot(1, 2, 1)  # 1 row, 2 columns, 1st subplot\n",
        "plt.bar(num_beams_1, response_time, color='blue')\n",
        "plt.xlabel('Number of Beams')\n",
        "plt.ylabel('Response Time (seconds)')\n",
        "plt.title('Response Time (BART))')\n",
        "\n",
        "plt.subplot(1, 2, 2)  # 1 row, 2 columns, 2nd subplot\n",
        "plt.bar(num_beams_2, memory_usage, color='orange')\n",
        "plt.xlabel('Number of Beams')\n",
        "plt.ylabel('Memory Usage (MB)')\n",
        "plt.title('Memory Usage (BART)')\n",
        "\n",
        "# Adjust layout for better visualization\n",
        "plt.tight_layout()\n",
        "\n",
        "# Display the graphs\n",
        "plt.show()\n",
        "\n",
        "\n",
        "print(f\"Response Time for BART normal search: {response_time_bart_normalSearch} seconds\")\n",
        "print(f\"Response Time for BART two beam search: {response_time_bart_twoBeam} seconds\")\n",
        "print(f\"Response Time for BART seven beam search: {response_time_bart_sevenBeam} seconds\")\n",
        "print(f\"Response Time for BART twenty-five beam search: {response_time_bart_twentyFiveBeam} seconds\")\n",
        "\n",
        "print(\"\")\n",
        "\n",
        "print(f\"Memory Usage for BART normal search: {bart_mNormal}MB\")\n",
        "print(f\"Memory Usage for BART two beam search: {bart_m2}MB\")\n",
        "print(f\"Memory Usage for BART seven beam search: {bart_m7}MB\")\n",
        "print(f\"Memory Usage for BART twenty-five beam search: {bart_m25}MB\")"
      ]
    },
    {
      "cell_type": "markdown",
      "metadata": {
        "id": "kN4PzUryXhm4"
      },
      "source": [
        "<h3><b>Comparison of Response Time for Normal, 2 , 7 and 25 beam search for each model type (Creative Text Generation)</b><h3>"
      ]
    },
    {
      "cell_type": "code",
      "execution_count": null,
      "metadata": {
        "colab": {
          "base_uri": "https://localhost:8080/",
          "height": 636
        },
        "id": "-9-g8mpsXhm4",
        "outputId": "963fb067-8a31-4d8a-8788-cc3e9095f78a"
      },
      "outputs": [
        {
          "data": {
            "image/png": "[encoded data removed]",
            "text/plain": [
              "<Figure size 1152x288 with 4 Axes>"
            ]
          },
          "metadata": {
            "needs_background": "light"
          },
          "output_type": "display_data"
        },
        {
          "name": "stdout",
          "output_type": "stream",
          "text": [
            "Response Time for GPT2 normal search: 2.420576333999634 seconds\n",
            "Response Time for DistilGPT2 normal search: 0.3766670227050781 seconds\n",
            "Response Time for BART normal search: 2.5115089416503906 seconds\n",
            "\n",
            "Response Time for GPT2 two beam search: 3.703098773956299 seconds\n",
            "Response Time for DistilGPT2 two beam search: 0.6510500907897949 seconds\n",
            "Response Time for BART two beam search: 4.254696607589722 seconds\n",
            "\n",
            "Response Time for GPT2 seven beam search: 3.596282720565796 seconds\n",
            "Response Time for DistilGPT2 seven beam search: 2.297656774520874 seconds\n",
            "Response Time for BART seven beam search: 5.942361116409302 seconds\n",
            "\n",
            "Response Time for GPT2 twenty five beam search: 9.082454681396484 seconds\n",
            "Response Time for DistilGPT2 twenty five beam search: 3.3743960857391357 seconds\n",
            "Response Time for BART twenty five beam search: 8.313567876815796 seconds\n"
          ]
        }
      ],
      "source": [
        "import matplotlib.pyplot as plt\n",
        "import numpy as np\n",
        "\n",
        "# Sample data for demonstration\n",
        "model_types = ['GPT-2', 'DistilGPT-2', 'BART']\n",
        "values = np.array([[response_time_gpt2_normalSearch, response_time_gpt2_twoBeam, response_time_gpt2_sevenBeam, response_time_gpt2_twentyFiveBeam], [response_time_distilgpt2_normalSearch, response_time_distilgpt2_twoBeam, response_time_distilgpt2_sevenBeam, response_time_distilgpt2_twentyFiveBeam], [response_time_bart_normalSearch, response_time_bart_twoBeam, response_time_bart_sevenBeam, response_time_bart_twentyFiveBeam]])\n",
        "\n",
        "# Setting up positions for bars\n",
        "bar_width = 0.2\n",
        "bar_positions = np.arange(len(model_types))\n",
        "\n",
        "# Define different labels for each graph\n",
        "labels_list = ['Normal Search', 'Beam Search (2 beams)', 'Beam Search (7 beams)', 'Beam Search (25 beams)']\n",
        "\n",
        "# Transpose the values array to match the correct shape\n",
        "graph_values = values.T.tolist()\n",
        "\n",
        "# Calculate the maximum value among all data points\n",
        "max_value = np.max(values)\n",
        "\n",
        "# Create a figure with a single row and four columns\n",
        "fig, axs = plt.subplots(nrows=1, ncols=4, figsize=(16, 4))\n",
        "\n",
        "# Plotting each bar graph\n",
        "for i, ax in enumerate(axs):\n",
        "    ax.bar(bar_positions, graph_values[i], bar_width, label=labels_list[i])\n",
        "    ax.set_xlabel('Model Types')\n",
        "    ax.set_ylabel('Response Time(Seconds)')\n",
        "    ax.set_title(labels_list[i])\n",
        "\n",
        "    # Adding x-axis ticks and labels\n",
        "    ax.set_xticks(bar_positions)\n",
        "    ax.set_xticklabels(model_types)\n",
        "\n",
        "    # Set a common y-axis range\n",
        "    ax.set_ylim(0, max_value)\n",
        "\n",
        "    # Adding legend\n",
        "    #ax.legend()\n",
        "\n",
        "# Adjust layout for better spacing\n",
        "plt.tight_layout()\n",
        "\n",
        "# Show the plot\n",
        "plt.show()\n",
        "\n",
        "print(f\"Response Time for GPT2 normal search: {response_time_gpt2_normalSearch} seconds\")\n",
        "print(f\"Response Time for DistilGPT2 normal search: {response_time_distilgpt2_normalSearch} seconds\")\n",
        "print(f\"Response Time for BART normal search: {response_time_bart_normalSearch} seconds\")\n",
        "\n",
        "print(\"\")\n",
        "print(f\"Response Time for GPT2 two beam search: {response_time_gpt2_twoBeam} seconds\")\n",
        "print(f\"Response Time for DistilGPT2 two beam search: {response_time_distilgpt2_twoBeam} seconds\")\n",
        "print(f\"Response Time for BART two beam search: { response_time_bart_twoBeam} seconds\")\n",
        "\n",
        "print(\"\")\n",
        "print(f\"Response Time for GPT2 seven beam search: {response_time_gpt2_sevenBeam} seconds\")\n",
        "print(f\"Response Time for DistilGPT2 seven beam search: {response_time_distilgpt2_sevenBeam} seconds\")\n",
        "print(f\"Response Time for BART seven beam search: {response_time_bart_sevenBeam} seconds\")\n",
        "\n",
        "print(\"\")\n",
        "print(f\"Response Time for GPT2 twenty five beam search: {response_time_gpt2_twentyFiveBeam} seconds\")\n",
        "print(f\"Response Time for DistilGPT2 twenty five beam search: {response_time_distilgpt2_twentyFiveBeam} seconds\")\n",
        "print(f\"Response Time for BART twenty five beam search: {response_time_bart_twentyFiveBeam} seconds\")"
      ]
    },
    {
      "cell_type": "markdown",
      "metadata": {
        "id": "ilXVQrEmXhm4"
      },
      "source": [
        "<h3><b>Comparison of Memory Usage for Normal, 2 , 7 and 25 beam search for each model type (Creative Text Generation)</b><h3>"
      ]
    },
    {
      "cell_type": "code",
      "execution_count": null,
      "metadata": {
        "colab": {
          "base_uri": "https://localhost:8080/",
          "height": 636
        },
        "id": "7t9nT_PtXhm5",
        "outputId": "8088ba92-1c9f-4386-84f3-4377c9959bb7"
      },
      "outputs": [
        {
          "data": {
            "image/png": "[encoded data removed]",
            "text/plain": [
              "<Figure size 1152x288 with 4 Axes>"
            ]
          },
          "metadata": {
            "needs_background": "light"
          },
          "output_type": "display_data"
        },
        {
          "name": "stdout",
          "output_type": "stream",
          "text": [
            "Memory Usage for GPT2 normal search: 742.01MB\n",
            "Memory Usage for DistilGPT2 normal search: 568.98MB\n",
            "Memory Usage for BART normal search: 1717.61MB\n",
            "\n",
            "Memory Usage for GPT2 two beam search: 752.39MB\n",
            "Memory Usage for DistilGPT2 two beam search: 568.31MB\n",
            "Memory Usage for BART two beam search: 1769.09MB\n",
            "\n",
            "Memory Usage for GPT2 seven beam search: 805.06MB\n",
            "Memory Usage for DistilGPT2 seven beam search: 618.23MB\n",
            "Memory Usage for BART seven beam search: 1709.95MB\n",
            "\n",
            "Memory Usage for GPT2 twenty five beam search: 1148.42MB\n",
            "Memory Usage for DistilGPT2 twenty five beam search: 696.91MB\n",
            "Memory Usage for BART twenty five beam search: 2124.85MB\n"
          ]
        }
      ],
      "source": [
        "import matplotlib.pyplot as plt\n",
        "import numpy as np\n",
        "\n",
        "# Sample data for demonstration\n",
        "model_types = ['GPT-2', 'DistilGPT-2', 'BART']\n",
        "values = np.array([[gpt2_mNormal, gpt2_m2, gpt2_m7, gpt2_m25], [distilgpt2_mNormal, distilgpt2_m2, distilgpt2_m7, distilgpt2_m25], [bart_mNormal, bart_m2, bart_m7, bart_m25]])\n",
        "\n",
        "# Setting up positions for bars\n",
        "bar_width = 0.2\n",
        "bar_positions = np.arange(len(model_types))\n",
        "\n",
        "# Define different labels for each graph\n",
        "labels_list = ['Normal Search', 'Beam Search (2 beams)', 'Beam Search (7 beams)', 'Beam Search (25 beams)']\n",
        "\n",
        "# Transpose the values array to match the correct shape\n",
        "graph_values = values.T.tolist()\n",
        "\n",
        "# Calculate the maximum value among all data points\n",
        "max_value = np.max(values)\n",
        "\n",
        "# Create a figure with a single row and four columns\n",
        "fig, axs = plt.subplots(nrows=1, ncols=4, figsize=(16, 4))\n",
        "\n",
        "# Plotting each bar graph\n",
        "for i, ax in enumerate(axs):\n",
        "    ax.bar(bar_positions, graph_values[i], bar_width, label=labels_list[i])\n",
        "    ax.set_xlabel('Model Types')\n",
        "    ax.set_ylabel('Memory Usage (MB)')\n",
        "    ax.set_title(labels_list[i])\n",
        "\n",
        "    # Adding x-axis ticks and labels\n",
        "    ax.set_xticks(bar_positions)\n",
        "    ax.set_xticklabels(model_types)\n",
        "\n",
        "    # Set a common y-axis range\n",
        "    ax.set_ylim(0, max_value)\n",
        "\n",
        "    # Adding legend\n",
        "    #ax.legend()\n",
        "\n",
        "# Adjust layout for better spacing\n",
        "plt.tight_layout()\n",
        "\n",
        "# Show the plot\n",
        "plt.show()\n",
        "\n",
        "print(f\"Memory Usage for GPT2 normal search: {gpt2_mNormal}MB\")\n",
        "print(f\"Memory Usage for DistilGPT2 normal search: {distilgpt2_mNormal}MB\")\n",
        "print(f\"Memory Usage for BART normal search: {bart_mNormal}MB\")\n",
        "\n",
        "print(\"\")\n",
        "print(f\"Memory Usage for GPT2 two beam search: {gpt2_m2}MB\")\n",
        "print(f\"Memory Usage for DistilGPT2 two beam search: {distilgpt2_m2}MB\")\n",
        "print(f\"Memory Usage for BART two beam search: {bart_m2}MB\")\n",
        "\n",
        "print(\"\")\n",
        "print(f\"Memory Usage for GPT2 seven beam search: {gpt2_m7}MB\")\n",
        "print(f\"Memory Usage for DistilGPT2 seven beam search: {distilgpt2_m7}MB\")\n",
        "print(f\"Memory Usage for BART seven beam search: {bart_m7}MB\")\n",
        "\n",
        "print(\"\")\n",
        "print(f\"Memory Usage for GPT2 twenty five beam search: {gpt2_m25}MB\")\n",
        "print(f\"Memory Usage for DistilGPT2 twenty five beam search: {distilgpt2_m25}MB\")\n",
        "print(f\"Memory Usage for BART twenty five beam search: {bart_m25}MB\")\n"
      ]
    },
    {
      "cell_type": "markdown",
      "metadata": {
        "id": "3qsi_kqbYVJQ"
      },
      "source": [
        "## <h3><b>Response Time and Memory Usage Of Text Generation using GPT-2,DistilGPT-2 and BART on bar graphs (Scientific input prompt)</b><h3>"
      ]
    },
    {
      "cell_type": "markdown",
      "metadata": {
        "id": "6ZGe4_0ZYVJY"
      },
      "source": [
        "<h3><b>GPT-2 Results (scientific)</b><h3>"
      ]
    },
    {
      "cell_type": "code",
      "execution_count": null,
      "metadata": {
        "colab": {
          "base_uri": "https://localhost:8080/"
        },
        "id": "FEub2-uuYVJY",
        "outputId": "d19b0963-17ee-43e5-995d-f65f299862de"
      },
      "outputs": [
        {
          "data": {
            "image/png": "[encoded data removed]",
            "text/plain": [
              "<Figure size 432x288 with 2 Axes>"
            ]
          },
          "metadata": {
            "needs_background": "light"
          },
          "output_type": "display_data"
        },
        {
          "name": "stdout",
          "output_type": "stream",
          "text": [
            "Response Time for GPT2 normal search (scientific): 2.316521644592285 seconds\n",
            "Response Time for GPT2 two beam search (scientific): 3.212313175201416 seconds\n",
            "Response Time for GPT2 seven beam search (scientific): 5.661749839782715 seconds\n",
            "Response Time for GPT2 twenty-five beam search (scientific): 12.293911457061768 seconds\n",
            "\n",
            "Memory Usage for GPT2 normal search (scientific): 663.43MB\n",
            "Memory Usage for GPT2 two beam search (scientific): 680.62MB\n",
            "Memory Usage for GPT2 seven beam search (scientific): 784.31MB\n",
            "Memory Usage for GPT2 twenty-five beam search (scientific): 1163.44MB\n"
          ]
        }
      ],
      "source": [
        "import matplotlib.pyplot as plt\n",
        "\n",
        "# put the memory usage of using one beam to float variable\n",
        "gpt2_m2_scientific = float(f\"{max(memory_used_gpt2_twoBeam_scientific):.2f}\")\n",
        "\n",
        "# put the memory usage of using seven beams to float variable\n",
        "gpt2_m7_scientific = float(f\"{max(memory_used_gpt2_sevenBeam_scientific):.2f}\")\n",
        "\n",
        "# put the memory usage of using twenty-five beam to float variable\n",
        "gpt2_m25_scientific = float(f\"{max(memory_used_gpt2_twentyFiveBeam_scientific):.2f}\")\n",
        "\n",
        "# put the memory usage of normal search to float variable\n",
        "gpt2_mNormal_scientific = float(f\"{max(memory_used_gpt2_normalSearch_scientific):.2f}\")\n",
        "\n",
        "# Sample data for the first graph\n",
        "num_beams_1 = [\"Normal\",\"2\",\"7\",\"25\"]\n",
        "response_time = [response_time_gpt2_normalSearch_scientific,response_time_gpt2_twoBeam_scientific,response_time_gpt2_sevenBeam_scientific,response_time_gpt2_twentyFiveBeam_scientific]  # in seconds\n",
        "\n",
        "# Sample data for the second graph\n",
        "num_beams_2 = [\"Normal\",\"2\",\"7\",\"25\"]\n",
        "memory_usage = [gpt2_mNormal_scientific,gpt2_m2_scientific,gpt2_m7_scientific,gpt2_m25_scientific]  # in mb\n",
        "\n",
        "# Create two subplots side by side\n",
        "plt.subplot(1, 2, 1)  # 1 row, 2 columns, 1st subplot\n",
        "plt.bar(num_beams_1, response_time, color='blue')\n",
        "plt.xlabel('Number of Beams')\n",
        "plt.ylabel('Response Time (seconds)')\n",
        "plt.title('Response Time (GPT-2)')\n",
        "\n",
        "plt.subplot(1, 2, 2)  # 1 row, 2 columns, 2nd subplot\n",
        "plt.bar(num_beams_2, memory_usage, color='orange')\n",
        "plt.xlabel('Number of Beams')\n",
        "plt.ylabel('Memory Usage (MB)')\n",
        "plt.title('Memory Usage (GPT-2)')\n",
        "\n",
        "# Adjust layout for better visualization\n",
        "plt.tight_layout()\n",
        "\n",
        "# Display the graphs\n",
        "plt.show()\n",
        "\n",
        "print(f\"Response Time for GPT2 normal search (scientific): {response_time_gpt2_normalSearch_scientific} seconds\")\n",
        "print(f\"Response Time for GPT2 two beam search (scientific): {response_time_gpt2_twoBeam_scientific} seconds\")\n",
        "print(f\"Response Time for GPT2 seven beam search (scientific): {response_time_gpt2_sevenBeam_scientific} seconds\")\n",
        "print(f\"Response Time for GPT2 twenty-five beam search (scientific): {response_time_gpt2_twentyFiveBeam_scientific} seconds\")\n",
        "\n",
        "print(\"\")\n",
        "\n",
        "print(f\"Memory Usage for GPT2 normal search (scientific): {gpt2_mNormal_scientific}MB\")\n",
        "print(f\"Memory Usage for GPT2 two beam search (scientific): {gpt2_m2_scientific}MB\")\n",
        "print(f\"Memory Usage for GPT2 seven beam search (scientific): {gpt2_m7_scientific}MB\")\n",
        "print(f\"Memory Usage for GPT2 twenty-five beam search (scientific): {gpt2_m25_scientific}MB\")"
      ]
    },
    {
      "cell_type": "markdown",
      "metadata": {
        "id": "AZsY2dTAYVJY"
      },
      "source": [
        "<h3><b>DistilGPT-2 Results (scientific)</b><h3>"
      ]
    },
    {
      "cell_type": "code",
      "execution_count": null,
      "metadata": {
        "colab": {
          "base_uri": "https://localhost:8080/"
        },
        "id": "_CmWtFzQYVJY",
        "outputId": "992cf332-1427-48cc-a588-62a39025281e"
      },
      "outputs": [
        {
          "data": {
            "image/png": "[encoded data removed]",
            "text/plain": [
              "<Figure size 432x288 with 2 Axes>"
            ]
          },
          "metadata": {
            "needs_background": "light"
          },
          "output_type": "display_data"
        },
        {
          "name": "stdout",
          "output_type": "stream",
          "text": [
            "Response Time for DistilGPT-2 normal search (scientific): 1.5202558040618896 seconds\n",
            "Response Time for DistilGPT-2 two beam search (scientific): 1.6953058242797852 seconds\n",
            "Response Time for DistilGPT-2 seven beam search (scientific): 3.116053581237793 seconds\n",
            "Response Time for DistilGPT-2 twenty-five beam search (scientific): 7.5595457553863525 seconds\n",
            "\n",
            "Memory Usage for DistilGPT-2 normal search (scientific): 490.4MB\n",
            "Memory Usage for DistilGPT-2 two beam search (scientific): 507.58MB\n",
            "Memory Usage for DistilGPT-2 seven beam search (scientific): 544.48MB\n",
            "Memory Usage for DistilGPT-2 twenty-five beam search (scientific): 748.29MB\n"
          ]
        }
      ],
      "source": [
        "import matplotlib.pyplot as plt\n",
        "\n",
        "# put the memory usage of using one beam to float variable\n",
        "distilgpt2_m2_scientific = float(f\"{max(memory_used_distilgpt2_twoBeam_scientific):.2f}\")\n",
        "\n",
        "# put the memory usage of using seven beams to float variable\n",
        "distilgpt2_m7_scientific = float(f\"{max(memory_used_distilgpt2_sevenBeam_scientific):.2f}\")\n",
        "\n",
        "# put the memory usage of using twenty-five beam to float variable\n",
        "distilgpt2_m25_scientific = float(f\"{max(memory_used_distilgpt2_twentyFiveBeam_scientific):.2f}\")\n",
        "\n",
        "# put the memory usage of normal search to float variable\n",
        "distilgpt2_mNormal_scientific = float(f\"{max(memory_used_distilgpt2_normalSearch_scientific):.2f}\")\n",
        "\n",
        "# Sample data for the first graph\n",
        "num_beams_1 = [\"Normal\",\"2\",\"7\",\"25\"]\n",
        "response_time = [response_time_distilgpt2_normalSearch_scientific,response_time_distilgpt2_twoBeam_scientific,response_time_distilgpt2_sevenBeam_scientific,response_time_distilgpt2_twentyFiveBeam_scientific]  # in seconds\n",
        "\n",
        "# Sample data for the second graph\n",
        "num_beams_2 = [\"Normal\",\"2\",\"7\",\"25\"]\n",
        "memory_usage = [distilgpt2_mNormal_scientific,distilgpt2_m2_scientific,distilgpt2_m7_scientific,distilgpt2_m25_scientific]  # in mb\n",
        "\n",
        "# Create two subplots side by side\n",
        "plt.subplot(1, 2, 1)  # 1 row, 2 columns, 1st subplot\n",
        "plt.bar(num_beams_1, response_time, color='blue')\n",
        "plt.xlabel('Number of Beams')\n",
        "plt.ylabel('Response Time (seconds)')\n",
        "plt.title('Response Time (DistilGPT-2)')\n",
        "\n",
        "plt.subplot(1, 2, 2)  # 1 row, 2 columns, 2nd subplot\n",
        "plt.bar(num_beams_2, memory_usage, color='orange')\n",
        "plt.xlabel('Number of Beams')\n",
        "plt.ylabel('Memory Usage (MB)')\n",
        "plt.title('Memory Usage (DistilGPT-2)')\n",
        "\n",
        "# Adjust layout for better visualization\n",
        "plt.tight_layout()\n",
        "\n",
        "# Display the graphs\n",
        "plt.show()\n",
        "\n",
        "print(f\"Response Time for DistilGPT-2 normal search (scientific): {response_time_distilgpt2_normalSearch_scientific} seconds\")\n",
        "print(f\"Response Time for DistilGPT-2 two beam search (scientific): {response_time_distilgpt2_twoBeam_scientific} seconds\")\n",
        "print(f\"Response Time for DistilGPT-2 seven beam search (scientific): {response_time_distilgpt2_sevenBeam_scientific} seconds\")\n",
        "print(f\"Response Time for DistilGPT-2 twenty-five beam search (scientific): {response_time_distilgpt2_twentyFiveBeam_scientific} seconds\")\n",
        "\n",
        "print(\"\")\n",
        "\n",
        "print(f\"Memory Usage for DistilGPT-2 normal search (scientific): {distilgpt2_mNormal_scientific}MB\")\n",
        "print(f\"Memory Usage for DistilGPT-2 two beam search (scientific): {distilgpt2_m2_scientific}MB\")\n",
        "print(f\"Memory Usage for DistilGPT-2 seven beam search (scientific): {distilgpt2_m7_scientific}MB\")\n",
        "print(f\"Memory Usage for DistilGPT-2 twenty-five beam search (scientific): {distilgpt2_m25_scientific}MB\")"
      ]
    },
    {
      "cell_type": "markdown",
      "metadata": {
        "id": "3smgg2RxYVJY"
      },
      "source": [
        "<h3><b>BART Results (scientific)</b><h3>"
      ]
    },
    {
      "cell_type": "code",
      "execution_count": null,
      "metadata": {
        "colab": {
          "base_uri": "https://localhost:8080/"
        },
        "id": "pO8pVdyIYVJZ",
        "outputId": "0311f995-17fa-4e24-b3af-19b1017eb72b"
      },
      "outputs": [
        {
          "data": {
            "image/png": "[encoded data removed]",
            "text/plain": [
              "<Figure size 432x288 with 2 Axes>"
            ]
          },
          "metadata": {
            "needs_background": "light"
          },
          "output_type": "display_data"
        },
        {
          "name": "stdout",
          "output_type": "stream",
          "text": [
            "Response Time for BART normal search (scientific): 3.2533152103424072 seconds\n",
            "Response Time for BART two beam search (scientific): 4.490650177001953 seconds\n",
            "Response Time for BART seven beam search (scientific): 5.824492454528809 seconds\n",
            "Response Time for BART twenty-five beam search (scientific): 9.088765859603882 seconds\n",
            "\n",
            "Memory Usage for BART normal search (scientific): 1730.65MB\n",
            "Memory Usage for BART two beam search (scientific): 1747.24MB\n",
            "Memory Usage for BART seven beam search (scientific): 1835.16MB\n",
            "Memory Usage for BART twenty-five beam search (scientific): 2168.96MB\n"
          ]
        }
      ],
      "source": [
        "import matplotlib.pyplot as plt\n",
        "\n",
        "# put the memory usage of using one beam to float variable\n",
        "bart_m2_scientific = float(f\"{max(memory_used_bart_twoBeam_scientific):.2f}\")\n",
        "\n",
        "# put the memory usage of using seven beams to float variable\n",
        "bart_m7_scientific = float(f\"{max(memory_used_bart_sevenBeam_scientific):.2f}\")\n",
        "\n",
        "# put the memory usage of using twenty-five beam to float variable\n",
        "bart_m25_scientific = float(f\"{max(memory_used_bart_twentyFiveBeam_scientific):.2f}\")\n",
        "\n",
        "# put the memory usage of normal search to float variable\n",
        "bart_mNormal_scientific = float(f\"{max(memory_used_bart_normalSearch_scientific):.2f}\")\n",
        "\n",
        "# Sample data for the first graph\n",
        "num_beams_1 = [\"Normal\",\"2\",\"7\",\"25\"]\n",
        "response_time = [response_time_bart_normalSearch_scientific,response_time_bart_twoBeam_scientific,response_time_bart_sevenBeam_scientific,response_time_bart_twentyFiveBeam_scientific]  # in seconds\n",
        "\n",
        "# Sample data for the second graph\n",
        "num_beams_2 = [\"Normal\",\"2\",\"7\",\"25\"]\n",
        "memory_usage = [bart_mNormal_scientific,bart_m2_scientific,bart_m7_scientific,bart_m25_scientific]  # in mb\n",
        "\n",
        "# Create two subplots side by side\n",
        "plt.subplot(1, 2, 1)  # 1 row, 2 columns, 1st subplot\n",
        "plt.bar(num_beams_1, response_time, color='blue')\n",
        "plt.xlabel('Number of Beams')\n",
        "plt.ylabel('Response Time (seconds)')\n",
        "plt.title('Response Time (BART))')\n",
        "\n",
        "plt.subplot(1, 2, 2)  # 1 row, 2 columns, 2nd subplot\n",
        "plt.bar(num_beams_2, memory_usage, color='orange')\n",
        "plt.xlabel('Number of Beams')\n",
        "plt.ylabel('Memory Usage (MB)')\n",
        "plt.title('Memory Usage (BART)')\n",
        "\n",
        "# Adjust layout for better visualization\n",
        "plt.tight_layout()\n",
        "\n",
        "# Display the graphs\n",
        "plt.show()\n",
        "\n",
        "\n",
        "print(f\"Response Time for BART normal search (scientific): {response_time_bart_normalSearch_scientific} seconds\")\n",
        "print(f\"Response Time for BART two beam search (scientific): {response_time_bart_twoBeam_scientific} seconds\")\n",
        "print(f\"Response Time for BART seven beam search (scientific): {response_time_bart_sevenBeam_scientific} seconds\")\n",
        "print(f\"Response Time for BART twenty-five beam search (scientific): {response_time_bart_twentyFiveBeam_scientific} seconds\")\n",
        "\n",
        "print(\"\")\n",
        "\n",
        "print(f\"Memory Usage for BART normal search (scientific): {bart_mNormal_scientific}MB\")\n",
        "print(f\"Memory Usage for BART two beam search (scientific): {bart_m2_scientific}MB\")\n",
        "print(f\"Memory Usage for BART seven beam search (scientific): {bart_m7_scientific}MB\")\n",
        "print(f\"Memory Usage for BART twenty-five beam search (scientific): {bart_m25_scientific}MB\")"
      ]
    },
    {
      "cell_type": "markdown",
      "metadata": {
        "id": "i_Gw1NHWYVJZ"
      },
      "source": [
        "<h3><b>Comparison of Response Time for Normal, 2 , 7 and 25 beam search for each model type (Scientific Text Generation)</b><h3>"
      ]
    },
    {
      "cell_type": "code",
      "execution_count": null,
      "metadata": {
        "colab": {
          "base_uri": "https://localhost:8080/"
        },
        "id": "roDTRuztYVJZ",
        "outputId": "0305a69f-baac-4a0e-c9f5-2cb7bcc98122"
      },
      "outputs": [
        {
          "data": {
            "image/png": "[encoded data removed]",
            "text/plain": [
              "<Figure size 1152x288 with 4 Axes>"
            ]
          },
          "metadata": {
            "needs_background": "light"
          },
          "output_type": "display_data"
        },
        {
          "name": "stdout",
          "output_type": "stream",
          "text": [
            "Response Time for GPT2 normal search: 2.316521644592285 seconds\n",
            "Response Time for DistilGPT2 normal search: 1.5202558040618896 seconds\n",
            "Response Time for BART normal search: 3.2533152103424072 seconds\n",
            "\n",
            "Response Time for GPT2 two beam search: 3.212313175201416 seconds\n",
            "Response Time for DistilGPT2 two beam search: 1.6953058242797852 seconds\n",
            "Response Time for BART two beam search: 4.490650177001953 seconds\n",
            "\n",
            "Response Time for GPT2 seven beam search: 5.661749839782715 seconds\n",
            "Response Time for DistilGPT2 seven beam search: 3.116053581237793 seconds\n",
            "Response Time for BART seven beam search: 5.824492454528809 seconds\n",
            "\n",
            "Response Time for GPT2 twenty five beam search: 12.293911457061768 seconds\n",
            "Response Time for DistilGPT2 twenty five beam search: 7.5595457553863525 seconds\n",
            "Response Time for BART twenty five beam search: 9.088765859603882 seconds\n"
          ]
        }
      ],
      "source": [
        "import matplotlib.pyplot as plt\n",
        "import numpy as np\n",
        "\n",
        "# Sample data for demonstration\n",
        "model_types = ['GPT-2', 'DistilGPT-2', 'BART']\n",
        "values = np.array([[response_time_gpt2_normalSearch_scientific, response_time_gpt2_twoBeam_scientific, response_time_gpt2_sevenBeam_scientific, response_time_gpt2_twentyFiveBeam_scientific], [response_time_distilgpt2_normalSearch_scientific, response_time_distilgpt2_twoBeam_scientific, response_time_distilgpt2_sevenBeam_scientific, response_time_distilgpt2_twentyFiveBeam_scientific], [response_time_bart_normalSearch_scientific, response_time_bart_twoBeam_scientific, response_time_bart_sevenBeam_scientific, response_time_bart_twentyFiveBeam_scientific]])\n",
        "\n",
        "# Setting up positions for bars\n",
        "bar_width = 0.2\n",
        "bar_positions = np.arange(len(model_types))\n",
        "\n",
        "# Define different labels for each graph\n",
        "labels_list = ['Normal Search', 'Beam Search (2 beams)', 'Beam Search (7 beams)', 'Beam Search (25 beams)']\n",
        "\n",
        "# Transpose the values array to match the correct shape\n",
        "graph_values = values.T.tolist()\n",
        "\n",
        "# Calculate the maximum value among all data points\n",
        "max_value = np.max(values)\n",
        "\n",
        "# Create a figure with a single row and four columns\n",
        "fig, axs = plt.subplots(nrows=1, ncols=4, figsize=(16, 4))\n",
        "\n",
        "# Plotting each bar graph\n",
        "for i, ax in enumerate(axs):\n",
        "    ax.bar(bar_positions, graph_values[i], bar_width, label=labels_list[i])\n",
        "    ax.set_xlabel('Model Types')\n",
        "    ax.set_ylabel('Response Time(Seconds)')\n",
        "    ax.set_title(labels_list[i])\n",
        "\n",
        "    # Adding x-axis ticks and labels\n",
        "    ax.set_xticks(bar_positions)\n",
        "    ax.set_xticklabels(model_types)\n",
        "\n",
        "    # Set a common y-axis range\n",
        "    ax.set_ylim(0, max_value)\n",
        "\n",
        "    # Adding legend\n",
        "    #ax.legend()\n",
        "\n",
        "# Adjust layout for better spacing\n",
        "plt.tight_layout()\n",
        "\n",
        "# Show the plot\n",
        "plt.show()\n",
        "\n",
        "print(f\"Response Time for GPT2 normal search: {response_time_gpt2_normalSearch_scientific} seconds\")\n",
        "print(f\"Response Time for DistilGPT2 normal search: {response_time_distilgpt2_normalSearch_scientific} seconds\")\n",
        "print(f\"Response Time for BART normal search: {response_time_bart_normalSearch_scientific} seconds\")\n",
        "\n",
        "print(\"\")\n",
        "print(f\"Response Time for GPT2 two beam search: {response_time_gpt2_twoBeam_scientific} seconds\")\n",
        "print(f\"Response Time for DistilGPT2 two beam search: {response_time_distilgpt2_twoBeam_scientific} seconds\")\n",
        "print(f\"Response Time for BART two beam search: { response_time_bart_twoBeam_scientific} seconds\")\n",
        "\n",
        "print(\"\")\n",
        "print(f\"Response Time for GPT2 seven beam search: {response_time_gpt2_sevenBeam_scientific} seconds\")\n",
        "print(f\"Response Time for DistilGPT2 seven beam search: {response_time_distilgpt2_sevenBeam_scientific} seconds\")\n",
        "print(f\"Response Time for BART seven beam search: {response_time_bart_sevenBeam_scientific} seconds\")\n",
        "\n",
        "print(\"\")\n",
        "print(f\"Response Time for GPT2 twenty five beam search: {response_time_gpt2_twentyFiveBeam_scientific} seconds\")\n",
        "print(f\"Response Time for DistilGPT2 twenty five beam search: {response_time_distilgpt2_twentyFiveBeam_scientific} seconds\")\n",
        "print(f\"Response Time for BART twenty five beam search: {response_time_bart_twentyFiveBeam_scientific} seconds\")"
      ]
    },
    {
      "cell_type": "markdown",
      "metadata": {
        "id": "07OvFpPuYVJZ"
      },
      "source": [
        "<h3><b>Comparison of Memory Usage for Normal, 2 , 7 and 25 beam search for each model type (Scientific Text Generation)</b><h3>"
      ]
    },
    {
      "cell_type": "code",
      "execution_count": null,
      "metadata": {
        "colab": {
          "base_uri": "https://localhost:8080/"
        },
        "id": "ExB-Mz_ZYVJZ",
        "outputId": "e603d295-1a77-4d74-b6e7-ea4d5ef6c051"
      },
      "outputs": [
        {
          "data": {
            "image/png": "[encoded data removed]",
            "text/plain": [
              "<Figure size 1152x288 with 4 Axes>"
            ]
          },
          "metadata": {
            "needs_background": "light"
          },
          "output_type": "display_data"
        },
        {
          "name": "stdout",
          "output_type": "stream",
          "text": [
            "Memory Usage for GPT2 normal search: 663.43MB\n",
            "Memory Usage for DistilGPT2 normal search: 490.4MB\n",
            "Memory Usage for BART normal search: 1730.65MB\n",
            "\n",
            "Memory Usage for GPT2 two beam search: 680.62MB\n",
            "Memory Usage for DistilGPT2 two beam search: 507.58MB\n",
            "Memory Usage for BART two beam search: 1747.24MB\n",
            "\n",
            "Memory Usage for GPT2 seven beam search: 784.31MB\n",
            "Memory Usage for DistilGPT2 seven beam search: 544.48MB\n",
            "Memory Usage for BART seven beam search: 1835.16MB\n",
            "\n",
            "Memory Usage for GPT2 twenty five beam search: 1163.44MB\n",
            "Memory Usage for DistilGPT2 twenty five beam search: 748.29MB\n",
            "Memory Usage for BART twenty five beam search: 2168.96MB\n"
          ]
        }
      ],
      "source": [
        "import matplotlib.pyplot as plt\n",
        "import numpy as np\n",
        "\n",
        "# Sample data for demonstration\n",
        "model_types = ['GPT-2', 'DistilGPT-2', 'BART']\n",
        "values = np.array([[gpt2_mNormal_scientific, gpt2_m2_scientific, gpt2_m7_scientific, gpt2_m25_scientific], [distilgpt2_mNormal_scientific, distilgpt2_m2_scientific, distilgpt2_m7_scientific, distilgpt2_m25_scientific], [bart_mNormal_scientific, bart_m2_scientific, bart_m7_scientific, bart_m25_scientific]])\n",
        "\n",
        "# Setting up positions for bars\n",
        "bar_width = 0.2\n",
        "bar_positions = np.arange(len(model_types))\n",
        "\n",
        "# Define different labels for each graph\n",
        "labels_list = ['Normal Search', 'Beam Search (2 beams)', 'Beam Search (7 beams)', 'Beam Search (25 beams)']\n",
        "\n",
        "# Transpose the values array to match the correct shape\n",
        "graph_values = values.T.tolist()\n",
        "\n",
        "# Calculate the maximum value among all data points\n",
        "max_value = np.max(values)\n",
        "\n",
        "# Create a figure with a single row and four columns\n",
        "fig, axs = plt.subplots(nrows=1, ncols=4, figsize=(16, 4))\n",
        "\n",
        "# Plotting each bar graph\n",
        "for i, ax in enumerate(axs):\n",
        "    ax.bar(bar_positions, graph_values[i], bar_width, label=labels_list[i])\n",
        "    ax.set_xlabel('Model Types')\n",
        "    ax.set_ylabel('Memory Usage (MB)')\n",
        "    ax.set_title(labels_list[i])\n",
        "\n",
        "    # Adding x-axis ticks and labels\n",
        "    ax.set_xticks(bar_positions)\n",
        "    ax.set_xticklabels(model_types)\n",
        "\n",
        "    # Set a common y-axis range\n",
        "    ax.set_ylim(0, max_value)\n",
        "\n",
        "    # Adding legend\n",
        "    #ax.legend()\n",
        "\n",
        "# Adjust layout for better spacing\n",
        "plt.tight_layout()\n",
        "\n",
        "# Show the plot\n",
        "plt.show()\n",
        "\n",
        "print(f\"Memory Usage for GPT2 normal search: {gpt2_mNormal_scientific}MB\")\n",
        "print(f\"Memory Usage for DistilGPT2 normal search: {distilgpt2_mNormal_scientific}MB\")\n",
        "print(f\"Memory Usage for BART normal search: {bart_mNormal_scientific}MB\")\n",
        "\n",
        "print(\"\")\n",
        "print(f\"Memory Usage for GPT2 two beam search: {gpt2_m2_scientific}MB\")\n",
        "print(f\"Memory Usage for DistilGPT2 two beam search: {distilgpt2_m2_scientific}MB\")\n",
        "print(f\"Memory Usage for BART two beam search: {bart_m2_scientific}MB\")\n",
        "\n",
        "print(\"\")\n",
        "print(f\"Memory Usage for GPT2 seven beam search: {gpt2_m7_scientific}MB\")\n",
        "print(f\"Memory Usage for DistilGPT2 seven beam search: {distilgpt2_m7_scientific}MB\")\n",
        "print(f\"Memory Usage for BART seven beam search: {bart_m7_scientific}MB\")\n",
        "\n",
        "print(\"\")\n",
        "print(f\"Memory Usage for GPT2 twenty five beam search: {gpt2_m25_scientific}MB\")\n",
        "print(f\"Memory Usage for DistilGPT2 twenty five beam search: {distilgpt2_m25_scientific}MB\")\n",
        "print(f\"Memory Usage for BART twenty five beam search: {bart_m25_scientific}MB\")"
      ]
    },
    {
      "cell_type": "markdown",
      "metadata": {
        "id": "IU3Oe5hTZYNV"
      },
      "source": [
        "## <h3><b>Response Time and Memory Usage of Machine Translation Of French,Bahasa Indonesia And Chinese</b><h3>"
      ]
    },
    {
      "cell_type": "markdown",
      "metadata": {
        "id": "c9UFuGiKZYNW"
      },
      "source": [
        "<h3><b>Response Time and Memory Usage for MarianMT French translation</b><h3>"
      ]
    },
    {
      "cell_type": "code",
      "execution_count": null,
      "metadata": {
        "colab": {
          "base_uri": "https://localhost:8080/"
        },
        "id": "iDgmoNw6ZYNW",
        "outputId": "594948df-9f67-4284-e117-121fde41b392"
      },
      "outputs": [
        {
          "data": {
            "image/png": "[encoded data removed]",
            "text/plain": [
              "<Figure size 432x288 with 2 Axes>"
            ]
          },
          "metadata": {
            "needs_background": "light"
          },
          "output_type": "display_data"
        },
        {
          "name": "stdout",
          "output_type": "stream",
          "text": [
            "Response Time for French Translation normal search: 2.3582651615142822 seconds\n",
            "Response Time for French Translation two beam search: 1.616030216217041 seconds\n",
            "Response Time for French Translation seven beam search: 2.9400813579559326 seconds\n",
            "Response Time for French Translation twenty-five beam search: 8.526277780532837 seconds\n",
            "\n",
            "Memory Usage for French Translation normal search: 527.59MB\n",
            "Memory Usage for French Translation two beam search: 486.3MB\n",
            "Memory Usage for French Translation seven beam search: 535.91MB\n",
            "Memory Usage for French Translation twenty-five beam search: 700.63MB\n"
          ]
        }
      ],
      "source": [
        "import matplotlib.pyplot as plt\n",
        "\n",
        "# put the memory usage of using one beam to float variable\n",
        "marianMTFrench_m2 = float(f\"{max(memory_used_MarianMTFrench_twoBeam):.2f}\")\n",
        "\n",
        "# put the memory usage of using seven beams to float variable\n",
        "marianMTFrench_m7 = float(f\"{max(memory_used_MarianMTFrench_sevenBeam):.2f}\")\n",
        "\n",
        "# put the memory usage of using twenty-five beam to float variable\n",
        "marianMTFrench_m25 = float(f\"{max(memory_used_MarianMTFrench_twentyFiveBeam):.2f}\")\n",
        "\n",
        "# put the memory usage of normal search to float variable\n",
        "marianMTFrench_mNormal = float(f\"{max(memory_used_MarianMTFrench_normalSearch):.2f}\")\n",
        "\n",
        "# Sample data for the first graph\n",
        "num_beams_1 = [\"Normal\",\"2\",\"7\",\"25\"]\n",
        "response_time = [response_time_MarianMTFrench_normalSearch,response_time_MarianMTFrench_twoBeam,response_time_MarianMTFrench_sevenBeam,response_time_MarianMTFrench_twentyFiveBeam]  # in seconds\n",
        "\n",
        "# Sample data for the second graph\n",
        "num_beams_2 = [\"Normal\",\"2\",\"7\",\"25\"]\n",
        "memory_usage = [marianMTFrench_mNormal,marianMTFrench_m2,marianMTFrench_m7,marianMTFrench_m25]  # in mb\n",
        "\n",
        "# Create two subplots side by side\n",
        "plt.subplot(1, 2, 1)  # 1 row, 2 columns, 1st subplot\n",
        "plt.bar(num_beams_1, response_time, color='blue')\n",
        "plt.xlabel('Number of Beams')\n",
        "plt.ylabel('Response Time (seconds)')\n",
        "plt.title('Response Time (MarianMT French)')\n",
        "\n",
        "plt.subplot(1, 2, 2)  # 1 row, 2 columns, 2nd subplot\n",
        "plt.bar(num_beams_2, memory_usage, color='orange')\n",
        "plt.xlabel('Number of Beams')\n",
        "plt.ylabel('Memory Usage (MB)')\n",
        "plt.title('Memory Usage (MarianMT French)')\n",
        "\n",
        "# Adjust layout for better visualization\n",
        "plt.tight_layout()\n",
        "\n",
        "# Display the graphs\n",
        "plt.show()\n",
        "\n",
        "print(f\"Response Time for French Translation normal search: {response_time_MarianMTFrench_normalSearch} seconds\")\n",
        "print(f\"Response Time for French Translation two beam search: {response_time_MarianMTFrench_twoBeam} seconds\")\n",
        "print(f\"Response Time for French Translation seven beam search: {response_time_MarianMTFrench_sevenBeam} seconds\")\n",
        "print(f\"Response Time for French Translation twenty-five beam search: {response_time_MarianMTFrench_twentyFiveBeam} seconds\")\n",
        "\n",
        "print(\"\")\n",
        "\n",
        "print(f\"Memory Usage for French Translation normal search: {marianMTFrench_mNormal}MB\")\n",
        "print(f\"Memory Usage for French Translation two beam search: {marianMTFrench_m2}MB\")\n",
        "print(f\"Memory Usage for French Translation seven beam search: {marianMTFrench_m7}MB\")\n",
        "print(f\"Memory Usage for French Translation twenty-five beam search: {marianMTFrench_m25}MB\")"
      ]
    },
    {
      "cell_type": "markdown",
      "metadata": {
        "id": "EN4fWanqZYNW"
      },
      "source": [
        "<h3><b>Response Time and Memory Usage for MarianMT Bahasa Indonesia translation</b><h3>"
      ]
    },
    {
      "cell_type": "code",
      "execution_count": null,
      "metadata": {
        "colab": {
          "base_uri": "https://localhost:8080/"
        },
        "id": "a-zuz8JQZYNW",
        "outputId": "dca3364f-9819-4bad-e7fe-0609ca346b8a"
      },
      "outputs": [
        {
          "data": {
            "image/png": "[encoded data removed]",
            "text/plain": [
              "<Figure size 432x288 with 2 Axes>"
            ]
          },
          "metadata": {
            "needs_background": "light"
          },
          "output_type": "display_data"
        },
        {
          "name": "stdout",
          "output_type": "stream",
          "text": [
            "Response Time for Indonesian Translation normal search: 2.0010242462158203 seconds\n",
            "Response Time for Indonesian Translation two beam search: 1.460583209991455 seconds\n",
            "Response Time for Indonesian Translation seven beam search: 2.631540060043335 seconds\n",
            "Response Time for Indonesian Translation twenty-five beam search: 6.592340707778931 seconds\n",
            "\n",
            "Memory Usage for Indonesian Translation normal search: 516.36MB\n",
            "Memory Usage for Indonesian Translation two beam search: 485.68MB\n",
            "Memory Usage for Indonesian Translation seven beam search: 529.76MB\n",
            "Memory Usage for Indonesian Translation twenty-five beam search: 684.99MB\n"
          ]
        }
      ],
      "source": [
        "import matplotlib.pyplot as plt\n",
        "\n",
        "# put the memory usage of using one beam to float variable\n",
        "marianMTIndonesian_m2 = float(f\"{max(memory_used_MarianMTIndonesian_twoBeam):.2f}\")\n",
        "\n",
        "# put the memory usage of using seven beams to float variable\n",
        "marianMTIndonesian_m7 = float(f\"{max(memory_used_MarianMTIndonesian_sevenBeam):.2f}\")\n",
        "\n",
        "# put the memory usage of using twenty-five beam to float variable\n",
        "marianMTIndonesian_m25 = float(f\"{max(memory_used_MarianMTIndonesian_twentyFiveBeam):.2f}\")\n",
        "\n",
        "# put the memory usage of normal search to float variable\n",
        "marianMTIndonesian_mNormal = float(f\"{max(memory_used_MarianMTIndonesian_normalSearch):.2f}\")\n",
        "\n",
        "# Sample data for the first graph\n",
        "num_beams_1 = [\"Normal\",\"2\",\"7\",\"25\"]\n",
        "response_time = [response_time_MarianMTIndonesian_normalSearch,response_time_MarianMTIndonesian_twoBeam,response_time_MarianMTIndonesian_sevenBeam,response_time_MarianMTIndonesian_twentyFiveBeam]  # in seconds\n",
        "\n",
        "# Sample data for the second graph\n",
        "num_beams_2 = [\"Normal\",\"2\",\"7\",\"25\"]\n",
        "memory_usage = [marianMTIndonesian_mNormal,marianMTIndonesian_m2,marianMTIndonesian_m7,marianMTIndonesian_m25]  # in mb\n",
        "\n",
        "# Create two subplots side by side\n",
        "plt.subplot(1, 2, 1)  # 1 row, 2 columns, 1st subplot\n",
        "plt.bar(num_beams_1, response_time, color='blue')\n",
        "plt.xlabel('Number of Beams')\n",
        "plt.ylabel('Response Time (seconds)')\n",
        "plt.title('Response Time (MarianMT Indonesian)')\n",
        "\n",
        "plt.subplot(1, 2, 2)  # 1 row, 2 columns, 2nd subplot\n",
        "plt.bar(num_beams_2, memory_usage, color='orange')\n",
        "plt.xlabel('Number of Beams')\n",
        "plt.ylabel('Memory Usage (MB)')\n",
        "plt.title('Memory Usage (MarianMT Indonesian)')\n",
        "\n",
        "# Adjust layout for better visualization\n",
        "plt.tight_layout()\n",
        "\n",
        "# Display the graphs\n",
        "plt.show()\n",
        "\n",
        "print(f\"Response Time for Indonesian Translation normal search: {response_time_MarianMTIndonesian_normalSearch} seconds\")\n",
        "print(f\"Response Time for Indonesian Translation two beam search: {response_time_MarianMTIndonesian_twoBeam} seconds\")\n",
        "print(f\"Response Time for Indonesian Translation seven beam search: {response_time_MarianMTIndonesian_sevenBeam} seconds\")\n",
        "print(f\"Response Time for Indonesian Translation twenty-five beam search: {response_time_MarianMTIndonesian_twentyFiveBeam} seconds\")\n",
        "\n",
        "print(\"\")\n",
        "\n",
        "print(f\"Memory Usage for Indonesian Translation normal search: {marianMTIndonesian_mNormal}MB\")\n",
        "print(f\"Memory Usage for Indonesian Translation two beam search: {marianMTIndonesian_m2}MB\")\n",
        "print(f\"Memory Usage for Indonesian Translation seven beam search: {marianMTIndonesian_m7}MB\")\n",
        "print(f\"Memory Usage for Indonesian Translation twenty-five beam search: {marianMTIndonesian_m25}MB\")"
      ]
    },
    {
      "cell_type": "markdown",
      "metadata": {
        "id": "FCH7MJkkZYNW"
      },
      "source": [
        "<h3><b>Response Time and Memory Usage for MarianMT Chinese translation</b><h3>"
      ]
    },
    {
      "cell_type": "code",
      "execution_count": null,
      "metadata": {
        "colab": {
          "base_uri": "https://localhost:8080/"
        },
        "id": "6xbsw_wxZYNW",
        "outputId": "45ff1838-fb95-48cf-8586-3836c4fa8e5d"
      },
      "outputs": [
        {
          "data": {
            "image/png": "[encoded data removed]",
            "text/plain": [
              "<Figure size 432x288 with 2 Axes>"
            ]
          },
          "metadata": {
            "needs_background": "light"
          },
          "output_type": "display_data"
        },
        {
          "name": "stdout",
          "output_type": "stream",
          "text": [
            "Response Time for Chinese Translation normal search: 2.3101966381073 seconds\n",
            "Response Time for Chinese Translation two beam search: 1.6677584648132324 seconds\n",
            "Response Time for Chinese Translation seven beam search: 3.174335241317749 seconds\n",
            "Response Time for Chinese Translation twenty-five beam search: 8.189250230789185 seconds\n",
            "\n",
            "Memory Usage for Chinese Translation normal search: 538.48MB\n",
            "Memory Usage for Chinese Translation two beam search: 511.83MB\n",
            "Memory Usage for Chinese Translation seven beam search: 548.3MB\n",
            "Memory Usage for Chinese Translation twenty-five beam search: 724.89MB\n"
          ]
        }
      ],
      "source": [
        "import matplotlib.pyplot as plt\n",
        "\n",
        "# put the memory usage of using one beam to float variable\n",
        "marianMTChinese_m2 = float(f\"{max(memory_used_MarianMTChinese_twoBeam):.2f}\")\n",
        "\n",
        "# put the memory usage of using seven beams to float variable\n",
        "marianMTChinese_m7 = float(f\"{max(memory_used_MarianMTChinese_sevenBeam):.2f}\")\n",
        "\n",
        "# put the memory usage of using twenty-five beam to float variable\n",
        "marianMTChinese_m25 = float(f\"{max(memory_used_MarianMTChinese_twentyFiveBeam):.2f}\")\n",
        "\n",
        "# put the memory usage of normal search to float variable\n",
        "marianMTChinese_mNormal = float(f\"{max(memory_used_MarianMTChinese_normalSearch):.2f}\")\n",
        "\n",
        "# Sample data for the first graph\n",
        "num_beams_1 = [\"Normal\",\"2\",\"7\",\"25\"]\n",
        "response_time = [response_time_MarianMTChinese_normalSearch,response_time_MarianMTChinese_twoBeam,response_time_MarianMTChinese_sevenBeam,response_time_MarianMTChinese_twentyFiveBeam]  # in seconds\n",
        "\n",
        "# Sample data for the second graph\n",
        "num_beams_2 = [\"Normal\",\"2\",\"7\",\"25\"]\n",
        "memory_usage = [marianMTChinese_mNormal,marianMTChinese_m2,marianMTChinese_m7,marianMTChinese_m25]  # in mb\n",
        "\n",
        "# Create two subplots side by side\n",
        "plt.subplot(1, 2, 1)  # 1 row, 2 columns, 1st subplot\n",
        "plt.bar(num_beams_1, response_time, color='blue')\n",
        "plt.xlabel('Number of Beams')\n",
        "plt.ylabel('Response Time (seconds)')\n",
        "plt.title('Response Time (MarianMT Chinese)')\n",
        "\n",
        "plt.subplot(1, 2, 2)  # 1 row, 2 columns, 2nd subplot\n",
        "plt.bar(num_beams_2, memory_usage, color='orange')\n",
        "plt.xlabel('Number of Beams')\n",
        "plt.ylabel('Memory Usage (MB)')\n",
        "plt.title('Memory Usage (MarianMT Chinese)')\n",
        "\n",
        "# Adjust layout for better visualization\n",
        "plt.tight_layout()\n",
        "\n",
        "# Display the graphs\n",
        "plt.show()\n",
        "\n",
        "print(f\"Response Time for Chinese Translation normal search: {response_time_MarianMTChinese_normalSearch} seconds\")\n",
        "print(f\"Response Time for Chinese Translation two beam search: {response_time_MarianMTChinese_twoBeam} seconds\")\n",
        "print(f\"Response Time for Chinese Translation seven beam search: {response_time_MarianMTChinese_sevenBeam} seconds\")\n",
        "print(f\"Response Time for Chinese Translation twenty-five beam search: {response_time_MarianMTChinese_twentyFiveBeam} seconds\")\n",
        "\n",
        "print(\"\")\n",
        "\n",
        "print(f\"Memory Usage for Chinese Translation normal search: {marianMTChinese_mNormal}MB\")\n",
        "print(f\"Memory Usage for Chinese Translation two beam search: {marianMTChinese_m2}MB\")\n",
        "print(f\"Memory Usage for Chinese Translation seven beam search: {marianMTChinese_m7}MB\")\n",
        "print(f\"Memory Usage for Chinese Translation twenty-five beam search: {marianMTChinese_m25}MB\")"
      ]
    },
    {
      "cell_type": "markdown",
      "metadata": {
        "id": "lxSDz3obZYNX"
      },
      "source": [
        "<h3><b>Comparison of Response Time for Normal, 2 , 7 and 25 beam search for each model type (Machine Translation)</b><h3>"
      ]
    },
    {
      "cell_type": "code",
      "execution_count": null,
      "metadata": {
        "colab": {
          "base_uri": "https://localhost:8080/"
        },
        "id": "optViiEIZYNX",
        "outputId": "c452b34e-b1ae-4e24-a3fd-30c6cfab8faa"
      },
      "outputs": [
        {
          "data": {
            "image/png": "[encoded data removed]",
            "text/plain": [
              "<Figure size 1152x288 with 4 Axes>"
            ]
          },
          "metadata": {
            "needs_background": "light"
          },
          "output_type": "display_data"
        },
        {
          "name": "stdout",
          "output_type": "stream",
          "text": [
            "Response Time for French normal search: 2.3582651615142822 seconds\n",
            "Response Time for Indonesian normal search: 2.0010242462158203 seconds\n",
            "Response Time for Chinese normal search: 2.3101966381073 seconds\n",
            "\n",
            "Response Time for French two beam search: 1.616030216217041 seconds\n",
            "Response Time for Indonesian two beam search: 1.460583209991455 seconds\n",
            "Response Time for Chinese two beam search: 1.6677584648132324 seconds\n",
            "\n",
            "Response Time for French seven beam search: 2.9400813579559326 seconds\n",
            "Response Time for Indonesian seven beam search: 2.631540060043335 seconds\n",
            "Response Time for Chinese seven beam search: 3.174335241317749 seconds\n",
            "\n",
            "Response Time for French twenty five beam search: 8.526277780532837 seconds\n",
            "Response Time for Indonesian twenty five beam search: 6.592340707778931 seconds\n",
            "Response Time for Chinese twenty five beam search: 8.189250230789185 seconds\n"
          ]
        }
      ],
      "source": [
        "import matplotlib.pyplot as plt\n",
        "import numpy as np\n",
        "\n",
        "# Sample data for demonstration\n",
        "model_types = ['French', 'Bahasa Indonesia', 'Chinese']\n",
        "values = np.array([[response_time_MarianMTFrench_normalSearch, response_time_MarianMTFrench_twoBeam, response_time_MarianMTFrench_sevenBeam, response_time_MarianMTFrench_twentyFiveBeam], [response_time_MarianMTIndonesian_normalSearch, response_time_MarianMTIndonesian_twoBeam, response_time_MarianMTIndonesian_sevenBeam, response_time_MarianMTIndonesian_twentyFiveBeam], [response_time_MarianMTChinese_normalSearch, response_time_MarianMTChinese_twoBeam, response_time_MarianMTChinese_sevenBeam, response_time_MarianMTChinese_twentyFiveBeam]])\n",
        "\n",
        "# Setting up positions for bars\n",
        "bar_width = 0.2\n",
        "bar_positions = np.arange(len(model_types))\n",
        "\n",
        "# Define different labels for each graph\n",
        "labels_list = ['Normal Search', 'Beam Search (2 beams)', 'Beam Search (7 beams)', 'Beam Search (25 beams)']\n",
        "\n",
        "# Transpose the values array to match the correct shape\n",
        "graph_values = values.T.tolist()\n",
        "\n",
        "# Calculate the maximum value among all data points\n",
        "max_value = np.max(values)\n",
        "\n",
        "# Create a figure with a single row and four columns\n",
        "fig, axs = plt.subplots(nrows=1, ncols=4, figsize=(16, 4))\n",
        "\n",
        "# Plotting each bar graph\n",
        "for i, ax in enumerate(axs):\n",
        "    ax.bar(bar_positions, graph_values[i], bar_width, label=labels_list[i])\n",
        "    ax.set_xlabel('Model Types')\n",
        "    ax.set_ylabel('Response Time(Seconds)')\n",
        "    ax.set_title(labels_list[i])\n",
        "\n",
        "    # Adding x-axis ticks and labels\n",
        "    ax.set_xticks(bar_positions)\n",
        "    ax.set_xticklabels(model_types)\n",
        "\n",
        "    # Set a common y-axis range\n",
        "    ax.set_ylim(0, max_value)\n",
        "\n",
        "    # Adding legend\n",
        "    #ax.legend()\n",
        "\n",
        "# Adjust layout for better spacing\n",
        "plt.tight_layout()\n",
        "\n",
        "# Show the plot\n",
        "plt.show()\n",
        "\n",
        "print(f\"Response Time for French normal search: {response_time_MarianMTFrench_normalSearch} seconds\")\n",
        "print(f\"Response Time for Indonesian normal search: {response_time_MarianMTIndonesian_normalSearch} seconds\")\n",
        "print(f\"Response Time for Chinese normal search: {response_time_MarianMTChinese_normalSearch} seconds\")\n",
        "\n",
        "print(\"\")\n",
        "print(f\"Response Time for French two beam search: {response_time_MarianMTFrench_twoBeam} seconds\")\n",
        "print(f\"Response Time for Indonesian two beam search: {response_time_MarianMTIndonesian_twoBeam} seconds\")\n",
        "print(f\"Response Time for Chinese two beam search: {response_time_MarianMTChinese_twoBeam} seconds\")\n",
        "\n",
        "print(\"\")\n",
        "print(f\"Response Time for French seven beam search: {response_time_MarianMTFrench_sevenBeam} seconds\")\n",
        "print(f\"Response Time for Indonesian seven beam search: {response_time_MarianMTIndonesian_sevenBeam} seconds\")\n",
        "print(f\"Response Time for Chinese seven beam search: {response_time_MarianMTChinese_sevenBeam} seconds\")\n",
        "\n",
        "print(\"\")\n",
        "print(f\"Response Time for French twenty five beam search: {response_time_MarianMTFrench_twentyFiveBeam} seconds\")\n",
        "print(f\"Response Time for Indonesian twenty five beam search: {response_time_MarianMTIndonesian_twentyFiveBeam} seconds\")\n",
        "print(f\"Response Time for Chinese twenty five beam search: {response_time_MarianMTChinese_twentyFiveBeam} seconds\")"
      ]
    },
    {
      "cell_type": "markdown",
      "metadata": {
        "id": "cBHaOYHTZYNX"
      },
      "source": [
        "<h3><b>Comparison of Memory Usage for Normal, 2 , 7 and 25 beam search for each model type (Machine Translation)</b><h3>"
      ]
    },
    {
      "cell_type": "code",
      "execution_count": null,
      "metadata": {
        "colab": {
          "base_uri": "https://localhost:8080/"
        },
        "id": "gx0uv21mZYNX",
        "outputId": "14d4f56b-9169-4048-da74-2cdcf1bec3b1"
      },
      "outputs": [
        {
          "data": {
            "image/png": "[encoded data removed]",
            "text/plain": [
              "<Figure size 1152x288 with 4 Axes>"
            ]
          },
          "metadata": {
            "needs_background": "light"
          },
          "output_type": "display_data"
        },
        {
          "name": "stdout",
          "output_type": "stream",
          "text": [
            "Memory Usage for French translation normal search: 527.59MB\n",
            "Memory Usage for Indonesian translation normal search: 516.36MB\n",
            "Memory Usage for Chinese translation normal search: 538.48MB\n",
            "\n",
            "Memory Usage for French translation two beam search: 486.3MB\n",
            "Memory Usage for Indonesian translation two beam search: 485.68MB\n",
            "Memory Usage for Chinese translation two beam search: 511.83MB\n",
            "\n",
            "Memory Usage for French translation seven beam search: 535.91MB\n",
            "Memory Usage for Indonesian translation seven beam search: 529.76MB\n",
            "Memory Usage for Chinese translation seven beam search: 548.3MB\n",
            "\n",
            "Memory Usage for French translation twenty five beam search: 700.63MB\n",
            "Memory Usage for Indonesian translation twenty five beam search: 684.99MB\n",
            "Memory Usage for Chinese translation twenty five beam search: 724.89MB\n"
          ]
        }
      ],
      "source": [
        "import matplotlib.pyplot as plt\n",
        "import numpy as np\n",
        "\n",
        "# Sample data for demonstration\n",
        "model_types = ['French', 'Bahasa Indonesia', 'Chinese']\n",
        "values = np.array([[marianMTFrench_mNormal, marianMTFrench_m2, marianMTFrench_m7, marianMTFrench_m25], [marianMTIndonesian_mNormal, marianMTIndonesian_m2, marianMTIndonesian_m7, marianMTIndonesian_m25], [marianMTChinese_mNormal, marianMTChinese_m2, marianMTChinese_m7, marianMTChinese_m25]])\n",
        "\n",
        "# Setting up positions for bars\n",
        "bar_width = 0.2\n",
        "bar_positions = np.arange(len(model_types))\n",
        "\n",
        "# Define different labels for each graph\n",
        "labels_list = ['Normal Search', 'Beam Search (2 beams)', 'Beam Search (7 beams)', 'Beam Search (25 beams)']\n",
        "\n",
        "# Transpose the values array to match the correct shape\n",
        "graph_values = values.T.tolist()\n",
        "\n",
        "# Calculate the maximum value among all data points\n",
        "max_value = np.max(values)\n",
        "\n",
        "# Create a figure with a single row and four columns\n",
        "fig, axs = plt.subplots(nrows=1, ncols=4, figsize=(16, 4))\n",
        "\n",
        "# Plotting each bar graph\n",
        "for i, ax in enumerate(axs):\n",
        "    ax.bar(bar_positions, graph_values[i], bar_width, label=labels_list[i])\n",
        "    ax.set_xlabel('Model Types')\n",
        "    ax.set_ylabel('Memory Usage (MB)')\n",
        "    ax.set_title(labels_list[i])\n",
        "\n",
        "    # Adding x-axis ticks and labels\n",
        "    ax.set_xticks(bar_positions)\n",
        "    ax.set_xticklabels(model_types)\n",
        "\n",
        "    # Set a common y-axis range\n",
        "    ax.set_ylim(0, max_value)\n",
        "\n",
        "    # Adding legend\n",
        "    #ax.legend()\n",
        "\n",
        "# Adjust layout for better spacing\n",
        "plt.tight_layout()\n",
        "\n",
        "# Show the plot\n",
        "plt.show()\n",
        "\n",
        "print(f\"Memory Usage for French translation normal search: {marianMTFrench_mNormal}MB\")\n",
        "print(f\"Memory Usage for Indonesian translation normal search: {marianMTIndonesian_mNormal}MB\")\n",
        "print(f\"Memory Usage for Chinese translation normal search: {marianMTChinese_mNormal}MB\")\n",
        "\n",
        "print(\"\")\n",
        "print(f\"Memory Usage for French translation two beam search: {marianMTFrench_m2}MB\")\n",
        "print(f\"Memory Usage for Indonesian translation two beam search: {marianMTIndonesian_m2}MB\")\n",
        "print(f\"Memory Usage for Chinese translation two beam search: {marianMTChinese_m2}MB\")\n",
        "\n",
        "print(\"\")\n",
        "print(f\"Memory Usage for French translation seven beam search: {marianMTFrench_m7}MB\")\n",
        "print(f\"Memory Usage for Indonesian translation seven beam search: {marianMTIndonesian_m7}MB\")\n",
        "print(f\"Memory Usage for Chinese translation seven beam search: {marianMTChinese_m7}MB\")\n",
        "\n",
        "print(\"\")\n",
        "print(f\"Memory Usage for French translation twenty five beam search: {marianMTFrench_m25}MB\")\n",
        "print(f\"Memory Usage for Indonesian translation twenty five beam search: {marianMTIndonesian_m25}MB\")\n",
        "print(f\"Memory Usage for Chinese translation twenty five beam search: {marianMTChinese_m25}MB\")"
      ]
    },
    {
      "cell_type": "markdown",
      "metadata": {
        "id": "76lRPW_3Zg6W"
      },
      "source": [
        "# <b>Results (Generated And Translated Text)</b>"
      ]
    },
    {
      "cell_type": "markdown",
      "metadata": {
        "id": "ghxt2MT_avyQ"
      },
      "source": [
        "## <h3><b>Generated Text Results Comparison (Creative)</b><h3>"
      ]
    },
    {
      "cell_type": "markdown",
      "metadata": {
        "id": "GouHrp0tavyR"
      },
      "source": [
        "<h3><b>Generated text results GPT2 (creative)</b><h3>"
      ]
    },
    {
      "cell_type": "code",
      "execution_count": null,
      "metadata": {
        "colab": {
          "base_uri": "https://localhost:8080/",
          "height": 175
        },
        "id": "hVCGXmNRavyR",
        "outputId": "620a8839-8b0c-4ac7-f304-48afd401ccfd"
      },
      "outputs": [
        {
          "data": {
            "text/html": [
              "<div>\n",
              "<style scoped>\n",
              "    .dataframe tbody tr th:only-of-type {\n",
              "        vertical-align: middle;\n",
              "    }\n",
              "\n",
              "    .dataframe tbody tr th {\n",
              "        vertical-align: top;\n",
              "    }\n",
              "\n",
              "    .dataframe thead th {\n",
              "        text-align: right;\n",
              "    }\n",
              "</style>\n",
              "<table border=\"1\" class=\"dataframe\">\n",
              "  <thead>\n",
              "    <tr style=\"text-align: right;\">\n",
              "      <th></th>\n",
              "      <th>Beam Search</th>\n",
              "      <th>Generated Text</th>\n",
              "      <th>Response Time(s)</th>\n",
              "      <th>Memory Usage(MB)</th>\n",
              "    </tr>\n",
              "  </thead>\n",
              "  <tbody>\n",
              "    <tr>\n",
              "      <th>0</th>\n",
              "      <td>Normal</td>\n",
              "      <td>Hello, my dog is cute and I love him. I'm not ...</td>\n",
              "      <td>2.42</td>\n",
              "      <td>742.01</td>\n",
              "    </tr>\n",
              "    <tr>\n",
              "      <th>1</th>\n",
              "      <td>2</td>\n",
              "      <td>Hello, my dog is cute and I love him. I'm not ...</td>\n",
              "      <td>3.70</td>\n",
              "      <td>752.39</td>\n",
              "    </tr>\n",
              "    <tr>\n",
              "      <th>2</th>\n",
              "      <td>7</td>\n",
              "      <td>Hello, my dog is cute and I love him so much. ...</td>\n",
              "      <td>3.60</td>\n",
              "      <td>805.06</td>\n",
              "    </tr>\n",
              "    <tr>\n",
              "      <th>3</th>\n",
              "      <td>25</td>\n",
              "      <td>Hello, my dog is cute and I can't wait to see ...</td>\n",
              "      <td>9.08</td>\n",
              "      <td>1148.42</td>\n",
              "    </tr>\n",
              "  </tbody>\n",
              "</table>\n",
              "</div>"
            ],
            "text/plain": [
              "  Beam Search                                     Generated Text  \\\n",
              "0      Normal  Hello, my dog is cute and I love him. I'm not ...   \n",
              "1           2  Hello, my dog is cute and I love him. I'm not ...   \n",
              "2           7  Hello, my dog is cute and I love him so much. ...   \n",
              "3          25  Hello, my dog is cute and I can't wait to see ...   \n",
              "\n",
              "  Response Time(s)  Memory Usage(MB)  \n",
              "0             2.42            742.01  \n",
              "1             3.70            752.39  \n",
              "2             3.60            805.06  \n",
              "3             9.08           1148.42  "
            ]
          },
          "execution_count": 56,
          "metadata": {},
          "output_type": "execute_result"
        }
      ],
      "source": [
        "import pandas as pd\n",
        "\n",
        "# Sample data\n",
        "data = {\n",
        "    'Beam Search': [\"Normal\", 2, 7, 25],\n",
        "    'Generated Text': [\n",
        "         generated_text_gpt2_normalSearch,\n",
        "         generated_text_gpt2_twoBeam,\n",
        "        generated_text_gpt2_sevenBeam,\n",
        "        generated_text_gpt2_twentyFiveBeam\n",
        "    ],\n",
        "    'Response Time(s)': [f\"{response_time_gpt2_normalSearch:.2f}\", f\"{response_time_gpt2_twoBeam:.2f}\", f\"{response_time_gpt2_sevenBeam:.2f}\", f\"{response_time_gpt2_twentyFiveBeam:.2f}\"],\n",
        "    'Memory Usage(MB)': [gpt2_mNormal, gpt2_m2, gpt2_m7, gpt2_m25]\n",
        "}\n",
        "\n",
        "# Create a DataFrame\n",
        "df = pd.DataFrame(data)\n",
        "\n",
        "# Display the DataFrame\n",
        "df"
      ]
    },
    {
      "cell_type": "markdown",
      "metadata": {
        "id": "Nr1BnU1RavyR"
      },
      "source": [
        "<h3><b>Generated text results DistilGPT-2 (creative)</b><h3>"
      ]
    },
    {
      "cell_type": "code",
      "execution_count": null,
      "metadata": {
        "colab": {
          "base_uri": "https://localhost:8080/",
          "height": 175
        },
        "id": "h07L-syvavyR",
        "outputId": "c9b89d7e-0c0d-49a4-a292-fc7f27e7aa25"
      },
      "outputs": [
        {
          "data": {
            "text/html": [
              "<div>\n",
              "<style scoped>\n",
              "    .dataframe tbody tr th:only-of-type {\n",
              "        vertical-align: middle;\n",
              "    }\n",
              "\n",
              "    .dataframe tbody tr th {\n",
              "        vertical-align: top;\n",
              "    }\n",
              "\n",
              "    .dataframe thead th {\n",
              "        text-align: right;\n",
              "    }\n",
              "</style>\n",
              "<table border=\"1\" class=\"dataframe\">\n",
              "  <thead>\n",
              "    <tr style=\"text-align: right;\">\n",
              "      <th></th>\n",
              "      <th>Beam Search</th>\n",
              "      <th>Generated Text</th>\n",
              "      <th>Response Time(s)</th>\n",
              "      <th>Memory Usage(MB)</th>\n",
              "    </tr>\n",
              "  </thead>\n",
              "  <tbody>\n",
              "    <tr>\n",
              "      <th>0</th>\n",
              "      <td>Normal</td>\n",
              "      <td>Hello, my dog is cute and I love him. I'm so h...</td>\n",
              "      <td>0.38</td>\n",
              "      <td>568.98</td>\n",
              "    </tr>\n",
              "    <tr>\n",
              "      <th>1</th>\n",
              "      <td>2</td>\n",
              "      <td>Hello, my dog is cute and I love him.\\n\\nI lov...</td>\n",
              "      <td>0.65</td>\n",
              "      <td>568.31</td>\n",
              "    </tr>\n",
              "    <tr>\n",
              "      <th>2</th>\n",
              "      <td>7</td>\n",
              "      <td>Hello, my dog is cute and I love to play with ...</td>\n",
              "      <td>2.30</td>\n",
              "      <td>618.23</td>\n",
              "    </tr>\n",
              "    <tr>\n",
              "      <th>3</th>\n",
              "      <td>25</td>\n",
              "      <td>Hello, my dog is cute and I love to play with ...</td>\n",
              "      <td>3.37</td>\n",
              "      <td>696.91</td>\n",
              "    </tr>\n",
              "  </tbody>\n",
              "</table>\n",
              "</div>"
            ],
            "text/plain": [
              "  Beam Search                                     Generated Text  \\\n",
              "0      Normal  Hello, my dog is cute and I love him. I'm so h...   \n",
              "1           2  Hello, my dog is cute and I love him.\\n\\nI lov...   \n",
              "2           7  Hello, my dog is cute and I love to play with ...   \n",
              "3          25  Hello, my dog is cute and I love to play with ...   \n",
              "\n",
              "  Response Time(s)  Memory Usage(MB)  \n",
              "0             0.38            568.98  \n",
              "1             0.65            568.31  \n",
              "2             2.30            618.23  \n",
              "3             3.37            696.91  "
            ]
          },
          "execution_count": 57,
          "metadata": {},
          "output_type": "execute_result"
        }
      ],
      "source": [
        "import pandas as pd\n",
        "\n",
        "# Sample data\n",
        "data = {\n",
        "    'Beam Search': [\"Normal\", 2, 7, 25],\n",
        "    'Generated Text': [\n",
        "         generated_text_distilgpt2_normalSearch,\n",
        "         generated_text_distilgpt2_twoBeam,\n",
        "        generated_text_distilgpt2_sevenBeam,\n",
        "        generated_text_distilgpt2_twentyFiveBeam\n",
        "    ],\n",
        "    'Response Time(s)': [f\"{response_time_distilgpt2_normalSearch:.2f}\", f\"{response_time_distilgpt2_twoBeam:.2f}\", f\"{response_time_distilgpt2_sevenBeam:.2f}\", f\"{response_time_distilgpt2_twentyFiveBeam:.2f}\"],\n",
        "    'Memory Usage(MB)': [distilgpt2_mNormal, distilgpt2_m2, distilgpt2_m7, distilgpt2_m25]\n",
        "}\n",
        "\n",
        "# Create a DataFrame\n",
        "df = pd.DataFrame(data)\n",
        "\n",
        "# Display the DataFrame\n",
        "df"
      ]
    },
    {
      "cell_type": "markdown",
      "metadata": {
        "id": "PaIqt8bjavyR"
      },
      "source": [
        "<h3><b>Generated text results BART (creative)</b><h3>"
      ]
    },
    {
      "cell_type": "code",
      "execution_count": null,
      "metadata": {
        "colab": {
          "base_uri": "https://localhost:8080/",
          "height": 175
        },
        "id": "BBCMYZEuavyS",
        "outputId": "bdbc8e17-e452-43f8-f271-9d39be735806"
      },
      "outputs": [
        {
          "data": {
            "text/html": [
              "<div>\n",
              "<style scoped>\n",
              "    .dataframe tbody tr th:only-of-type {\n",
              "        vertical-align: middle;\n",
              "    }\n",
              "\n",
              "    .dataframe tbody tr th {\n",
              "        vertical-align: top;\n",
              "    }\n",
              "\n",
              "    .dataframe thead th {\n",
              "        text-align: right;\n",
              "    }\n",
              "</style>\n",
              "<table border=\"1\" class=\"dataframe\">\n",
              "  <thead>\n",
              "    <tr style=\"text-align: right;\">\n",
              "      <th></th>\n",
              "      <th>Beam Search</th>\n",
              "      <th>Generated Text</th>\n",
              "      <th>Response Time(s)</th>\n",
              "      <th>Memory Usage(MB)</th>\n",
              "    </tr>\n",
              "  </thead>\n",
              "  <tbody>\n",
              "    <tr>\n",
              "      <th>0</th>\n",
              "      <td>Normal</td>\n",
              "      <td>Hello, my dog is cute and cute. Hello, I'm a d...</td>\n",
              "      <td>2.51</td>\n",
              "      <td>1717.61</td>\n",
              "    </tr>\n",
              "    <tr>\n",
              "      <th>1</th>\n",
              "      <td>2</td>\n",
              "      <td>Hello, my dog is cute and cute. Hello, I have ...</td>\n",
              "      <td>4.25</td>\n",
              "      <td>1769.09</td>\n",
              "    </tr>\n",
              "    <tr>\n",
              "      <th>2</th>\n",
              "      <td>7</td>\n",
              "      <td>Hello, my dog is cute and I love him. Here's h...</td>\n",
              "      <td>5.94</td>\n",
              "      <td>1709.95</td>\n",
              "    </tr>\n",
              "    <tr>\n",
              "      <th>3</th>\n",
              "      <td>25</td>\n",
              "      <td>Hello, my dog is cute and I love him. Here's h...</td>\n",
              "      <td>8.31</td>\n",
              "      <td>2124.85</td>\n",
              "    </tr>\n",
              "  </tbody>\n",
              "</table>\n",
              "</div>"
            ],
            "text/plain": [
              "  Beam Search                                     Generated Text  \\\n",
              "0      Normal  Hello, my dog is cute and cute. Hello, I'm a d...   \n",
              "1           2  Hello, my dog is cute and cute. Hello, I have ...   \n",
              "2           7  Hello, my dog is cute and I love him. Here's h...   \n",
              "3          25  Hello, my dog is cute and I love him. Here's h...   \n",
              "\n",
              "  Response Time(s)  Memory Usage(MB)  \n",
              "0             2.51           1717.61  \n",
              "1             4.25           1769.09  \n",
              "2             5.94           1709.95  \n",
              "3             8.31           2124.85  "
            ]
          },
          "execution_count": 58,
          "metadata": {},
          "output_type": "execute_result"
        }
      ],
      "source": [
        "import pandas as pd\n",
        "\n",
        "# Sample data\n",
        "data = {\n",
        "    'Beam Search': [\"Normal\", 2, 7, 25],\n",
        "    'Generated Text': [\n",
        "         generated_text_bart_normalSearch,\n",
        "         generated_text_bart_twoBeam,\n",
        "        generated_text_bart_sevenBeam,\n",
        "        generated_text_bart_twentyFiveBeam\n",
        "    ],\n",
        "    'Response Time(s)': [f\"{response_time_bart_normalSearch:.2f}\", f\"{response_time_bart_twoBeam:.2f}\", f\"{response_time_bart_sevenBeam:.2f}\", f\"{response_time_bart_twentyFiveBeam:.2f}\"],\n",
        "    'Memory Usage(MB)': [bart_mNormal, bart_m2, bart_m7, bart_m25]\n",
        "}\n",
        "\n",
        "# Create a DataFrame\n",
        "df = pd.DataFrame(data)\n",
        "\n",
        "# Display the DataFrame\n",
        "df"
      ]
    },
    {
      "cell_type": "markdown",
      "metadata": {
        "id": "58XntcvdaV2V"
      },
      "source": [
        "## <h3><b>Generated Text Results Comparison (Scientific)</b><h3>"
      ]
    },
    {
      "cell_type": "markdown",
      "metadata": {
        "id": "okZd1jqWaV2W"
      },
      "source": [
        "<h3><b>Generated text results GPT2 (scientific)</b><h3>"
      ]
    },
    {
      "cell_type": "code",
      "execution_count": null,
      "metadata": {
        "colab": {
          "base_uri": "https://localhost:8080/"
        },
        "id": "J5BQVYEfaV2W",
        "outputId": "661defd7-a939-4323-9a56-bd2903c46641"
      },
      "outputs": [
        {
          "data": {
            "text/html": [
              "<div>\n",
              "<style scoped>\n",
              "    .dataframe tbody tr th:only-of-type {\n",
              "        vertical-align: middle;\n",
              "    }\n",
              "\n",
              "    .dataframe tbody tr th {\n",
              "        vertical-align: top;\n",
              "    }\n",
              "\n",
              "    .dataframe thead th {\n",
              "        text-align: right;\n",
              "    }\n",
              "</style>\n",
              "<table border=\"1\" class=\"dataframe\">\n",
              "  <thead>\n",
              "    <tr style=\"text-align: right;\">\n",
              "      <th></th>\n",
              "      <th>Beam Search</th>\n",
              "      <th>Generated Text</th>\n",
              "      <th>Response Time(s)</th>\n",
              "      <th>Memory Usage(MB)</th>\n",
              "    </tr>\n",
              "  </thead>\n",
              "  <tbody>\n",
              "    <tr>\n",
              "      <th>0</th>\n",
              "      <td>Normal</td>\n",
              "      <td>In the world of Artificial Intelligence, there...</td>\n",
              "      <td>2.32</td>\n",
              "      <td>663.43</td>\n",
              "    </tr>\n",
              "    <tr>\n",
              "      <th>1</th>\n",
              "      <td>2</td>\n",
              "      <td>In the world of Artificial Intelligence, there...</td>\n",
              "      <td>3.21</td>\n",
              "      <td>680.62</td>\n",
              "    </tr>\n",
              "    <tr>\n",
              "      <th>2</th>\n",
              "      <td>7</td>\n",
              "      <td>In the world of Artificial Intelligence, there...</td>\n",
              "      <td>5.66</td>\n",
              "      <td>784.31</td>\n",
              "    </tr>\n",
              "    <tr>\n",
              "      <th>3</th>\n",
              "      <td>25</td>\n",
              "      <td>In the world of Artificial Intelligence, there...</td>\n",
              "      <td>12.29</td>\n",
              "      <td>1163.44</td>\n",
              "    </tr>\n",
              "  </tbody>\n",
              "</table>\n",
              "</div>"
            ],
            "text/plain": [
              "  Beam Search                                     Generated Text  \\\n",
              "0      Normal  In the world of Artificial Intelligence, there...   \n",
              "1           2  In the world of Artificial Intelligence, there...   \n",
              "2           7  In the world of Artificial Intelligence, there...   \n",
              "3          25  In the world of Artificial Intelligence, there...   \n",
              "\n",
              "  Response Time(s)  Memory Usage(MB)  \n",
              "0             2.32            663.43  \n",
              "1             3.21            680.62  \n",
              "2             5.66            784.31  \n",
              "3            12.29           1163.44  "
            ]
          },
          "execution_count": 59,
          "metadata": {},
          "output_type": "execute_result"
        }
      ],
      "source": [
        "import pandas as pd\n",
        "\n",
        "# Sample data\n",
        "data = {\n",
        "    'Beam Search': [\"Normal\", 2, 7, 25],\n",
        "    'Generated Text': [\n",
        "         generated_text_gpt2_normalSearch_scientific,\n",
        "         generated_text_gpt2_twoBeam_scientific,\n",
        "        generated_text_gpt2_sevenBeam_scientific,\n",
        "        generated_text_gpt2_twentyFiveBeam_scientific\n",
        "    ],\n",
        "    'Response Time(s)': [f\"{response_time_gpt2_normalSearch_scientific:.2f}\", f\"{response_time_gpt2_twoBeam_scientific:.2f}\", f\"{response_time_gpt2_sevenBeam_scientific:.2f}\", f\"{response_time_gpt2_twentyFiveBeam_scientific:.2f}\"],\n",
        "    'Memory Usage(MB)': [gpt2_mNormal_scientific, gpt2_m2_scientific, gpt2_m7_scientific, gpt2_m25_scientific]\n",
        "}\n",
        "\n",
        "# Create a DataFrame\n",
        "df = pd.DataFrame(data)\n",
        "\n",
        "# Display the DataFrame\n",
        "df"
      ]
    },
    {
      "cell_type": "markdown",
      "metadata": {
        "id": "s-jTGGjNaV2W"
      },
      "source": [
        "<h3><b>Generated text results DistilGPT-2 (scientific)</b><h3>"
      ]
    },
    {
      "cell_type": "code",
      "execution_count": null,
      "metadata": {
        "colab": {
          "base_uri": "https://localhost:8080/"
        },
        "id": "v4jREqjhaV2X",
        "outputId": "13dce540-6390-4dc3-f065-3c9211665f5c"
      },
      "outputs": [
        {
          "data": {
            "text/html": [
              "<div>\n",
              "<style scoped>\n",
              "    .dataframe tbody tr th:only-of-type {\n",
              "        vertical-align: middle;\n",
              "    }\n",
              "\n",
              "    .dataframe tbody tr th {\n",
              "        vertical-align: top;\n",
              "    }\n",
              "\n",
              "    .dataframe thead th {\n",
              "        text-align: right;\n",
              "    }\n",
              "</style>\n",
              "<table border=\"1\" class=\"dataframe\">\n",
              "  <thead>\n",
              "    <tr style=\"text-align: right;\">\n",
              "      <th></th>\n",
              "      <th>Beam Search</th>\n",
              "      <th>Generated Text</th>\n",
              "      <th>Response Time(s)</th>\n",
              "      <th>Memory Usage(MB)</th>\n",
              "    </tr>\n",
              "  </thead>\n",
              "  <tbody>\n",
              "    <tr>\n",
              "      <th>0</th>\n",
              "      <td>Normal</td>\n",
              "      <td>In the world of Artificial Intelligence, we ha...</td>\n",
              "      <td>1.52</td>\n",
              "      <td>490.40</td>\n",
              "    </tr>\n",
              "    <tr>\n",
              "      <th>1</th>\n",
              "      <td>2</td>\n",
              "      <td>In the world of Artificial Intelligence, we ha...</td>\n",
              "      <td>1.70</td>\n",
              "      <td>507.58</td>\n",
              "    </tr>\n",
              "    <tr>\n",
              "      <th>2</th>\n",
              "      <td>7</td>\n",
              "      <td>In the world of Artificial Intelligence, it’s ...</td>\n",
              "      <td>3.12</td>\n",
              "      <td>544.48</td>\n",
              "    </tr>\n",
              "    <tr>\n",
              "      <th>3</th>\n",
              "      <td>25</td>\n",
              "      <td>In the world of Artificial Intelligence, artif...</td>\n",
              "      <td>7.56</td>\n",
              "      <td>748.29</td>\n",
              "    </tr>\n",
              "  </tbody>\n",
              "</table>\n",
              "</div>"
            ],
            "text/plain": [
              "  Beam Search                                     Generated Text  \\\n",
              "0      Normal  In the world of Artificial Intelligence, we ha...   \n",
              "1           2  In the world of Artificial Intelligence, we ha...   \n",
              "2           7  In the world of Artificial Intelligence, it’s ...   \n",
              "3          25  In the world of Artificial Intelligence, artif...   \n",
              "\n",
              "  Response Time(s)  Memory Usage(MB)  \n",
              "0             1.52            490.40  \n",
              "1             1.70            507.58  \n",
              "2             3.12            544.48  \n",
              "3             7.56            748.29  "
            ]
          },
          "execution_count": 60,
          "metadata": {},
          "output_type": "execute_result"
        }
      ],
      "source": [
        "import pandas as pd\n",
        "\n",
        "# Sample data\n",
        "data = {\n",
        "    'Beam Search': [\"Normal\", 2, 7, 25],\n",
        "    'Generated Text': [\n",
        "         generated_text_distilgpt2_normalSearch_scientific,\n",
        "         generated_text_distilgpt2_twoBeam_scientific,\n",
        "        generated_text_distilgpt2_sevenBeam_scientific,\n",
        "        generated_text_distilgpt2_twentyFiveBeam_scientific\n",
        "    ],\n",
        "    'Response Time(s)': [f\"{response_time_distilgpt2_normalSearch_scientific:.2f}\", f\"{response_time_distilgpt2_twoBeam_scientific:.2f}\", f\"{response_time_distilgpt2_sevenBeam_scientific:.2f}\", f\"{response_time_distilgpt2_twentyFiveBeam_scientific:.2f}\"],\n",
        "    'Memory Usage(MB)': [distilgpt2_mNormal_scientific, distilgpt2_m2_scientific, distilgpt2_m7_scientific, distilgpt2_m25_scientific]\n",
        "}\n",
        "\n",
        "# Create a DataFrame\n",
        "df = pd.DataFrame(data)\n",
        "\n",
        "# Display the DataFrame\n",
        "df"
      ]
    },
    {
      "cell_type": "markdown",
      "metadata": {
        "id": "4nAckTiwaV2X"
      },
      "source": [
        "<h3><b>Generated text results BART (scientific)</b><h3>"
      ]
    },
    {
      "cell_type": "code",
      "execution_count": null,
      "metadata": {
        "colab": {
          "base_uri": "https://localhost:8080/"
        },
        "id": "0XnuXPLYaV2X",
        "outputId": "d555d1ba-adb1-4c85-bc47-9e60ee2b9f57"
      },
      "outputs": [
        {
          "data": {
            "text/html": [
              "<div>\n",
              "<style scoped>\n",
              "    .dataframe tbody tr th:only-of-type {\n",
              "        vertical-align: middle;\n",
              "    }\n",
              "\n",
              "    .dataframe tbody tr th {\n",
              "        vertical-align: top;\n",
              "    }\n",
              "\n",
              "    .dataframe thead th {\n",
              "        text-align: right;\n",
              "    }\n",
              "</style>\n",
              "<table border=\"1\" class=\"dataframe\">\n",
              "  <thead>\n",
              "    <tr style=\"text-align: right;\">\n",
              "      <th></th>\n",
              "      <th>Beam Search</th>\n",
              "      <th>Generated Text</th>\n",
              "      <th>Response Time(s)</th>\n",
              "      <th>Memory Usage(MB)</th>\n",
              "    </tr>\n",
              "  </thead>\n",
              "  <tbody>\n",
              "    <tr>\n",
              "      <th>0</th>\n",
              "      <td>Normal</td>\n",
              "      <td>In the world of Artificial Intelligence, we lo...</td>\n",
              "      <td>3.25</td>\n",
              "      <td>1730.65</td>\n",
              "    </tr>\n",
              "    <tr>\n",
              "      <th>1</th>\n",
              "      <td>2</td>\n",
              "      <td>In the world of Artificial Intelligence, we lo...</td>\n",
              "      <td>4.49</td>\n",
              "      <td>1747.24</td>\n",
              "    </tr>\n",
              "    <tr>\n",
              "      <th>2</th>\n",
              "      <td>7</td>\n",
              "      <td>In the world of Artificial Intelligence, we lo...</td>\n",
              "      <td>5.82</td>\n",
              "      <td>1835.16</td>\n",
              "    </tr>\n",
              "    <tr>\n",
              "      <th>3</th>\n",
              "      <td>25</td>\n",
              "      <td>In the world of Artificial Intelligence, there...</td>\n",
              "      <td>9.09</td>\n",
              "      <td>2168.96</td>\n",
              "    </tr>\n",
              "  </tbody>\n",
              "</table>\n",
              "</div>"
            ],
            "text/plain": [
              "  Beam Search                                     Generated Text  \\\n",
              "0      Normal  In the world of Artificial Intelligence, we lo...   \n",
              "1           2  In the world of Artificial Intelligence, we lo...   \n",
              "2           7  In the world of Artificial Intelligence, we lo...   \n",
              "3          25  In the world of Artificial Intelligence, there...   \n",
              "\n",
              "  Response Time(s)  Memory Usage(MB)  \n",
              "0             3.25           1730.65  \n",
              "1             4.49           1747.24  \n",
              "2             5.82           1835.16  \n",
              "3             9.09           2168.96  "
            ]
          },
          "execution_count": 61,
          "metadata": {},
          "output_type": "execute_result"
        }
      ],
      "source": [
        "import pandas as pd\n",
        "\n",
        "# Sample data\n",
        "data = {\n",
        "    'Beam Search': [\"Normal\", 2, 7, 25],\n",
        "    'Generated Text': [\n",
        "         generated_text_bart_normalSearch_scientific,\n",
        "         generated_text_bart_twoBeam_scientific,\n",
        "        generated_text_bart_sevenBeam_scientific,\n",
        "        generated_text_bart_twentyFiveBeam_scientific\n",
        "    ],\n",
        "    'Response Time(s)': [f\"{response_time_bart_normalSearch_scientific:.2f}\", f\"{response_time_bart_twoBeam_scientific:.2f}\", f\"{response_time_bart_sevenBeam_scientific:.2f}\", f\"{response_time_bart_twentyFiveBeam_scientific:.2f}\"],\n",
        "    'Memory Usage(MB)': [bart_mNormal_scientific, bart_m2_scientific, bart_m7_scientific, bart_m25_scientific]\n",
        "}\n",
        "\n",
        "# Create a DataFrame\n",
        "df = pd.DataFrame(data)\n",
        "\n",
        "# Display the DataFrame\n",
        "df"
      ]
    },
    {
      "cell_type": "markdown",
      "metadata": {
        "id": "BbgARjRWaV2X"
      },
      "source": [
        "<h3><b>GPT-2 Results (scientific)</b><h3>"
      ]
    },
    {
      "cell_type": "code",
      "execution_count": null,
      "metadata": {
        "colab": {
          "base_uri": "https://localhost:8080/"
        },
        "id": "Fft1huGjaV2X",
        "outputId": "8ce4e474-8c29-4a3e-badb-a2572c4fa74b"
      },
      "outputs": [
        {
          "data": {
            "image/png": "[encoded data removed]",
            "text/plain": [
              "<Figure size 432x288 with 2 Axes>"
            ]
          },
          "metadata": {
            "needs_background": "light"
          },
          "output_type": "display_data"
        },
        {
          "name": "stdout",
          "output_type": "stream",
          "text": [
            "Response Time for GPT2 normal search (scientific): 2.316521644592285 seconds\n",
            "Response Time for GPT2 two beam search (scientific): 3.212313175201416 seconds\n",
            "Response Time for GPT2 seven beam search (scientific): 5.661749839782715 seconds\n",
            "Response Time for GPT2 twenty-five beam search (scientific): 12.293911457061768 seconds\n",
            "\n",
            "Memory Usage for GPT2 normal search (scientific): 663.43MB\n",
            "Memory Usage for GPT2 two beam search (scientific): 680.62MB\n",
            "Memory Usage for GPT2 seven beam search (scientific): 784.31MB\n",
            "Memory Usage for GPT2 twenty-five beam search (scientific): 1163.44MB\n"
          ]
        }
      ],
      "source": [
        "import matplotlib.pyplot as plt\n",
        "\n",
        "# put the memory usage of using one beam to float variable\n",
        "gpt2_m2_scientific = float(f\"{max(memory_used_gpt2_twoBeam_scientific):.2f}\")\n",
        "\n",
        "# put the memory usage of using seven beams to float variable\n",
        "gpt2_m7_scientific = float(f\"{max(memory_used_gpt2_sevenBeam_scientific):.2f}\")\n",
        "\n",
        "# put the memory usage of using twenty-five beam to float variable\n",
        "gpt2_m25_scientific = float(f\"{max(memory_used_gpt2_twentyFiveBeam_scientific):.2f}\")\n",
        "\n",
        "# put the memory usage of normal search to float variable\n",
        "gpt2_mNormal_scientific = float(f\"{max(memory_used_gpt2_normalSearch_scientific):.2f}\")\n",
        "\n",
        "# Sample data for the first graph\n",
        "num_beams_1 = [\"Normal\",\"2\",\"7\",\"25\"]\n",
        "response_time = [response_time_gpt2_normalSearch_scientific,response_time_gpt2_twoBeam_scientific,response_time_gpt2_sevenBeam_scientific,response_time_gpt2_twentyFiveBeam_scientific]  # in seconds\n",
        "\n",
        "# Sample data for the second graph\n",
        "num_beams_2 = [\"Normal\",\"2\",\"7\",\"25\"]\n",
        "memory_usage = [gpt2_mNormal_scientific,gpt2_m2_scientific,gpt2_m7_scientific,gpt2_m25_scientific]  # in mb\n",
        "\n",
        "# Create two subplots side by side\n",
        "plt.subplot(1, 2, 1)  # 1 row, 2 columns, 1st subplot\n",
        "plt.bar(num_beams_1, response_time, color='blue')\n",
        "plt.xlabel('Number of Beams')\n",
        "plt.ylabel('Response Time (seconds)')\n",
        "plt.title('Response Time (GPT-2)')\n",
        "\n",
        "plt.subplot(1, 2, 2)  # 1 row, 2 columns, 2nd subplot\n",
        "plt.bar(num_beams_2, memory_usage, color='orange')\n",
        "plt.xlabel('Number of Beams')\n",
        "plt.ylabel('Memory Usage (MB)')\n",
        "plt.title('Memory Usage (GPT-2)')\n",
        "\n",
        "# Adjust layout for better visualization\n",
        "plt.tight_layout()\n",
        "\n",
        "# Display the graphs\n",
        "plt.show()\n",
        "\n",
        "print(f\"Response Time for GPT2 normal search (scientific): {response_time_gpt2_normalSearch_scientific} seconds\")\n",
        "print(f\"Response Time for GPT2 two beam search (scientific): {response_time_gpt2_twoBeam_scientific} seconds\")\n",
        "print(f\"Response Time for GPT2 seven beam search (scientific): {response_time_gpt2_sevenBeam_scientific} seconds\")\n",
        "print(f\"Response Time for GPT2 twenty-five beam search (scientific): {response_time_gpt2_twentyFiveBeam_scientific} seconds\")\n",
        "\n",
        "print(\"\")\n",
        "\n",
        "print(f\"Memory Usage for GPT2 normal search (scientific): {gpt2_mNormal_scientific}MB\")\n",
        "print(f\"Memory Usage for GPT2 two beam search (scientific): {gpt2_m2_scientific}MB\")\n",
        "print(f\"Memory Usage for GPT2 seven beam search (scientific): {gpt2_m7_scientific}MB\")\n",
        "print(f\"Memory Usage for GPT2 twenty-five beam search (scientific): {gpt2_m25_scientific}MB\")"
      ]
    },
    {
      "cell_type": "markdown",
      "metadata": {
        "id": "nZu1pmxiaV2Y"
      },
      "source": [
        "<h3><b>DistilGPT-2 Results (scientific)</b><h3>"
      ]
    },
    {
      "cell_type": "code",
      "execution_count": null,
      "metadata": {
        "colab": {
          "base_uri": "https://localhost:8080/"
        },
        "id": "GRKvR6tdaV2Y",
        "outputId": "896e26e5-65a6-4e9b-905b-71da75674717"
      },
      "outputs": [
        {
          "data": {
            "image/png": "[encoded data removed]",
            "text/plain": [
              "<Figure size 432x288 with 2 Axes>"
            ]
          },
          "metadata": {
            "needs_background": "light"
          },
          "output_type": "display_data"
        },
        {
          "name": "stdout",
          "output_type": "stream",
          "text": [
            "Response Time for DistilGPT-2 normal search (scientific): 1.5202558040618896 seconds\n",
            "Response Time for DistilGPT-2 two beam search (scientific): 1.6953058242797852 seconds\n",
            "Response Time for DistilGPT-2 seven beam search (scientific): 3.116053581237793 seconds\n",
            "Response Time for DistilGPT-2 twenty-five beam search (scientific): 7.5595457553863525 seconds\n",
            "\n",
            "Memory Usage for DistilGPT-2 normal search (scientific): 490.4MB\n",
            "Memory Usage for DistilGPT-2 two beam search (scientific): 507.58MB\n",
            "Memory Usage for DistilGPT-2 seven beam search (scientific): 544.48MB\n",
            "Memory Usage for DistilGPT-2 twenty-five beam search (scientific): 748.29MB\n"
          ]
        }
      ],
      "source": [
        "import matplotlib.pyplot as plt\n",
        "\n",
        "# put the memory usage of using one beam to float variable\n",
        "distilgpt2_m2_scientific = float(f\"{max(memory_used_distilgpt2_twoBeam_scientific):.2f}\")\n",
        "\n",
        "# put the memory usage of using seven beams to float variable\n",
        "distilgpt2_m7_scientific = float(f\"{max(memory_used_distilgpt2_sevenBeam_scientific):.2f}\")\n",
        "\n",
        "# put the memory usage of using twenty-five beam to float variable\n",
        "distilgpt2_m25_scientific = float(f\"{max(memory_used_distilgpt2_twentyFiveBeam_scientific):.2f}\")\n",
        "\n",
        "# put the memory usage of normal search to float variable\n",
        "distilgpt2_mNormal_scientific = float(f\"{max(memory_used_distilgpt2_normalSearch_scientific):.2f}\")\n",
        "\n",
        "# Sample data for the first graph\n",
        "num_beams_1 = [\"Normal\",\"2\",\"7\",\"25\"]\n",
        "response_time = [response_time_distilgpt2_normalSearch_scientific,response_time_distilgpt2_twoBeam_scientific,response_time_distilgpt2_sevenBeam_scientific,response_time_distilgpt2_twentyFiveBeam_scientific]  # in seconds\n",
        "\n",
        "# Sample data for the second graph\n",
        "num_beams_2 = [\"Normal\",\"2\",\"7\",\"25\"]\n",
        "memory_usage = [distilgpt2_mNormal_scientific,distilgpt2_m2_scientific,distilgpt2_m7_scientific,distilgpt2_m25_scientific]  # in mb\n",
        "\n",
        "# Create two subplots side by side\n",
        "plt.subplot(1, 2, 1)  # 1 row, 2 columns, 1st subplot\n",
        "plt.bar(num_beams_1, response_time, color='blue')\n",
        "plt.xlabel('Number of Beams')\n",
        "plt.ylabel('Response Time (seconds)')\n",
        "plt.title('Response Time (DistilGPT-2)')\n",
        "\n",
        "plt.subplot(1, 2, 2)  # 1 row, 2 columns, 2nd subplot\n",
        "plt.bar(num_beams_2, memory_usage, color='orange')\n",
        "plt.xlabel('Number of Beams')\n",
        "plt.ylabel('Memory Usage (MB)')\n",
        "plt.title('Memory Usage (DistilGPT-2)')\n",
        "\n",
        "# Adjust layout for better visualization\n",
        "plt.tight_layout()\n",
        "\n",
        "# Display the graphs\n",
        "plt.show()\n",
        "\n",
        "print(f\"Response Time for DistilGPT-2 normal search (scientific): {response_time_distilgpt2_normalSearch_scientific} seconds\")\n",
        "print(f\"Response Time for DistilGPT-2 two beam search (scientific): {response_time_distilgpt2_twoBeam_scientific} seconds\")\n",
        "print(f\"Response Time for DistilGPT-2 seven beam search (scientific): {response_time_distilgpt2_sevenBeam_scientific} seconds\")\n",
        "print(f\"Response Time for DistilGPT-2 twenty-five beam search (scientific): {response_time_distilgpt2_twentyFiveBeam_scientific} seconds\")\n",
        "\n",
        "print(\"\")\n",
        "\n",
        "print(f\"Memory Usage for DistilGPT-2 normal search (scientific): {distilgpt2_mNormal_scientific}MB\")\n",
        "print(f\"Memory Usage for DistilGPT-2 two beam search (scientific): {distilgpt2_m2_scientific}MB\")\n",
        "print(f\"Memory Usage for DistilGPT-2 seven beam search (scientific): {distilgpt2_m7_scientific}MB\")\n",
        "print(f\"Memory Usage for DistilGPT-2 twenty-five beam search (scientific): {distilgpt2_m25_scientific}MB\")"
      ]
    },
    {
      "cell_type": "markdown",
      "metadata": {
        "id": "SOEMwbjWaV2Y"
      },
      "source": [
        "<h3><b>BART Results (scientific)</b><h3>"
      ]
    },
    {
      "cell_type": "code",
      "execution_count": null,
      "metadata": {
        "colab": {
          "base_uri": "https://localhost:8080/"
        },
        "id": "ZlHxkIf_aV2Y",
        "outputId": "085b5560-74ca-4ddd-c3d5-f213d0dcf7c4"
      },
      "outputs": [
        {
          "data": {
            "image/png": "[encoded data removed]",
            "text/plain": [
              "<Figure size 432x288 with 2 Axes>"
            ]
          },
          "metadata": {
            "needs_background": "light"
          },
          "output_type": "display_data"
        },
        {
          "name": "stdout",
          "output_type": "stream",
          "text": [
            "Response Time for BART normal search (scientific): 3.2533152103424072 seconds\n",
            "Response Time for BART two beam search (scientific): 4.490650177001953 seconds\n",
            "Response Time for BART seven beam search (scientific): 5.824492454528809 seconds\n",
            "Response Time for BART twenty-five beam search (scientific): 9.088765859603882 seconds\n",
            "\n",
            "Memory Usage for BART normal search (scientific): 1730.65MB\n",
            "Memory Usage for BART two beam search (scientific): 1747.24MB\n",
            "Memory Usage for BART seven beam search (scientific): 1835.16MB\n",
            "Memory Usage for BART twenty-five beam search (scientific): 2168.96MB\n"
          ]
        }
      ],
      "source": [
        "import matplotlib.pyplot as plt\n",
        "\n",
        "# put the memory usage of using one beam to float variable\n",
        "bart_m2_scientific = float(f\"{max(memory_used_bart_twoBeam_scientific):.2f}\")\n",
        "\n",
        "# put the memory usage of using seven beams to float variable\n",
        "bart_m7_scientific = float(f\"{max(memory_used_bart_sevenBeam_scientific):.2f}\")\n",
        "\n",
        "# put the memory usage of using twenty-five beam to float variable\n",
        "bart_m25_scientific = float(f\"{max(memory_used_bart_twentyFiveBeam_scientific):.2f}\")\n",
        "\n",
        "# put the memory usage of normal search to float variable\n",
        "bart_mNormal_scientific = float(f\"{max(memory_used_bart_normalSearch_scientific):.2f}\")\n",
        "\n",
        "# Sample data for the first graph\n",
        "num_beams_1 = [\"Normal\",\"2\",\"7\",\"25\"]\n",
        "response_time = [response_time_bart_normalSearch_scientific,response_time_bart_twoBeam_scientific,response_time_bart_sevenBeam_scientific,response_time_bart_twentyFiveBeam_scientific]  # in seconds\n",
        "\n",
        "# Sample data for the second graph\n",
        "num_beams_2 = [\"Normal\",\"2\",\"7\",\"25\"]\n",
        "memory_usage = [bart_mNormal_scientific,bart_m2_scientific,bart_m7_scientific,bart_m25_scientific]  # in mb\n",
        "\n",
        "# Create two subplots side by side\n",
        "plt.subplot(1, 2, 1)  # 1 row, 2 columns, 1st subplot\n",
        "plt.bar(num_beams_1, response_time, color='blue')\n",
        "plt.xlabel('Number of Beams')\n",
        "plt.ylabel('Response Time (seconds)')\n",
        "plt.title('Response Time (BART))')\n",
        "\n",
        "plt.subplot(1, 2, 2)  # 1 row, 2 columns, 2nd subplot\n",
        "plt.bar(num_beams_2, memory_usage, color='orange')\n",
        "plt.xlabel('Number of Beams')\n",
        "plt.ylabel('Memory Usage (MB)')\n",
        "plt.title('Memory Usage (BART)')\n",
        "\n",
        "# Adjust layout for better visualization\n",
        "plt.tight_layout()\n",
        "\n",
        "# Display the graphs\n",
        "plt.show()\n",
        "\n",
        "\n",
        "print(f\"Response Time for BART normal search (scientific): {response_time_bart_normalSearch_scientific} seconds\")\n",
        "print(f\"Response Time for BART two beam search (scientific): {response_time_bart_twoBeam_scientific} seconds\")\n",
        "print(f\"Response Time for BART seven beam search (scientific): {response_time_bart_sevenBeam_scientific} seconds\")\n",
        "print(f\"Response Time for BART twenty-five beam search (scientific): {response_time_bart_twentyFiveBeam_scientific} seconds\")\n",
        "\n",
        "print(\"\")\n",
        "\n",
        "print(f\"Memory Usage for BART normal search (scientific): {bart_mNormal_scientific}MB\")\n",
        "print(f\"Memory Usage for BART two beam search (scientific): {bart_m2_scientific}MB\")\n",
        "print(f\"Memory Usage for BART seven beam search (scientific): {bart_m7_scientific}MB\")\n",
        "print(f\"Memory Usage for BART twenty-five beam search (scientific): {bart_m25_scientific}MB\")"
      ]
    },
    {
      "cell_type": "markdown",
      "metadata": {
        "id": "38kkCOYDaV2Y"
      },
      "source": [
        "<h3><b>Comparison of Response Time for Normal, 2 , 7 and 25 beam search for each model type (Scientific Text Generation)</b><h3>"
      ]
    },
    {
      "cell_type": "code",
      "execution_count": null,
      "metadata": {
        "colab": {
          "base_uri": "https://localhost:8080/"
        },
        "id": "0Fb02ecQaV2Z",
        "outputId": "179901ab-80e7-4a39-bfc7-ffe47f7e79db"
      },
      "outputs": [
        {
          "data": {
            "image/png": "[encoded data removed]",
            "text/plain": [
              "<Figure size 1152x288 with 4 Axes>"
            ]
          },
          "metadata": {
            "needs_background": "light"
          },
          "output_type": "display_data"
        },
        {
          "name": "stdout",
          "output_type": "stream",
          "text": [
            "Response Time for GPT2 normal search: 2.316521644592285 seconds\n",
            "Response Time for DistilGPT2 normal search: 1.5202558040618896 seconds\n",
            "Response Time for BART normal search: 3.2533152103424072 seconds\n",
            "\n",
            "Response Time for GPT2 two beam search: 3.212313175201416 seconds\n",
            "Response Time for DistilGPT2 two beam search: 1.6953058242797852 seconds\n",
            "Response Time for BART two beam search: 4.490650177001953 seconds\n",
            "\n",
            "Response Time for GPT2 seven beam search: 5.661749839782715 seconds\n",
            "Response Time for DistilGPT2 seven beam search: 3.116053581237793 seconds\n",
            "Response Time for BART seven beam search: 5.824492454528809 seconds\n",
            "\n",
            "Response Time for GPT2 twenty five beam search: 12.293911457061768 seconds\n",
            "Response Time for DistilGPT2 twenty five beam search: 7.5595457553863525 seconds\n",
            "Response Time for BART twenty five beam search: 9.088765859603882 seconds\n"
          ]
        }
      ],
      "source": [
        "import matplotlib.pyplot as plt\n",
        "import numpy as np\n",
        "\n",
        "# Sample data for demonstration\n",
        "model_types = ['GPT-2', 'DistilGPT-2', 'BART']\n",
        "values = np.array([[response_time_gpt2_normalSearch_scientific, response_time_gpt2_twoBeam_scientific, response_time_gpt2_sevenBeam_scientific, response_time_gpt2_twentyFiveBeam_scientific], [response_time_distilgpt2_normalSearch_scientific, response_time_distilgpt2_twoBeam_scientific, response_time_distilgpt2_sevenBeam_scientific, response_time_distilgpt2_twentyFiveBeam_scientific], [response_time_bart_normalSearch_scientific, response_time_bart_twoBeam_scientific, response_time_bart_sevenBeam_scientific, response_time_bart_twentyFiveBeam_scientific]])\n",
        "\n",
        "# Setting up positions for bars\n",
        "bar_width = 0.2\n",
        "bar_positions = np.arange(len(model_types))\n",
        "\n",
        "# Define different labels for each graph\n",
        "labels_list = ['Normal Search', 'Beam Search (2 beams)', 'Beam Search (7 beams)', 'Beam Search (25 beams)']\n",
        "\n",
        "# Transpose the values array to match the correct shape\n",
        "graph_values = values.T.tolist()\n",
        "\n",
        "# Calculate the maximum value among all data points\n",
        "max_value = np.max(values)\n",
        "\n",
        "# Create a figure with a single row and four columns\n",
        "fig, axs = plt.subplots(nrows=1, ncols=4, figsize=(16, 4))\n",
        "\n",
        "# Plotting each bar graph\n",
        "for i, ax in enumerate(axs):\n",
        "    ax.bar(bar_positions, graph_values[i], bar_width, label=labels_list[i])\n",
        "    ax.set_xlabel('Model Types')\n",
        "    ax.set_ylabel('Response Time(Seconds)')\n",
        "    ax.set_title(labels_list[i])\n",
        "\n",
        "    # Adding x-axis ticks and labels\n",
        "    ax.set_xticks(bar_positions)\n",
        "    ax.set_xticklabels(model_types)\n",
        "\n",
        "    # Set a common y-axis range\n",
        "    ax.set_ylim(0, max_value)\n",
        "\n",
        "    # Adding legend\n",
        "    #ax.legend()\n",
        "\n",
        "# Adjust layout for better spacing\n",
        "plt.tight_layout()\n",
        "\n",
        "# Show the plot\n",
        "plt.show()\n",
        "\n",
        "print(f\"Response Time for GPT2 normal search: {response_time_gpt2_normalSearch_scientific} seconds\")\n",
        "print(f\"Response Time for DistilGPT2 normal search: {response_time_distilgpt2_normalSearch_scientific} seconds\")\n",
        "print(f\"Response Time for BART normal search: {response_time_bart_normalSearch_scientific} seconds\")\n",
        "\n",
        "print(\"\")\n",
        "print(f\"Response Time for GPT2 two beam search: {response_time_gpt2_twoBeam_scientific} seconds\")\n",
        "print(f\"Response Time for DistilGPT2 two beam search: {response_time_distilgpt2_twoBeam_scientific} seconds\")\n",
        "print(f\"Response Time for BART two beam search: { response_time_bart_twoBeam_scientific} seconds\")\n",
        "\n",
        "print(\"\")\n",
        "print(f\"Response Time for GPT2 seven beam search: {response_time_gpt2_sevenBeam_scientific} seconds\")\n",
        "print(f\"Response Time for DistilGPT2 seven beam search: {response_time_distilgpt2_sevenBeam_scientific} seconds\")\n",
        "print(f\"Response Time for BART seven beam search: {response_time_bart_sevenBeam_scientific} seconds\")\n",
        "\n",
        "print(\"\")\n",
        "print(f\"Response Time for GPT2 twenty five beam search: {response_time_gpt2_twentyFiveBeam_scientific} seconds\")\n",
        "print(f\"Response Time for DistilGPT2 twenty five beam search: {response_time_distilgpt2_twentyFiveBeam_scientific} seconds\")\n",
        "print(f\"Response Time for BART twenty five beam search: {response_time_bart_twentyFiveBeam_scientific} seconds\")"
      ]
    },
    {
      "cell_type": "markdown",
      "metadata": {
        "id": "OXlVD78gaV2Z"
      },
      "source": [
        "<h3><b>Comparison of Memory Usage for Normal, 2 , 7 and 25 beam search for each model type (Scientific Text Generation)</b><h3>"
      ]
    },
    {
      "cell_type": "code",
      "execution_count": null,
      "metadata": {
        "colab": {
          "base_uri": "https://localhost:8080/"
        },
        "id": "f12qLsItaV2Z",
        "outputId": "287a2b40-9327-4cd0-e66a-7549bdcb27cc"
      },
      "outputs": [
        {
          "data": {
            "image/png": "[encoded data removed]",
            "text/plain": [
              "<Figure size 1152x288 with 4 Axes>"
            ]
          },
          "metadata": {
            "needs_background": "light"
          },
          "output_type": "display_data"
        },
        {
          "name": "stdout",
          "output_type": "stream",
          "text": [
            "Memory Usage for GPT2 normal search: 663.43MB\n",
            "Memory Usage for DistilGPT2 normal search: 490.4MB\n",
            "Memory Usage for BART normal search: 1730.65MB\n",
            "\n",
            "Memory Usage for GPT2 two beam search: 680.62MB\n",
            "Memory Usage for DistilGPT2 two beam search: 507.58MB\n",
            "Memory Usage for BART two beam search: 1747.24MB\n",
            "\n",
            "Memory Usage for GPT2 seven beam search: 784.31MB\n",
            "Memory Usage for DistilGPT2 seven beam search: 544.48MB\n",
            "Memory Usage for BART seven beam search: 1835.16MB\n",
            "\n",
            "Memory Usage for GPT2 twenty five beam search: 1163.44MB\n",
            "Memory Usage for DistilGPT2 twenty five beam search: 748.29MB\n",
            "Memory Usage for BART twenty five beam search: 2168.96MB\n"
          ]
        }
      ],
      "source": [
        "import matplotlib.pyplot as plt\n",
        "import numpy as np\n",
        "\n",
        "# Sample data for demonstration\n",
        "model_types = ['GPT-2', 'DistilGPT-2', 'BART']\n",
        "values = np.array([[gpt2_mNormal_scientific, gpt2_m2_scientific, gpt2_m7_scientific, gpt2_m25_scientific], [distilgpt2_mNormal_scientific, distilgpt2_m2_scientific, distilgpt2_m7_scientific, distilgpt2_m25_scientific], [bart_mNormal_scientific, bart_m2_scientific, bart_m7_scientific, bart_m25_scientific]])\n",
        "\n",
        "# Setting up positions for bars\n",
        "bar_width = 0.2\n",
        "bar_positions = np.arange(len(model_types))\n",
        "\n",
        "# Define different labels for each graph\n",
        "labels_list = ['Normal Search', 'Beam Search (2 beams)', 'Beam Search (7 beams)', 'Beam Search (25 beams)']\n",
        "\n",
        "# Transpose the values array to match the correct shape\n",
        "graph_values = values.T.tolist()\n",
        "\n",
        "# Calculate the maximum value among all data points\n",
        "max_value = np.max(values)\n",
        "\n",
        "# Create a figure with a single row and four columns\n",
        "fig, axs = plt.subplots(nrows=1, ncols=4, figsize=(16, 4))\n",
        "\n",
        "# Plotting each bar graph\n",
        "for i, ax in enumerate(axs):\n",
        "    ax.bar(bar_positions, graph_values[i], bar_width, label=labels_list[i])\n",
        "    ax.set_xlabel('Model Types')\n",
        "    ax.set_ylabel('Memory Usage (MB)')\n",
        "    ax.set_title(labels_list[i])\n",
        "\n",
        "    # Adding x-axis ticks and labels\n",
        "    ax.set_xticks(bar_positions)\n",
        "    ax.set_xticklabels(model_types)\n",
        "\n",
        "    # Set a common y-axis range\n",
        "    ax.set_ylim(0, max_value)\n",
        "\n",
        "    # Adding legend\n",
        "    #ax.legend()\n",
        "\n",
        "# Adjust layout for better spacing\n",
        "plt.tight_layout()\n",
        "\n",
        "# Show the plot\n",
        "plt.show()\n",
        "\n",
        "print(f\"Memory Usage for GPT2 normal search: {gpt2_mNormal_scientific}MB\")\n",
        "print(f\"Memory Usage for DistilGPT2 normal search: {distilgpt2_mNormal_scientific}MB\")\n",
        "print(f\"Memory Usage for BART normal search: {bart_mNormal_scientific}MB\")\n",
        "\n",
        "print(\"\")\n",
        "print(f\"Memory Usage for GPT2 two beam search: {gpt2_m2_scientific}MB\")\n",
        "print(f\"Memory Usage for DistilGPT2 two beam search: {distilgpt2_m2_scientific}MB\")\n",
        "print(f\"Memory Usage for BART two beam search: {bart_m2_scientific}MB\")\n",
        "\n",
        "print(\"\")\n",
        "print(f\"Memory Usage for GPT2 seven beam search: {gpt2_m7_scientific}MB\")\n",
        "print(f\"Memory Usage for DistilGPT2 seven beam search: {distilgpt2_m7_scientific}MB\")\n",
        "print(f\"Memory Usage for BART seven beam search: {bart_m7_scientific}MB\")\n",
        "\n",
        "print(\"\")\n",
        "print(f\"Memory Usage for GPT2 twenty five beam search: {gpt2_m25_scientific}MB\")\n",
        "print(f\"Memory Usage for DistilGPT2 twenty five beam search: {distilgpt2_m25_scientific}MB\")\n",
        "print(f\"Memory Usage for BART twenty five beam search: {bart_m25_scientific}MB\")"
      ]
    },
    {
      "cell_type": "markdown",
      "metadata": {
        "id": "CNU_Hd0ObCRy"
      },
      "source": []
    },
    {
      "cell_type": "markdown",
      "metadata": {
        "id": "SkkDzzTObCmU"
      },
      "source": [
        "## <h3><b>Translated Text Results</b><h3>"
      ]
    },
    {
      "cell_type": "markdown",
      "metadata": {
        "id": "WghSFlZqbCmU"
      },
      "source": [
        "### <h3><b>Translated text results (French)</b><h3>"
      ]
    },
    {
      "cell_type": "code",
      "execution_count": null,
      "metadata": {
        "colab": {
          "base_uri": "https://localhost:8080/"
        },
        "id": "QQRqffB3bCmU",
        "outputId": "a964f712-8154-4476-ac3f-a8cdf7329be0"
      },
      "outputs": [
        {
          "data": {
            "text/html": [
              "<div>\n",
              "<style scoped>\n",
              "    .dataframe tbody tr th:only-of-type {\n",
              "        vertical-align: middle;\n",
              "    }\n",
              "\n",
              "    .dataframe tbody tr th {\n",
              "        vertical-align: top;\n",
              "    }\n",
              "\n",
              "    .dataframe thead th {\n",
              "        text-align: right;\n",
              "    }\n",
              "</style>\n",
              "<table border=\"1\" class=\"dataframe\">\n",
              "  <thead>\n",
              "    <tr style=\"text-align: right;\">\n",
              "      <th></th>\n",
              "      <th>Beam Search</th>\n",
              "      <th>Generated Text</th>\n",
              "      <th>Response Time(s)</th>\n",
              "      <th>Memory Usage(MB)</th>\n",
              "    </tr>\n",
              "  </thead>\n",
              "  <tbody>\n",
              "    <tr>\n",
              "      <th>0</th>\n",
              "      <td>Normal</td>\n",
              "      <td>Les ordinateurs ont révolutionné la façon dont...</td>\n",
              "      <td>2.36</td>\n",
              "      <td>527.59</td>\n",
              "    </tr>\n",
              "    <tr>\n",
              "      <th>1</th>\n",
              "      <td>2</td>\n",
              "      <td>Les ordinateurs ont révolutionné notre façon d...</td>\n",
              "      <td>1.62</td>\n",
              "      <td>486.30</td>\n",
              "    </tr>\n",
              "    <tr>\n",
              "      <th>2</th>\n",
              "      <td>7</td>\n",
              "      <td>Les ordinateurs ont révolutionné la façon dont...</td>\n",
              "      <td>2.94</td>\n",
              "      <td>535.91</td>\n",
              "    </tr>\n",
              "    <tr>\n",
              "      <th>3</th>\n",
              "      <td>25</td>\n",
              "      <td>Les ordinateurs ont révolutionné la façon dont...</td>\n",
              "      <td>8.53</td>\n",
              "      <td>700.63</td>\n",
              "    </tr>\n",
              "  </tbody>\n",
              "</table>\n",
              "</div>"
            ],
            "text/plain": [
              "  Beam Search                                     Generated Text  \\\n",
              "0      Normal  Les ordinateurs ont révolutionné la façon dont...   \n",
              "1           2  Les ordinateurs ont révolutionné notre façon d...   \n",
              "2           7  Les ordinateurs ont révolutionné la façon dont...   \n",
              "3          25  Les ordinateurs ont révolutionné la façon dont...   \n",
              "\n",
              "  Response Time(s)  Memory Usage(MB)  \n",
              "0             2.36            527.59  \n",
              "1             1.62            486.30  \n",
              "2             2.94            535.91  \n",
              "3             8.53            700.63  "
            ]
          },
          "execution_count": 67,
          "metadata": {},
          "output_type": "execute_result"
        }
      ],
      "source": [
        "import pandas as pd\n",
        "\n",
        "# Sample data\n",
        "data = {\n",
        "    'Beam Search': [\"Normal\", 2, 7, 25],\n",
        "    'Generated Text': [\n",
        "         translated_text_MarianMTFrench_normalSearch,\n",
        "         translated_text_MarianMTFrench_twoBeam,\n",
        "        translated_text_MarianMTFrench_sevenBeam,\n",
        "        translated_text_MarianMTFrench_twentyFiveBeam\n",
        "    ],\n",
        "    'Response Time(s)': [f\"{response_time_MarianMTFrench_normalSearch:.2f}\", f\"{response_time_MarianMTFrench_twoBeam:.2f}\", f\"{response_time_MarianMTFrench_sevenBeam:.2f}\", f\"{response_time_MarianMTFrench_twentyFiveBeam:.2f}\"],\n",
        "    'Memory Usage(MB)': [marianMTFrench_mNormal, marianMTFrench_m2, marianMTFrench_m7, marianMTFrench_m25]\n",
        "}\n",
        "\n",
        "# Create a DataFrame\n",
        "df = pd.DataFrame(data)\n",
        "\n",
        "# Display the DataFrame\n",
        "df"
      ]
    },
    {
      "cell_type": "markdown",
      "metadata": {
        "id": "_3UHOilKbCmU"
      },
      "source": [
        "### <h3><b>Translated text results (Bahasa Indonesia)</b><h3>"
      ]
    },
    {
      "cell_type": "code",
      "execution_count": null,
      "metadata": {
        "colab": {
          "base_uri": "https://localhost:8080/"
        },
        "id": "IReWr1IGbCmV",
        "outputId": "cb23764a-a132-4d34-d9fd-9f283aedd2a3"
      },
      "outputs": [
        {
          "data": {
            "text/html": [
              "<div>\n",
              "<style scoped>\n",
              "    .dataframe tbody tr th:only-of-type {\n",
              "        vertical-align: middle;\n",
              "    }\n",
              "\n",
              "    .dataframe tbody tr th {\n",
              "        vertical-align: top;\n",
              "    }\n",
              "\n",
              "    .dataframe thead th {\n",
              "        text-align: right;\n",
              "    }\n",
              "</style>\n",
              "<table border=\"1\" class=\"dataframe\">\n",
              "  <thead>\n",
              "    <tr style=\"text-align: right;\">\n",
              "      <th></th>\n",
              "      <th>Beam Search</th>\n",
              "      <th>Generated Text</th>\n",
              "      <th>Response Time(s)</th>\n",
              "      <th>Memory Usage(MB)</th>\n",
              "    </tr>\n",
              "  </thead>\n",
              "  <tbody>\n",
              "    <tr>\n",
              "      <th>0</th>\n",
              "      <td>Normal</td>\n",
              "      <td>komputer telah merevolusi cara kita hidup dan ...</td>\n",
              "      <td>2.00</td>\n",
              "      <td>516.36</td>\n",
              "    </tr>\n",
              "    <tr>\n",
              "      <th>1</th>\n",
              "      <td>2</td>\n",
              "      <td>Komputer telah merevolusi cara kita hidup dan ...</td>\n",
              "      <td>1.46</td>\n",
              "      <td>485.68</td>\n",
              "    </tr>\n",
              "    <tr>\n",
              "      <th>2</th>\n",
              "      <td>7</td>\n",
              "      <td>komputer telah merevolusi cara kita hidup dan ...</td>\n",
              "      <td>2.63</td>\n",
              "      <td>529.76</td>\n",
              "    </tr>\n",
              "    <tr>\n",
              "      <th>3</th>\n",
              "      <td>25</td>\n",
              "      <td>Komputer telah merevolusi cara kita hidup dan ...</td>\n",
              "      <td>6.59</td>\n",
              "      <td>684.99</td>\n",
              "    </tr>\n",
              "  </tbody>\n",
              "</table>\n",
              "</div>"
            ],
            "text/plain": [
              "  Beam Search                                     Generated Text  \\\n",
              "0      Normal  komputer telah merevolusi cara kita hidup dan ...   \n",
              "1           2  Komputer telah merevolusi cara kita hidup dan ...   \n",
              "2           7  komputer telah merevolusi cara kita hidup dan ...   \n",
              "3          25  Komputer telah merevolusi cara kita hidup dan ...   \n",
              "\n",
              "  Response Time(s)  Memory Usage(MB)  \n",
              "0             2.00            516.36  \n",
              "1             1.46            485.68  \n",
              "2             2.63            529.76  \n",
              "3             6.59            684.99  "
            ]
          },
          "execution_count": 68,
          "metadata": {},
          "output_type": "execute_result"
        }
      ],
      "source": [
        "import pandas as pd\n",
        "\n",
        "# Sample data\n",
        "data = {\n",
        "    'Beam Search': [\"Normal\", 2, 7, 25],\n",
        "    'Generated Text': [\n",
        "         translated_text_MarianMTIndonesian_normalSearch,\n",
        "         translated_text_MarianMTIndonesian_twoBeam,\n",
        "        translated_text_MarianMTIndonesian_sevenBeam,\n",
        "        translated_text_MarianMTIndonesian_twentyFiveBeam\n",
        "    ],\n",
        "    'Response Time(s)': [f\"{response_time_MarianMTIndonesian_normalSearch:.2f}\", f\"{response_time_MarianMTIndonesian_twoBeam:.2f}\", f\"{response_time_MarianMTIndonesian_sevenBeam:.2f}\", f\"{response_time_MarianMTIndonesian_twentyFiveBeam:.2f}\"],\n",
        "    'Memory Usage(MB)': [marianMTIndonesian_mNormal, marianMTIndonesian_m2, marianMTIndonesian_m7, marianMTIndonesian_m25]\n",
        "}\n",
        "\n",
        "# Create a DataFrame\n",
        "df = pd.DataFrame(data)\n",
        "\n",
        "# Display the DataFrame\n",
        "df"
      ]
    },
    {
      "cell_type": "markdown",
      "metadata": {
        "id": "OK_BieivbCmV"
      },
      "source": [
        "### <h3><b>Translated text results (Chinese)</b><h3>"
      ]
    },
    {
      "cell_type": "code",
      "execution_count": null,
      "metadata": {
        "colab": {
          "base_uri": "https://localhost:8080/"
        },
        "id": "YWV71W4UbCmV",
        "outputId": "792c1076-a16b-4468-a08b-dae31f1cec9d"
      },
      "outputs": [
        {
          "data": {
            "text/html": [
              "<div>\n",
              "<style scoped>\n",
              "    .dataframe tbody tr th:only-of-type {\n",
              "        vertical-align: middle;\n",
              "    }\n",
              "\n",
              "    .dataframe tbody tr th {\n",
              "        vertical-align: top;\n",
              "    }\n",
              "\n",
              "    .dataframe thead th {\n",
              "        text-align: right;\n",
              "    }\n",
              "</style>\n",
              "<table border=\"1\" class=\"dataframe\">\n",
              "  <thead>\n",
              "    <tr style=\"text-align: right;\">\n",
              "      <th></th>\n",
              "      <th>Beam Search</th>\n",
              "      <th>Generated Text</th>\n",
              "      <th>Response Time(s)</th>\n",
              "      <th>Memory Usage(MB)</th>\n",
              "    </tr>\n",
              "  </thead>\n",
              "  <tbody>\n",
              "    <tr>\n",
              "      <th>0</th>\n",
              "      <td>Normal</td>\n",
              "      <td>计算机改变了我们的生活和工作方式。第一台电子计算机ENIAC(ENIAC)规模庞大,重量近3...</td>\n",
              "      <td>2.31</td>\n",
              "      <td>538.48</td>\n",
              "    </tr>\n",
              "    <tr>\n",
              "      <th>1</th>\n",
              "      <td>2</td>\n",
              "      <td>计算机已经改变了我们的生活和工作方式。第一台电子计算机,即ENIAC,规模庞大,重量近30吨...</td>\n",
              "      <td>1.67</td>\n",
              "      <td>511.83</td>\n",
              "    </tr>\n",
              "    <tr>\n",
              "      <th>2</th>\n",
              "      <td>7</td>\n",
              "      <td>计算机改变了我们的生活和工作方式。第一台电子计算机ENIAC(ENIAC)规模庞大,重量近3...</td>\n",
              "      <td>3.17</td>\n",
              "      <td>548.30</td>\n",
              "    </tr>\n",
              "    <tr>\n",
              "      <th>3</th>\n",
              "      <td>25</td>\n",
              "      <td>计算机使我们的生活和工作方式发生了革命性的变化。第一台电子计算机ENIAC(ENIAC)规模...</td>\n",
              "      <td>8.19</td>\n",
              "      <td>724.89</td>\n",
              "    </tr>\n",
              "  </tbody>\n",
              "</table>\n",
              "</div>"
            ],
            "text/plain": [
              "  Beam Search                                     Generated Text  \\\n",
              "0      Normal  计算机改变了我们的生活和工作方式。第一台电子计算机ENIAC(ENIAC)规模庞大,重量近3...   \n",
              "1           2  计算机已经改变了我们的生活和工作方式。第一台电子计算机,即ENIAC,规模庞大,重量近30吨...   \n",
              "2           7  计算机改变了我们的生活和工作方式。第一台电子计算机ENIAC(ENIAC)规模庞大,重量近3...   \n",
              "3          25  计算机使我们的生活和工作方式发生了革命性的变化。第一台电子计算机ENIAC(ENIAC)规模...   \n",
              "\n",
              "  Response Time(s)  Memory Usage(MB)  \n",
              "0             2.31            538.48  \n",
              "1             1.67            511.83  \n",
              "2             3.17            548.30  \n",
              "3             8.19            724.89  "
            ]
          },
          "execution_count": 69,
          "metadata": {},
          "output_type": "execute_result"
        }
      ],
      "source": [
        "import pandas as pd\n",
        "\n",
        "# Sample data\n",
        "data = {\n",
        "    'Beam Search': [\"Normal\", 2, 7, 25],\n",
        "    'Generated Text': [\n",
        "         translated_text_MarianMTChinese_normalSearch,\n",
        "         translated_text_MarianMTChinese_twoBeam,\n",
        "        translated_text_MarianMTChinese_sevenBeam,\n",
        "        translated_text_MarianMTChinese_twentyFiveBeam\n",
        "    ],\n",
        "    'Response Time(s)': [f\"{response_time_MarianMTChinese_normalSearch:.2f}\", f\"{response_time_MarianMTChinese_twoBeam:.2f}\", f\"{response_time_MarianMTChinese_sevenBeam:.2f}\", f\"{response_time_MarianMTChinese_twentyFiveBeam:.2f}\"],\n",
        "    'Memory Usage(MB)': [marianMTChinese_mNormal, marianMTChinese_m2, marianMTChinese_m7, marianMTChinese_m25]\n",
        "}\n",
        "\n",
        "# Create a DataFrame\n",
        "df = pd.DataFrame(data)\n",
        "\n",
        "# Display the DataFrame\n",
        "df"
      ]
    },
    {
      "cell_type": "markdown",
      "source": [
        "# <b>Conclusion</b>"
      ],
      "metadata": {
        "id": "j1CnXn69FYjw"
      }
    },
    {
      "cell_type": "markdown",
      "source": [
        "<h4><b>Key findings for Text Generation (Creative/Scientific)</b><h4>\n",
        "\n",
        "1. Response Time increases as number of beam search increases\n",
        "\n",
        "2. Higher number of beam search does not necessarily means the memory will increase by much\n",
        "\n",
        "3. DistilGPT2 has the fastest response time among the 3 models\n",
        "\n",
        "4. BART has the largest memory usage among the 3 models\n",
        "\n",
        "5. DistilGPT2 has the lowest memory usage among the 3 models\n",
        "\n",
        "6. For creative and scientific text generation, GPT2 and BART take around the same timing but for DISTILGPT2 it takes longer for scientific than creative\n",
        "\n",
        "7. Scientific text generation takes more memory usage than creative text generation\n",
        "\n",
        "8. Increasing number of beams can yield different kind of generated texts"
      ],
      "metadata": {
        "id": "KTJTW6rRFaAG"
      }
    },
    {
      "cell_type": "markdown",
      "source": [
        "<h4><b>Key findings for Translated Text (French,Bahasa Indonesia, Chinese) :<h4>\n",
        "\n",
        "1. It takes about the same time to translate from English to all 3 languages\n",
        "\n",
        "2. Increasing the number of beams for text translation does not give different output unlike text generation, so using normal search or 2 beams is good enough\n",
        "\n",
        "3. Memory usage is about the same for all 3 translated language"
      ],
      "metadata": {
        "id": "2-PK3NBlFeJ_"
      }
    }
  ],
  "metadata": {
    "colab": {
      "provenance": []
    },
    "kernelspec": {
      "display_name": "Python 3 (ipykernel)",
      "language": "python",
      "name": "python3"
    },
    "language_info": {
      "codemirror_mode": {
        "name": "ipython",
        "version": 3
      },
      "file_extension": ".py",
      "mimetype": "text/x-python",
      "name": "python",
      "nbconvert_exporter": "python",
      "pygments_lexer": "ipython3",
      "version": "3.10.5"
    }
  },
  "nbformat": 4,
  "nbformat_minor": 0
}